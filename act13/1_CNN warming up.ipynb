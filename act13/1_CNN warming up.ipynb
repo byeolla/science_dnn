{
 "cells": [
  {
   "cell_type": "markdown",
   "metadata": {
    "id": "5wSQVJcgWaEE"
   },
   "source": [
    "## Basics\n",
    "\n",
    "one layer consists of \n",
    "\n",
    "conv (nn.Conv2d) + Activation function (nn.ReLU) + maxpooling (nn.MaxPoold2d)\n",
    "\n",
    "The model consists of three layers\n",
    "\n",
    "Layer 1 : Convolutional layer:\n",
    "conv (in_channel = 1, out_channel = 32, kernel_size=3, stride=1, padding=1) +  ReLU\n",
    "maxpooling (kernel_size=2, stride=2))\n",
    "\n",
    "Layer 2: Convolutional layer:\n",
    "conv (in_channel = 32, out_channel = 64, kernel_size=3, stride=1, padding=1) + ReLU\n",
    "maxpooling(kernel_size=2, stride=2))\n",
    "\n",
    "Layer 3: Fully-Connected layer:\n",
    "batch_size × 7 × 7 × 64 → batch_size × 3136\n",
    "\n",
    "Neuron 10 with Softmax"
   ]
  },
  {
   "cell_type": "code",
   "execution_count": 1,
   "metadata": {
    "executionInfo": {
     "elapsed": 1750,
     "status": "ok",
     "timestamp": 1669190600396,
     "user": {
      "displayName": "Youngjoon Hong",
      "userId": "12775120309634495778"
     },
     "user_tz": -540
    },
    "id": "AjwbPDWtWaEG"
   },
   "outputs": [],
   "source": [
    "import torch\n",
    "import torch.nn as nn"
   ]
  },
  {
   "cell_type": "code",
   "execution_count": 2,
   "metadata": {
    "colab": {
     "base_uri": "https://localhost:8080/"
    },
    "executionInfo": {
     "elapsed": 473,
     "status": "ok",
     "timestamp": 1669190715153,
     "user": {
      "displayName": "Youngjoon Hong",
      "userId": "12775120309634495778"
     },
     "user_tz": -540
    },
    "id": "wLMYKWPwWaEH",
    "outputId": "7019aff2-72b9-47eb-a042-9d27e018458c"
   },
   "outputs": [
    {
     "name": "stdout",
     "output_type": "stream",
     "text": [
      "Tensor shape : torch.Size([1, 1, 28, 28])\n"
     ]
    }
   ],
   "source": [
    "# Set a tensor with 1 × 1 × 28 × 28\n",
    "# batch size × channel × height × widht\n",
    "inputs = torch.Tensor(1, 1, 28, 28)\n",
    "print('Tensor shape : {}'.format(inputs.shape))"
   ]
  },
  {
   "cell_type": "markdown",
   "metadata": {
    "id": "l7FB25TIWaEH"
   },
   "source": [
    "Layer 1: input is 1 channel and output 32 channels with kernel 3 and padding 1 "
   ]
  },
  {
   "cell_type": "code",
   "execution_count": 3,
   "metadata": {
    "colab": {
     "base_uri": "https://localhost:8080/"
    },
    "executionInfo": {
     "elapsed": 461,
     "status": "ok",
     "timestamp": 1669190729272,
     "user": {
      "displayName": "Youngjoon Hong",
      "userId": "12775120309634495778"
     },
     "user_tz": -540
    },
    "id": "b1i1x3seWaEI",
    "outputId": "29a8fe0b-8361-45c2-d182-bebc39fb193f"
   },
   "outputs": [
    {
     "name": "stdout",
     "output_type": "stream",
     "text": [
      "Conv2d(1, 32, kernel_size=(3, 3), stride=(1, 1), padding=(1, 1))\n"
     ]
    }
   ],
   "source": [
    "conv1 = nn.Conv2d(1, 32, 3, padding=1)\n",
    "print(conv1)\n",
    "#(n+2p-f)/s + 1"
   ]
  },
  {
   "cell_type": "markdown",
   "metadata": {
    "id": "CHANgEocWaEI"
   },
   "source": [
    "Layer 2: input 32 channel and output 64 channels with kernel 3 and padding 1 \n",
    "\n",
    "####  if input image n*n, filter size f*f, padding = f, stride = s\n",
    "\n",
    "#### -> output shape = (floor((n+2p-f)/s) + 1) * (floor((n+2p-f)/s) + 1)"
   ]
  },
  {
   "cell_type": "code",
   "execution_count": 4,
   "metadata": {
    "colab": {
     "base_uri": "https://localhost:8080/"
    },
    "executionInfo": {
     "elapsed": 466,
     "status": "ok",
     "timestamp": 1669190853920,
     "user": {
      "displayName": "Youngjoon Hong",
      "userId": "12775120309634495778"
     },
     "user_tz": -540
    },
    "id": "wtfnv4R9WaEI",
    "outputId": "81271c02-77b5-4d26-e78d-db74e5d977a6"
   },
   "outputs": [
    {
     "name": "stdout",
     "output_type": "stream",
     "text": [
      "Conv2d(32, 64, kernel_size=(3, 3), stride=(1, 1), padding=(1, 1))\n"
     ]
    }
   ],
   "source": [
    "conv2 = nn.Conv2d(32, 64, kernel_size=3, padding=1)\n",
    "print(conv2)\n",
    "#(n+2p-f)/s + 1"
   ]
  },
  {
   "cell_type": "markdown",
   "metadata": {
    "id": "DgA95nKbWaEJ"
   },
   "source": [
    "Maxpooling: kernel = 2, stride = 2"
   ]
  },
  {
   "cell_type": "code",
   "execution_count": 5,
   "metadata": {
    "colab": {
     "base_uri": "https://localhost:8080/"
    },
    "executionInfo": {
     "elapsed": 685,
     "status": "ok",
     "timestamp": 1669190875109,
     "user": {
      "displayName": "Youngjoon Hong",
      "userId": "12775120309634495778"
     },
     "user_tz": -540
    },
    "id": "cBd-vs0ZWaEJ",
    "outputId": "4888a25d-2f4e-4f12-a81a-e5e733c425cf"
   },
   "outputs": [
    {
     "name": "stdout",
     "output_type": "stream",
     "text": [
      "MaxPool2d(kernel_size=3, stride=2, padding=0, dilation=1, ceil_mode=False)\n",
      "MaxPool2d(kernel_size=2, stride=2, padding=0, dilation=1, ceil_mode=False)\n"
     ]
    }
   ],
   "source": [
    "pool = nn.MaxPool2d(3, stride=2)\n",
    "print(pool)\n",
    "pool = nn.MaxPool2d(2)\n",
    "print(pool)"
   ]
  },
  {
   "cell_type": "markdown",
   "metadata": {
    "id": "v7zPbQB9WaEJ"
   },
   "source": [
    "Let's connect them"
   ]
  },
  {
   "cell_type": "code",
   "execution_count": 6,
   "metadata": {
    "colab": {
     "base_uri": "https://localhost:8080/"
    },
    "executionInfo": {
     "elapsed": 5,
     "status": "ok",
     "timestamp": 1669190887202,
     "user": {
      "displayName": "Youngjoon Hong",
      "userId": "12775120309634495778"
     },
     "user_tz": -540
    },
    "id": "9ig07npYWaEJ",
    "outputId": "fd8cf0fa-0d9f-4e1f-851f-64f1fcb0e191"
   },
   "outputs": [
    {
     "name": "stdout",
     "output_type": "stream",
     "text": [
      "torch.Size([1, 32, 28, 28])\n"
     ]
    }
   ],
   "source": [
    "out = conv1(inputs)\n",
    "print(out.shape)"
   ]
  },
  {
   "cell_type": "markdown",
   "metadata": {
    "id": "FhJjS4WEWaEJ"
   },
   "source": [
    "32 channel,  28 width, 28 heigth tensor\n",
    "\n",
    "conv1의 out_channel은 32 -> 그래서 32 channel\n",
    "\n",
    "padding = 1, kernel = 3 × 3 -> 28 width, 28 heigth -> 크기 보존\n",
    "\n",
    "Now, maxpooling:"
   ]
  },
  {
   "cell_type": "code",
   "execution_count": 7,
   "metadata": {
    "colab": {
     "base_uri": "https://localhost:8080/"
    },
    "executionInfo": {
     "elapsed": 457,
     "status": "ok",
     "timestamp": 1669190901691,
     "user": {
      "displayName": "Youngjoon Hong",
      "userId": "12775120309634495778"
     },
     "user_tz": -540
    },
    "id": "4FW14DptWaEK",
    "outputId": "de93b146-85f4-4109-c7ab-8306bb05fed9"
   },
   "outputs": [
    {
     "name": "stdout",
     "output_type": "stream",
     "text": [
      "torch.Size([1, 32, 14, 14])\n"
     ]
    }
   ],
   "source": [
    "out = pool(out)\n",
    "print(out.shape)"
   ]
  },
  {
   "cell_type": "markdown",
   "metadata": {
    "id": "TIp0BEgdWaEK"
   },
   "source": [
    "For the conv2"
   ]
  },
  {
   "cell_type": "code",
   "execution_count": 8,
   "metadata": {
    "colab": {
     "base_uri": "https://localhost:8080/"
    },
    "executionInfo": {
     "elapsed": 481,
     "status": "ok",
     "timestamp": 1669190912350,
     "user": {
      "displayName": "Youngjoon Hong",
      "userId": "12775120309634495778"
     },
     "user_tz": -540
    },
    "id": "WZEFQOJhWaEK",
    "outputId": "eb9b8ac7-2efc-439c-c9d2-6fa8cf7d9e96"
   },
   "outputs": [
    {
     "name": "stdout",
     "output_type": "stream",
     "text": [
      "torch.Size([1, 64, 14, 14])\n"
     ]
    }
   ],
   "source": [
    "out = conv2(out)\n",
    "print(out.shape)"
   ]
  },
  {
   "cell_type": "markdown",
   "metadata": {
    "id": "q77cYAQMWaEK"
   },
   "source": [
    "64 channel,  14 width, 14 heigth tensor\n",
    "conv1의 out_channel은 64 -> 그래서 64 channel\n",
    "padding = 1, kernel = 3 × 3 -> 14 width, 14 heigth -> 크기 보존"
   ]
  },
  {
   "cell_type": "code",
   "execution_count": 9,
   "metadata": {
    "colab": {
     "base_uri": "https://localhost:8080/"
    },
    "executionInfo": {
     "elapsed": 453,
     "status": "ok",
     "timestamp": 1669190921641,
     "user": {
      "displayName": "Youngjoon Hong",
      "userId": "12775120309634495778"
     },
     "user_tz": -540
    },
    "id": "TO8NrQE9WaEK",
    "outputId": "9d4c794c-7ca7-414e-f06e-ccf9a456fd7d"
   },
   "outputs": [
    {
     "name": "stdout",
     "output_type": "stream",
     "text": [
      "torch.Size([1, 64, 7, 7])\n"
     ]
    }
   ],
   "source": [
    "out = pool(out)\n",
    "print(out.shape)"
   ]
  },
  {
   "cell_type": "markdown",
   "metadata": {
    "id": "c4-DQmIhWaEK"
   },
   "source": [
    "현재 out의 크기는 1 × 64 × 7 × 7입니다. out의 첫번째 차원이 몇인지 출력"
   ]
  },
  {
   "cell_type": "code",
   "execution_count": 10,
   "metadata": {
    "colab": {
     "base_uri": "https://localhost:8080/"
    },
    "executionInfo": {
     "elapsed": 4,
     "status": "ok",
     "timestamp": 1669190925797,
     "user": {
      "displayName": "Youngjoon Hong",
      "userId": "12775120309634495778"
     },
     "user_tz": -540
    },
    "id": "IXiRN6HCWaEK",
    "outputId": "0f525898-d982-4c15-91cb-fb5b3f887760"
   },
   "outputs": [
    {
     "data": {
      "text/plain": [
       "1"
      ]
     },
     "execution_count": 10,
     "metadata": {},
     "output_type": "execute_result"
    }
   ],
   "source": [
    "out.size(0)"
   ]
  },
  {
   "cell_type": "code",
   "execution_count": 11,
   "metadata": {
    "colab": {
     "base_uri": "https://localhost:8080/"
    },
    "executionInfo": {
     "elapsed": 4,
     "status": "ok",
     "timestamp": 1669190927869,
     "user": {
      "displayName": "Youngjoon Hong",
      "userId": "12775120309634495778"
     },
     "user_tz": -540
    },
    "id": "ZgVLG-dgWaEL",
    "outputId": "b6e9a033-4ccd-4b03-9599-d7eb98944549"
   },
   "outputs": [
    {
     "data": {
      "text/plain": [
       "64"
      ]
     },
     "execution_count": 11,
     "metadata": {},
     "output_type": "execute_result"
    }
   ],
   "source": [
    "out.size(1)"
   ]
  },
  {
   "cell_type": "markdown",
   "metadata": {
    "id": "1_JeV9OsWaEL"
   },
   "source": [
    ".view()를 사용하여 텐서를 펼치자"
   ]
  },
  {
   "cell_type": "code",
   "execution_count": null,
   "metadata": {
    "colab": {
     "base_uri": "https://localhost:8080/"
    },
    "executionInfo": {
     "elapsed": 4,
     "status": "ok",
     "timestamp": 1669104924981,
     "user": {
      "displayName": "Youngjoon Hong",
      "userId": "12775120309634495778"
     },
     "user_tz": -540
    },
    "id": "d3ROMI9DWaEL",
    "outputId": "929e35af-8224-40a0-be67-7560c5d2bd26"
   },
   "outputs": [
    {
     "name": "stdout",
     "output_type": "stream",
     "text": [
      "torch.Size([1, 3136])\n"
     ]
    }
   ],
   "source": [
    "# 첫번째 차원인 배치 차원은 그대로 두고 나머지는 펼쳐라\n",
    "out = out.view(out.size(0), -1) \n",
    "print(out.shape)"
   ]
  },
  {
   "cell_type": "markdown",
   "metadata": {
    "id": "h6PVicPjWaEL"
   },
   "source": [
    "Fully-Connteced layer: output으로 10개의 뉴런을 사용하여 10개 차원의 텐서로 변환"
   ]
  },
  {
   "cell_type": "code",
   "execution_count": null,
   "metadata": {
    "colab": {
     "base_uri": "https://localhost:8080/"
    },
    "executionInfo": {
     "elapsed": 472,
     "status": "ok",
     "timestamp": 1669104929955,
     "user": {
      "displayName": "Youngjoon Hong",
      "userId": "12775120309634495778"
     },
     "user_tz": -540
    },
    "id": "OXjYMlZ1WaEL",
    "outputId": "3d371a0f-0e22-44f8-ad31-5b19f2c34ff1"
   },
   "outputs": [
    {
     "name": "stdout",
     "output_type": "stream",
     "text": [
      "torch.Size([1, 10])\n"
     ]
    }
   ],
   "source": [
    "fc = nn.Linear(3136, 10) # input_dim = 3,136, output_dim = 10\n",
    "out = fc(out)\n",
    "print(out.shape)"
   ]
  },
  {
   "cell_type": "markdown",
   "metadata": {
    "id": "2UcXK8z1WaEL"
   },
   "source": [
    "## Now, Let's classify the MNIST dataset via CNNs."
   ]
  },
  {
   "cell_type": "code",
   "execution_count": null,
   "metadata": {
    "id": "nnlkw6RqWaEL"
   },
   "outputs": [],
   "source": []
  }
 ],
 "metadata": {
  "accelerator": "GPU",
  "colab": {
   "provenance": []
  },
  "gpuClass": "standard",
  "kernelspec": {
   "display_name": "Python 3 (ipykernel)",
   "language": "python",
   "name": "python3"
  },
  "language_info": {
   "codemirror_mode": {
    "name": "ipython",
    "version": 3
   },
   "file_extension": ".py",
   "mimetype": "text/x-python",
   "name": "python",
   "nbconvert_exporter": "python",
   "pygments_lexer": "ipython3",
   "version": "3.9.12"
  }
 },
 "nbformat": 4,
 "nbformat_minor": 4
}
