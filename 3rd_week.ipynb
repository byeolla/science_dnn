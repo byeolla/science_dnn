{
 "cells": [
  {
   "cell_type": "code",
   "execution_count": 5,
   "metadata": {},
   "outputs": [],
   "source": [
    "import numpy as np\n",
    "import matplotlib.pyplot as plt\n",
    "from scipy.special import factorial as sfactorial\n",
    "from copy import copy\n",
    "from time import time\n",
    "%matplotlib inline"
   ]
  },
  {
   "cell_type": "code",
   "execution_count": 6,
   "metadata": {},
   "outputs": [
    {
     "name": "stdout",
     "output_type": "stream",
     "text": [
      "<class 'int'>\n",
      "<class 'float'>\n",
      "<class 'str'>\n",
      "\n",
      "<class 'list'>\n",
      "<class 'list'>\n",
      "<class 'list'>\n",
      "\n",
      "<class 'int'>\n",
      "<class 'float'>\n",
      "<class 'str'>\n"
     ]
    }
   ],
   "source": [
    "x = 1\n",
    "y = 1.\n",
    "z = \"Hi\"\n",
    "\n",
    "xlist = [1, 2, 3]\n",
    "ylist = [1., 2., 3.]\n",
    "zlist = [\"Hi\", \"Howdy\", \"Hello\"]\n",
    "\n",
    "print(type(x))\n",
    "print(type(y))\n",
    "print(type(z))\n",
    "print()\n",
    "print(type(xlist))\n",
    "print(type(ylist))\n",
    "print(type(zlist))\n",
    "print()\n",
    "print(type(xlist[0]))\n",
    "print(type(ylist[0]))\n",
    "print(type(zlist[0]))"
   ]
  },
  {
   "cell_type": "markdown",
   "metadata": {},
   "source": [
    "But since this is a scientific computation class, we have another type. It is the NumPy Array. You have seen this before with the command `np.linspace`. In more detail, when we write the assignment statement `xvals = np.linspace(a, b, n)`\n",
    "\n",
    "we create an array of points `xvals[j]` such that \n",
    "\n",
    "`xvals[j] = a + (b-a)*j/(n-1), j=0, ..., n-1.`\n",
    "\n",
    "Now, this part is important. Note that"
   ]
  },
  {
   "cell_type": "code",
   "execution_count": 7,
   "metadata": {},
   "outputs": [
    {
     "name": "stdout",
     "output_type": "stream",
     "text": [
      "<class 'numpy.ndarray'>\n",
      "[-2.  -1.6 -1.2 -0.8 -0.4  0.   0.4  0.8  1.2  1.6  2. ]\n"
     ]
    }
   ],
   "source": [
    "xvals = np.linspace(-2., 2., int(1e1) + 1) \n",
    "\n",
    "print(type(xvals))\n",
    "print(xvals)"
   ]
  },
  {
   "cell_type": "markdown",
   "metadata": {},
   "source": [
    "So a NumPy array really is not just a Python list. And the difference is huge. In NumPy, I can do arithmetic on arrays. I cannot do arithmetic on Python lists. Let me show you what I mean."
   ]
  },
  {
   "cell_type": "code",
   "execution_count": 8,
   "metadata": {},
   "outputs": [
    {
     "name": "stdout",
     "output_type": "stream",
     "text": [
      "<class 'numpy.ndarray'>\n",
      "<class 'list'>\n",
      "<class 'numpy.ndarray'>\n"
     ]
    },
    {
     "ename": "TypeError",
     "evalue": "unsupported operand type(s) for -: 'list' and 'list'",
     "output_type": "error",
     "traceback": [
      "\u001b[0;31m---------------------------------------------------------------------------\u001b[0m",
      "\u001b[0;31mTypeError\u001b[0m                                 Traceback (most recent call last)",
      "\u001b[1;32m/home/byeolla/science_dnn/3rd_week.ipynb 셀 6\u001b[0m in \u001b[0;36m<cell line: 4>\u001b[0;34m()\u001b[0m\n\u001b[1;32m      <a href='vscode-notebook-cell://wsl%2Bubuntu-20.04/home/byeolla/science_dnn/3rd_week.ipynb#W5sdnNjb2RlLXJlbW90ZQ%3D%3D?line=1'>2</a>\u001b[0m \u001b[39mprint\u001b[39m(\u001b[39mtype\u001b[39m(\u001b[39mlist\u001b[39m(xvals)))\n\u001b[1;32m      <a href='vscode-notebook-cell://wsl%2Bubuntu-20.04/home/byeolla/science_dnn/3rd_week.ipynb#W5sdnNjb2RlLXJlbW90ZQ%3D%3D?line=2'>3</a>\u001b[0m \u001b[39mprint\u001b[39m(\u001b[39mtype\u001b[39m(np\u001b[39m.\u001b[39marray(\u001b[39mlist\u001b[39m(xvals))))\n\u001b[0;32m----> <a href='vscode-notebook-cell://wsl%2Bubuntu-20.04/home/byeolla/science_dnn/3rd_week.ipynb#W5sdnNjb2RlLXJlbW90ZQ%3D%3D?line=3'>4</a>\u001b[0m \u001b[39mprint\u001b[39m(\u001b[39mtype\u001b[39m(\u001b[39mlist\u001b[39;49m(xvals)\u001b[39m-\u001b[39;49m\u001b[39mlist\u001b[39;49m(xvals)))\n",
      "\u001b[0;31mTypeError\u001b[0m: unsupported operand type(s) for -: 'list' and 'list'"
     ]
    }
   ],
   "source": [
    "print(type(xvals-xvals))\n",
    "print(type(list(xvals)))\n",
    "print(type(np.array(list(xvals))))\n",
    "print(type(list(xvals)-list(xvals)))"
   ]
  },
  {
   "cell_type": "markdown",
   "metadata": {},
   "source": [
    "# Vectorization in NumPY\n",
    "\n",
    "We are now going to explore a key feature of NumPy which is *vectorization*. This is a feature whereby instead of explicitly calling a loop, NumPy just knows to iterate over every entry of a NumPY array in some reasonable manner. To get a feel for this, let's revisit our approximation for $\\pi$ from the homework, where we used the code"
   ]
  },
  {
   "cell_type": "code",
   "execution_count": 9,
   "metadata": {},
   "outputs": [],
   "source": [
    "def pi_approx(n):\n",
    "    tot = 0.\n",
    "    nsq = n**2.\n",
    "    for kk in range(0, int(n)+1):\n",
    "        tot += np.sqrt(nsq-kk**2.)\n",
    "    \n",
    "    return 4.*tot/nsq"
   ]
  },
  {
   "cell_type": "markdown",
   "metadata": {},
   "source": [
    "to represent the formula $$ \\pi = \\lim_{n \\rightarrow} \\frac{4}{n^2} \\sum_{k=0}^{n} \\sqrt{n^{2}-k^{2}}$$\n",
    "And we know that works, but again note the explicit `for` loop. To get far better performance, we make use of NumPy arrays to generate each. What we see here is that if we could first generate all the entries in the sum and then sum along that array of entries, we could probably spare ourselves some grief. This is exactly how vectorization in NumPy works. To wit then, we use the following code"
   ]
  },
  {
   "cell_type": "code",
   "execution_count": 10,
   "metadata": {},
   "outputs": [],
   "source": [
    "def pi_approx_vec(n):\n",
    "    kvals = np.arange(0, int(n)+1)\n",
    "    nsq = n**2\n",
    "    tot = np.sum(np.sqrt(nsq*np.ones(int(n)+1)-kvals**2.))\n",
    "    return 4.*tot/nsq"
   ]
  },
  {
   "cell_type": "markdown",
   "metadata": {},
   "source": [
    "So note the appearance of the NumPy array `kvals` and the use of the `np.sum()` function, which adds up entries along an array. Thus, we have written a version of the code that never calls a `for` explicitly. What do we then get for our efforts?"
   ]
  },
  {
   "cell_type": "code",
   "execution_count": 11,
   "metadata": {},
   "outputs": [
    {
     "name": "stdout",
     "output_type": "stream",
     "text": [
      "8.618546962738037\n",
      "0.13657760620117188\n"
     ]
    }
   ],
   "source": [
    "start = time()\n",
    "pi_approx(1e7)\n",
    "end = time()\n",
    "print(end - start)\n",
    "\n",
    "\n",
    "start = time()\n",
    "pi_approx_vec(1e7)\n",
    "end = time()\n",
    "print(end - start)"
   ]
  },
  {
   "cell_type": "markdown",
   "metadata": {},
   "source": [
    "# Root Finding\n",
    "Root finding refers to the general problem of searching for a solution of an equation $F(x)=0$ for some function $F(x)$. This is a very general problem and it comes up a lot in mathematics! For example, if we want to optimize a function $f(x)$ then we need to find critical points and therefore solve the equation $f^{\\prime} =0 $.\n",
    "\n",
    "There are few examples where there exist exact methods for finding solutions. For example, the quadratic formula $$ x = \\frac{-b \\pm \\sqrt{b^{2}-4ac}}{2a} $$ gives us an exact method for finding roots of the equation $$ax^{2} + bx +c=0$$\n",
    "There is a general formula to solve a cubic equation and even a quartic (degree 4) equation (but the formula is too complicated to be useful).\n",
    "\n",
    "But there does not exist a formula for a quintic (degree 5) polynomial. And ther are many more examples of equations with no known method to solve them exactly.\n",
    "\n",
    "What can we do? Use nuerical methods to find approximate solutions."
   ]
  },
  {
   "cell_type": "markdown",
   "metadata": {},
   "source": [
    "## Bisection Method\n",
    "The simplest root finding algorith is the bisection method. The algorithm applies to any continuous function $f(x)$ on an interval $[a, b]$ where the value of the function $f(x)$ changes sign from $a \\text{to} b$. The idea is simple: divide the interval in two, a solution must exisst within one subinterval, select the subinterval where the sign of $f(x)$ changes and repeat.\n",
    "\n",
    ">**Criteria for Bisection Method:_** For the Bisection method to work on an interval $[a,b]$, we need $f$ to be continuous on $[a,b]$, and we need $f(a)f(b)<0$.\n",
    "\n",
    "### Algorithm\n",
    "The bisectoin method procedure is:\n",
    "1. Choose a starting interval $[a_{0},b_{0}]$ such that $f(a_{0})f(b_{0})<0$.\n",
    "1. Compute $f(m_{0})$ where $m_{0}=(a_{0}+b_{0})/2 is the midpoint.\n",
    "1. Determine the next subinterval $[a_{1},b_{1}]$\n",
    "    \n",
    "    A. If $f(a_{0})f(m_{0}) <0$, then let $[a_{1},b_{1}]$ be the next interval with $a_{1}=a_{0}$ and $b_{1}=m_{0}$.\n",
    "    \n",
    "    B. If $f(b_{0})f(m_{0}) <0$, then let $[a_{1},b_{1}]$ be the next interval with $a_{1}=m_{0}$ and $b_{1}=b_{0}$.\n",
    "1. Repeat (2) and (3) until the interval $[a_{N},b_{N}]$ reaches some predetermined length.\n",
    "1. Return the midpoint value $m_{N} = (a_{N}+b_{N})/2$.\n",
    "\n",
    "A solutoni of the equation $f(x)=0$ in the interval $[a,b]$ is guaranteed by the Intermediate Value Theorem provided $f(x)$ is continuous on $[a,b]$ and $f(a)f(b)<0$. In other words, the function changes sign over the interval and therefore must equal 0 at some point in ter interval $[a,b]$."
   ]
  },
  {
   "cell_type": "markdown",
   "metadata": {},
   "source": [
    "### Absolute Error \n",
    "\n",
    "The bisection method does not (in general) produce an exact solution of an equation $f(x) = 0$. However, we can give an estimate of the absolute error in the approximation.\n",
    "* * *\n",
    "**Theorem**. Let $f(x)$ be a continuous function on $[a,b]$ such that $f(a)f(b)<0$. After $N$ iterations of the bisection method, let $x_{N}$ be the midpoint in the $N$th subinterval $[a_{N},b_{N}]$ $$x_{N}=\\frac{a_{N}+b_{N}}{2}$$ There exists an exact solution $x_{\\text{true}}$ of the equation $f(x)=0$ in the subinterval $[a_{N},b_{N}]$ and the absolute error is $$ \\|x_{\\text{true}-x_{N}}\\| \\leq \\frac{b-a}{2^{N+1}}$$\n",
    "- - -\n",
    "Note that we can rearrange the error bound to see the minimum number of iterations required to guarantee absolute error less than a prescribed $\\epsilon$:\n",
    "$$\\frac{b-a}{2^{N+1}} < \\epsilon$$ \n",
    "$$\\frac{b-a}{\\epsilon} < 2^{N+1}$$\n",
    "$$\\ln \\left(\\frac{b-a}{\\epsilon}\\right) < (N+1)\\ln(2)$$\n",
    "$$\\frac{\\ln\\left(\\frac{b-a}{\\epsilon}\\right)}{\\ln(2)} -1 < N$$ "
   ]
  },
  {
   "cell_type": "markdown",
   "metadata": {},
   "source": [
    "### Implementation\n",
    "Write a function called `bisection` which takes 4 input parameters `f`, `a`, `b` and `N` and returns the approximation of a solution of $f(x)=0$ given by $N$ iterations of the bisection method. If $f(a_{n})f(b_{n}) \\geq 0$ at any point in the iteration (caused either by a bad initial interval or rounding error in computations), then print `\"Bisection method fails.\"\"` and return `None`."
   ]
  },
  {
   "cell_type": "code",
   "execution_count": 12,
   "metadata": {},
   "outputs": [],
   "source": [
    "def bisection(f, a, b, N):\n",
    "    '''Approximate solution of f(x)=0 on interval [a,b] by bisection method.\n",
    "    \n",
    "    Parameters\n",
    "    --------------\n",
    "    f : function\n",
    "        The function for which we are trying to approximate a solution f(x)=0.\n",
    "    a, b: numbers\n",
    "        The interval in which to search for a solution. The function returns None if f(a)*f(b) >= 0 since a solution is not guranteed.\n",
    "    N : (positive) integer\n",
    "        The number of iterations to implement\n",
    "        \n",
    "    Returns\n",
    "    ---------\n",
    "    x_N : number\n",
    "        The midpoint of the Nth interval computed by the bisection method. The initial interval [a_0,b_0] is given by [a,b].\n",
    "        If f(m_n) == 0 for some midpoint m_n = (a_n + b_n)/2, then the function returns this solution.\n",
    "        If all signs of values f(a_n), f(b_n) are f(m_n) are the same at any iteration, the bisection method fails and return None.\n",
    "        \n",
    "    Examples\n",
    "    ---------\n",
    "    >>> f = lambda x: x**2 - x - 1\n",
    "    >>> bisection(f, 1, 2, 25)\n",
    "    1.61803~\n",
    "    >>> f = lambda x: (2*x - 1)*(x - 3)\n",
    "    >>> bisection(f, 0, 1, 10)\n",
    "    0.5\n",
    "    '''\n",
    "    \n",
    "    \n",
    "    if f(a)*f(b) >= 0 :\n",
    "        print(\"Bisection method fails.\")\n",
    "        return None\n",
    "    \n",
    "    a_n = a ; b_n = b\n",
    "    \n",
    "    for n in range(1, N+1):\n",
    "        m_n = (a_n + b_n)/2\n",
    "        f_m_n = f(m_n)\n",
    "        if f(a_n)*f_m_n < 0:\n",
    "            a_n = a_n ; b_n = m_n\n",
    "            \n",
    "        elif f(b_n)*f_m_n < 0:\n",
    "            a_n = m_n; b_n = b_n\n",
    "            \n",
    "        elif f_m_n == 0:\n",
    "            print(\"Found exact solution.\")\n",
    "            return m_n\n",
    "        \n",
    "        else:\n",
    "            print(\"Bisection method fails.\")\n",
    "            return None\n",
    "        \n",
    "    return (a_n + b_n)/2"
   ]
  },
  {
   "cell_type": "markdown",
   "metadata": {},
   "source": [
    "#### Lambda Functions\n",
    "Lambda functions are small anonymous functions created with the `lambda` keyword:\n",
    "    function_name = lambda parameter: return_value\n",
    "\n",
    "The expression on the right side of the assignment operator `=` is an anonymous lambda function and we assign it to the variable name `fuction_name`.\n",
    "\n",
    "Lambda functions are useful in at least two ways:\n",
    "* Define a short function in a single line code\n",
    "* Define a function within some other Python expression\n",
    "\n",
    "For example, the function average defined above can be written in a single concise line:"
   ]
  },
  {
   "cell_type": "code",
   "execution_count": 13,
   "metadata": {},
   "outputs": [],
   "source": [
    "average = lambda x: sum(x)/len(x)"
   ]
  },
  {
   "cell_type": "markdown",
   "metadata": {},
   "source": [
    "The `lambda` keyword indicates that what follows is a function definition. The variable name `x` before the colon is the input parameter and the expression after the colon is the return value. Let's verify our lambda function returns the correct values:"
   ]
  },
  {
   "cell_type": "code",
   "execution_count": 14,
   "metadata": {},
   "outputs": [
    {
     "data": {
      "text/plain": [
       "2.5"
      ]
     },
     "execution_count": 14,
     "metadata": {},
     "output_type": "execute_result"
    }
   ],
   "source": [
    "average([1, 2, 3, 4])"
   ]
  },
  {
   "cell_type": "markdown",
   "metadata": {},
   "source": [
    "Create lambda functions with several input parameters by listing variable names separated by commas. For example, let's create a function called `hypotenuse` which takes input parameters `x` and `y` and returns the length of the hypotenuse of the right angle triangle with sides `x` and `y`."
   ]
  },
  {
   "cell_type": "code",
   "execution_count": 15,
   "metadata": {},
   "outputs": [],
   "source": [
    "hypotenuse = lambda x, y : (x**2 + y**2) ** 0.5"
   ]
  },
  {
   "cell_type": "code",
   "execution_count": 16,
   "metadata": {},
   "outputs": [
    {
     "data": {
      "text/plain": [
       "5.0"
      ]
     },
     "execution_count": 16,
     "metadata": {},
     "output_type": "execute_result"
    }
   ],
   "source": [
    "hypotenuse(3, 4)"
   ]
  },
  {
   "cell_type": "markdown",
   "metadata": {},
   "source": [
    "#### Examples"
   ]
  },
  {
   "cell_type": "markdown",
   "metadata": {},
   "source": [
    "##### Golden Ratio\n",
    "Let's use our function with input parameters $f(x) = x^{2} -x -1$ and $N=25$ iterations on $[1,2]$ to approximate the golden ratio $$\\phi = \\frac{1+\\sqrt{5}}{2}$$\n",
    "The golden ratio $\\phi$ is a root of the quadratic polynomial $x^{2}-x-1=0$."
   ]
  },
  {
   "cell_type": "code",
   "execution_count": 17,
   "metadata": {},
   "outputs": [
    {
     "name": "stdout",
     "output_type": "stream",
     "text": [
      "1.618033990263939\n"
     ]
    }
   ],
   "source": [
    "f = lambda x:x**2 - x -1\n",
    "approx_phi = bisection(f, 1, 2, 25)\n",
    "print(approx_phi)"
   ]
  },
  {
   "cell_type": "markdown",
   "metadata": {},
   "source": [
    "The absolute error is guaranteed to be less than $(2-1)/2^{26}$ which is:"
   ]
  },
  {
   "cell_type": "code",
   "execution_count": 18,
   "metadata": {},
   "outputs": [
    {
     "name": "stdout",
     "output_type": "stream",
     "text": [
      "1.4901161193847656e-08\n"
     ]
    }
   ],
   "source": [
    "error_bound = 2**(-26)\n",
    "print(error_bound)"
   ]
  },
  {
   "cell_type": "markdown",
   "metadata": {},
   "source": [
    "Let's verify the absolute error is then tan this error bound:"
   ]
  },
  {
   "cell_type": "code",
   "execution_count": 20,
   "metadata": {},
   "outputs": [
    {
     "data": {
      "text/plain": [
       "True"
      ]
     },
     "execution_count": 20,
     "metadata": {},
     "output_type": "execute_result"
    }
   ],
   "source": [
    "abs( (1 + 5**0.5)/2 - approx_phi) < error_bound"
   ]
  },
  {
   "cell_type": "markdown",
   "metadata": {},
   "source": [
    "## Secant Method\n",
    "The secant method is very similar to the bisection method except instead of dividing each interval by choosing the midpoint the secant method divides each interval by the secant line connecting the endpoints. The secant method always converges to a root of $f(x)=0$ provided that $f(x)$ is continuous on $[a,b]$ and $f(a)f(b)<0$."
   ]
  },
  {
   "cell_type": "markdown",
   "metadata": {},
   "source": [
    "### Secant Line Formula\n",
    "Let $f(x)$ be a continuous function on a closed interval $[a,b]$ such that $f(a)f(b)<0$. A solution of the equation $f(x)=0$ for $x \\in [a,b]$ is guaranteed by the Intermediate Value Theorem. Consider the line connecting the endpoint values $(a, f(a))$ and $(b, f(b))$. The lin econnecting these two points is called the secant line and is given by the formula\n",
    "$$ y = \\frac{f(b)-f(a)}{b-a}(x-a) + f(a)$$\n",
    "The point where the secant line crosses the $x$-axis is \n",
    "$$0=\\frac{f(b)-f(a)|{b-a}}(x-a)+f(a)$$\n",
    "which we solve for $x$ $$x=a-f(a)\\frac{b-a}{f(b)-f(a)}$$"
   ]
  },
  {
   "cell_type": "markdown",
   "metadata": {},
   "source": [
    "### Algorithm\n",
    "The secant method procedure is almost identical to the bisection method. The only difference it how we divide each subinterval.\n",
    "1. Choose a starting interval $[a_{0},b_{0}]$ such that $f(a_{0})f(b_{0})<0$.\n",
    "1. Compute $f(x_{0})$ where $X_{0}$ is given by the secant line $$ x_{0} = a_{0} -f(a_{0})\\frac{b_{0}-a_{0}}{f(b_{0})-f(a_{0})}$$\n",
    "1. Determine the next subinterval $[a_{1},b_{1}]$:\n",
    "    \n",
    "    A. If $f(a_{0})f(x_{0}) <0$, then let $[a_{1},b_{1}]$ be the next interval with $a_{1}=a_{0}$ and $b_{1}=x_{0}$.\n",
    "    \n",
    "    B. If $f(b_{0})f(x_{0})<0$, then let $[a_{1},b_{1}]$ be the next interval with $a_{1}=x_{0}$ and $b_{1}=b_{0}$.\n",
    "1. Repeat (2) and (3) until the interval $[a_{N},b_{N}]$ reaches some predetermined length.\n",
    "1. Return the value $x_{n}$, the $x$-intercept of the $N$th subinterval.\n",
    "\n",
    "A solution of the equation $f(x)=0$ in the interval $[a,b]$ is guaranteed by the Intermediate Value Theorem provided $f(x)$ is continuous on $[a,b]$ and $f(a)f(b)<0$. In other words, the function changes sign over the interval and therefore must equal 0 at some point in the interval $[a,b]$."
   ]
  },
  {
   "cell_type": "markdown",
   "metadata": {},
   "source": [
    "### Implementation\n",
    "Write a function called `secant` which takes 4 input parameters `f`, `a`, `b` and `N` and returns the approximation of a solution of $f(x)=0$ given by `N` iterations of the secant method.\n",
    "If $f(a_{n})f(b_{n}) \\geq 0$ at any point in the iteration (caused either by a bad initial interval or rounding error in computations), then print `\"Secant method fails.\"` and return `None`."
   ]
  },
  {
   "cell_type": "code",
   "execution_count": 2,
   "metadata": {},
   "outputs": [],
   "source": [
    "def secant(f, a, b, N):\n",
    "    '''Approximate solution of f(x)=0 on interval [a,b] by the secant method.\n",
    "    \n",
    "    Parameters\n",
    "    -------------\n",
    "    f : function\n",
    "        The function for which we are trying to approximate a solution f(x)=0.\n",
    "    a,b : numbers\n",
    "        The interval in which to search for a solution. the function returns None if f(a)*f(b) >= 0 sice a solution is not guaranteed.\n",
    "        \n",
    "    N : (positive) integer\n",
    "        The number of iterations to implement.\n",
    "        \n",
    "    Returns\n",
    "    ----------------\n",
    "    m_N : number\n",
    "        The x intercept of the secant line on the Nth interval\n",
    "                m_n = a_n - f(a_n)*(b_n - a_n)/(f(b_n)-f(a_n))\n",
    "        the initial interval [a_0,b_0] is given by [a,b]. If f(m_n) == 0\n",
    "        for some intercept m_n then the function returns this solution.\n",
    "        If all signs of values f(a_n), f(b_n) and f(m_n) are the same at any iterations, the secant method fails and return None.\n",
    "        \n",
    "    Examples \n",
    "    --------------\n",
    "    >>> f = lambda x: x**2 - x - 1\n",
    "    >>> secant(f,1,2,5)\n",
    "    1.61802575~\n",
    "    '''\n",
    "    \n",
    "    if f(a)*f(b) >= 0:\n",
    "        print(\"Secant method fails\")\n",
    "        return None\n",
    "    \n",
    "    \n",
    "    for n in range(1,N+1):\n",
    "        x0 = a-f(a)*(b-a)/(f(b)-f(a))\n",
    "        if f(x0) ==0:\n",
    "            print(\"Fond exact solution\", x0)\n",
    "            break\n",
    "            return x0 \n",
    "        \n",
    "        elif f(a)*f(x0) < 0:\n",
    "            b = x0\n",
    "        \n",
    "        elif f(b)*f(x0) < 0:\n",
    "            a = x0\n",
    "            \n",
    "        else:\n",
    "            print(\"Secant Method fails\")\n",
    "            break\n",
    "            return None\n",
    "        \n",
    "    return a - f(a)*(b-a)/(f(b)-f(a))"
   ]
  },
  {
   "cell_type": "markdown",
   "metadata": {},
   "source": [
    "### Examples\n",
    "#### Supergolden Ratio\n",
    "Let's test our function with input values fo which we know the corrct output. Let's find an approximation of the supergolden ratio: the only real root of the polynomial $p(x)=x^{3}-x^{2}-1$."
   ]
  },
  {
   "cell_type": "code",
   "execution_count": 4,
   "metadata": {},
   "outputs": [
    {
     "name": "stdout",
     "output_type": "stream",
     "text": [
      "-1\n",
      "3\n"
     ]
    }
   ],
   "source": [
    "p = lambda x : x**3 - x**2 - 1\n",
    "print(p(1))\n",
    "print(p(2))"
   ]
  },
  {
   "cell_type": "markdown",
   "metadata": {},
   "source": [
    "Since the polynomial changes sign in the interval $[1,2]$, we can apply the secant method with this as the starting interval:"
   ]
  },
  {
   "cell_type": "code",
   "execution_count": 5,
   "metadata": {},
   "outputs": [
    {
     "name": "stdout",
     "output_type": "stream",
     "text": [
      "1.4655712311394433\n"
     ]
    }
   ],
   "source": [
    "approx = secant(p, 1, 2, 20)\n",
    "print(approx)"
   ]
  },
  {
   "cell_type": "markdown",
   "metadata": {},
   "source": [
    "The exact value of the supergolden ratio is $$\\frac{1+\\sqrt[3]{\\frac{29+3\\sqrt{93}}{2}}+\\sqrt[3]{\\frac{29-3\\sqrt{93}}{2}}}{3}$$"
   ]
  },
  {
   "cell_type": "code",
   "execution_count": 6,
   "metadata": {},
   "outputs": [
    {
     "name": "stdout",
     "output_type": "stream",
     "text": [
      "1.4655712318767682\n"
     ]
    }
   ],
   "source": [
    "supergolden = (1+((29+3*93**0.5)/2) ** (1/3) + ((29-3*93**0.5)/2)**(1/3))/3\n",
    "print(supergolden)"
   ]
  },
  {
   "cell_type": "markdown",
   "metadata": {},
   "source": [
    "Let's compare our approximation with the exact solution:"
   ]
  },
  {
   "cell_type": "code",
   "execution_count": 7,
   "metadata": {},
   "outputs": [
    {
     "name": "stdout",
     "output_type": "stream",
     "text": [
      "7.373248678277378e-10\n"
     ]
    }
   ],
   "source": [
    "error = abs(supergolden - approx)\n",
    "print(error)"
   ]
  },
  {
   "cell_type": "markdown",
   "metadata": {},
   "source": [
    "## Newton's Method\n",
    "Newton's method is a root finding method that uses linear approximation. In particular, we guess a solution $x_{0}$ of the equation $f(x)=0$, compute the linear approximation of $f(x)$ at $x_{0}$ and then find the $x$-intercept of the linear approximation."
   ]
  },
  {
   "cell_type": "markdown",
   "metadata": {},
   "source": [
    "### Formula\n",
    "Let $f(x)$ be a differentiable function. If $x_{0}$ is near a solution of $f(x)=0$ then we can approximate $f(x)$ by the tangent line at $x_{0}$ and compute the $x$-intercept of the tangent line.\n",
    "The equatoin of the tangent line at $x_{0}$ is $$y=f^{\\prime}(x_{0})(x-x_{0}) + f(x_{0})$$\n",
    "The $x$-intercept is the solution $x_{1}$ of the equation $$0=f^{\\prime}(x_{1}-x_{0})+f(x_{0})$$ and we solve for $x_{1}$\n",
    "$$ x_{1}=x_{0} - \\frac{f(x_{0})}{f^{\\prime}(x_{0})}$$\n",
    "If we implement this procedure repeatedly, then we obtain a sequence given by the recurvsive formula $$x_{n+1} = x_{n} - \\frac{f(x_{n})}{f^{\\prime}(x_{n})}$$\n",
    "which (potentially) converges to a solution of the equation $f(x)=0$."
   ]
  },
  {
   "cell_type": "markdown",
   "metadata": {},
   "source": [
    "### Advantages/Disadvantages\n",
    "When it converges, Newton's method usually converges very quickly and this is its main advantage. However, Newton's method is not guaranteed to converge and this is obviously a big disadvantage especially compared to the bisection and secant methods which are guaranteed to converge to a solution (provided they start with an interval containing a root).\n",
    "\n",
    "Newton's method also requires computing values of the derivative fo the function in questoin. This is potentially a disadvantage if the derivative is difficult to compute.\n",
    "\n",
    "The stopping criteria for Newton's method differs from the bisection and secant methods. In those methods, we know how close we are to a solution because we are computing intervals which contain a solution. In Newton's method, we don't know how close we are to solution. All we can compute is the value $f(x)$ and so we implement a stopping criteria based on $f(x)$.\n",
    "\n",
    "Finally, there's no guarantee that the method converges to a solution and we should set a maximum number of iterations so that our implementation ends if we don't find a solutoion."
   ]
  },
  {
   "cell_type": "markdown",
   "metadata": {},
   "source": [
    "### Implementation\n",
    "Let's write a function called `newton` which takes 5 input parameters `f`, `Df`, `x0`, `epsilon` and `max_iter` and returns an approximation of a solutoin of $f(x)=0$ by Newton's method. The function may terminate in 3ways:\n",
    "1. If `abs(f(xn)) < epsilon`, the algorithm has found an approximate solution and returns `xn`.\n",
    "1. If `f'(xn) == 0`, the algorithm sotps and reutns `None`.\n",
    "1. If the number of iterations exceed `max_iter`, the algorithm stops and returns `None`."
   ]
  },
  {
   "cell_type": "code",
   "execution_count": 8,
   "metadata": {},
   "outputs": [],
   "source": [
    "def newton(f, Df, x0, epsilon, max_iter):\n",
    "    '''Approximate solution of f(x)=0 by Newton's method.\n",
    "    \n",
    "    Parameters\n",
    "    -----------\n",
    "    f : function\n",
    "        Function for which we are searching for a solutoin f(x)=0.\n",
    "    Df : function\n",
    "        Derivative of f(x).\n",
    "    x0 : number\n",
    "        Initial guess for a solution f(x)=0.\n",
    "    epsilon : number \n",
    "        Stopping criteria is abs(f(x)) < epsilon. \n",
    "    max_iter : integer\n",
    "        Maximum number of iterations of Newton's method.\n",
    "        \n",
    "    Returns\n",
    "    -------------\n",
    "    xn : number\n",
    "        Implement Newton's method: compute the linear approximation\n",
    "        of f(x) at xn and find x intercept by the formula\n",
    "            x = xn -f(xn)/Df(xn)\n",
    "        Continue until abs(f(xn)) < epsilon and return xn.\n",
    "        If Df(xn) == 0, return None. If the number of iterations\n",
    "        exceeds max_iter, then return None.\n",
    "        \n",
    "    Examples\n",
    "    ---------\n",
    "    >>> f = lambda x:x**2 - x - 1\n",
    "    >>> Df = lambda x: 2*x -1\n",
    "    >>> newton(f, Df, 1, 1e-8, 10)\n",
    "    Found solutoin after 5 iterations.\n",
    "    1.6180~\n",
    "    '''\n",
    "    \n",
    "    xn = x0\n",
    "    for n in range(0, max_iter):\n",
    "        fxn = f(xn)\n",
    "        if abs(fxn) < epsilon:\n",
    "            print(\"Found solution after\", n, \"iterations.\")\n",
    "            return xn\n",
    "        Dfxn = Df(xn)\n",
    "        if Dfxn == 0:\n",
    "            print(\"Zero derivative. No solution found.\")\n",
    "            return None\n",
    "        \n",
    "        xn -= fxn/Dfxn\n",
    "    print(\"Exceed maximum iterations. No solution found.\")\n",
    "    return None"
   ]
  },
  {
   "cell_type": "markdown",
   "metadata": {},
   "source": [
    "#### Examples\n",
    "##### Supergolden Ratio\n",
    "Let's test our function `newton` on the polynomial $p(x)=x^{3}-x^{2}-1$ to approximate the super golden ratio."
   ]
  },
  {
   "cell_type": "code",
   "execution_count": 10,
   "metadata": {},
   "outputs": [
    {
     "name": "stdout",
     "output_type": "stream",
     "text": [
      "Found solution after 6 iterations.\n",
      "1.4655712318767877\n"
     ]
    }
   ],
   "source": [
    "p = lambda x: x**3 -x**2 - 1\n",
    "Dp = lambda x: 3*x**2 - 2*x\n",
    "approx = newton(p, Dp, 1, 1e-10, 10)\n",
    "print(approx)"
   ]
  },
  {
   "cell_type": "markdown",
   "metadata": {},
   "source": [
    "How many iterations of the bisection method starting with the interval $[1,2]$ can achieve the smae accuaracy?"
   ]
  },
  {
   "cell_type": "markdown",
   "metadata": {},
   "source": [
    "#### Divgerent Example\n",
    "Newton's method diverges in certain cases. For example, if the tangent line at the root is vertical as in $f(x)=x^{1/3}$. Note that bisection and secant methods would converge in this case."
   ]
  },
  {
   "cell_type": "code",
   "execution_count": 11,
   "metadata": {},
   "outputs": [
    {
     "name": "stdout",
     "output_type": "stream",
     "text": [
      "Exceed maximum iterations. No solution found.\n"
     ]
    }
   ],
   "source": [
    "f = lambda x: x**(1/3)\n",
    "Df = lambda x: (1/3)*x**(-2/3)\n",
    "approx = newton(f, Df, 0.1, 1e-2, 100)"
   ]
  },
  {
   "cell_type": "markdown",
   "metadata": {},
   "source": [
    "### Convergence Rate\n",
    "We now want a means of figuring out how fast the Bisection Method runs. So, if you think about it, at every iteration of the method, an approximation, say $c_{n}$, to the root, say $c_{*}$, is generated. For the method to converge, we mean that $$\\lim_{n \\rightarrow \\infty}c_{n} = c_{*}$$, or equivalently $$\\lim_{n \\rightarrow \\infty}\\|c_{n}-c_{*}\\| = 0$$.\n",
    "But the question then becomes, how quickly does this limit go to zero?\n",
    "*Problem*: Can you do this for the Bisection Method? In other words, is there a formula you can write down which tells you how quickly $\\|c_{n}-c_{*}\\| goes to zero?\n",
    "\n",
    "In general, we think of answering this question by defining what is called the rate of convergence.\n",
    "> **Rate of Convergence:** For an iterative sequence $c_{n} \\rightarrow c_{*}$, we define the rate of convergence, $\\alpha$, to be $$\\lim_{n \\rightarrow \\infty}\\frac{\\|c_{n+1}-c_{*}\\|}{\\|c_{n}-c_{*}\\|^{\\alpha}} = \\lambda $$\n",
    "\n",
    "The idea here is that for very large $n$, we have that $$\\|c_{n+1}-c_{*}\\| \\approx \\lambda\\|c_{n}-c_{*}\\|^{\\alpha}$$\n",
    "\n",
    "*Problem*: What would a lagarithm tell you? How would you use that to numerically compute the rate of convergence?\n",
    "\n",
    "*Problem*: Modify your code for the Bisection Method to find the rate of convergence. Does it agree with your theoretical prediction?"
   ]
  },
  {
   "cell_type": "markdown",
   "metadata": {},
   "source": [
    "#### Exercises\n",
    "**Exercise 1.** Let $p(x)=x^{3}-x-1$. The only real root of $p(x)$ is called the plastic number and is givnen by $$\\frac{\\sqrt[3]{108+12\\sqrt{69}}+\\sqrt[3]{108-12\\sqrt{69}}}{6}$$"
   ]
  },
  {
   "cell_type": "markdown",
   "metadata": {},
   "source": []
  }
 ],
 "metadata": {
  "kernelspec": {
   "display_name": "Python 3.10.4 ('science_dnn': conda)",
   "language": "python",
   "name": "python3"
  },
  "language_info": {
   "codemirror_mode": {
    "name": "ipython",
    "version": 3
   },
   "file_extension": ".py",
   "mimetype": "text/x-python",
   "name": "python",
   "nbconvert_exporter": "python",
   "pygments_lexer": "ipython3",
   "version": "3.10.4"
  },
  "orig_nbformat": 4,
  "vscode": {
   "interpreter": {
    "hash": "3b5655a2a8c1a38d574ac6283bf55016e4bf8013b0575d01c2d272ed1f06bbbb"
   }
  }
 },
 "nbformat": 4,
 "nbformat_minor": 2
}
