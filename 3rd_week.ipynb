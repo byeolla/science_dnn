{
 "cells": [
  {
   "cell_type": "code",
   "execution_count": 5,
   "metadata": {},
   "outputs": [],
   "source": [
    "import numpy as np\n",
    "import matplotlib.pyplot as plt\n",
    "from scipy.special import factorial as sfactorial\n",
    "from copy import copy\n",
    "from time import time\n",
    "%matplotlib inline"
   ]
  },
  {
   "cell_type": "code",
   "execution_count": 6,
   "metadata": {},
   "outputs": [
    {
     "name": "stdout",
     "output_type": "stream",
     "text": [
      "<class 'int'>\n",
      "<class 'float'>\n",
      "<class 'str'>\n",
      "\n",
      "<class 'list'>\n",
      "<class 'list'>\n",
      "<class 'list'>\n",
      "\n",
      "<class 'int'>\n",
      "<class 'float'>\n",
      "<class 'str'>\n"
     ]
    }
   ],
   "source": [
    "x = 1\n",
    "y = 1.\n",
    "z = \"Hi\"\n",
    "\n",
    "xlist = [1, 2, 3]\n",
    "ylist = [1., 2., 3.]\n",
    "zlist = [\"Hi\", \"Howdy\", \"Hello\"]\n",
    "\n",
    "print(type(x))\n",
    "print(type(y))\n",
    "print(type(z))\n",
    "print()\n",
    "print(type(xlist))\n",
    "print(type(ylist))\n",
    "print(type(zlist))\n",
    "print()\n",
    "print(type(xlist[0]))\n",
    "print(type(ylist[0]))\n",
    "print(type(zlist[0]))"
   ]
  },
  {
   "cell_type": "markdown",
   "metadata": {},
   "source": [
    "But since this is a scientific computation class, we have another type. It is the NumPy Array. You have seen this before with the command `np.linspace`. In more detail, when we write the assignment statement `xvals = np.linspace(a, b, n)`\n",
    "\n",
    "we create an array of points `xvals[j]` such that \n",
    "\n",
    "`xvals[j] = a + (b-a)*j/(n-1), j=0, ..., n-1.`\n",
    "\n",
    "Now, this part is important. Note that"
   ]
  },
  {
   "cell_type": "code",
   "execution_count": 7,
   "metadata": {},
   "outputs": [
    {
     "name": "stdout",
     "output_type": "stream",
     "text": [
      "<class 'numpy.ndarray'>\n",
      "[-2.  -1.6 -1.2 -0.8 -0.4  0.   0.4  0.8  1.2  1.6  2. ]\n"
     ]
    }
   ],
   "source": [
    "xvals = np.linspace(-2., 2., int(1e1) + 1) \n",
    "\n",
    "print(type(xvals))\n",
    "print(xvals)"
   ]
  },
  {
   "cell_type": "markdown",
   "metadata": {},
   "source": [
    "So a NumPy array really is not just a Python list. And the difference is huge. In NumPy, I can do arithmetic on arrays. I cannot do arithmetic on Python lists. Let me show you what I mean."
   ]
  },
  {
   "cell_type": "code",
   "execution_count": 8,
   "metadata": {},
   "outputs": [
    {
     "name": "stdout",
     "output_type": "stream",
     "text": [
      "<class 'numpy.ndarray'>\n",
      "<class 'list'>\n",
      "<class 'numpy.ndarray'>\n"
     ]
    },
    {
     "ename": "TypeError",
     "evalue": "unsupported operand type(s) for -: 'list' and 'list'",
     "output_type": "error",
     "traceback": [
      "\u001b[0;31m---------------------------------------------------------------------------\u001b[0m",
      "\u001b[0;31mTypeError\u001b[0m                                 Traceback (most recent call last)",
      "\u001b[1;32m/home/byeolla/science_dnn/3rd_week.ipynb 셀 6\u001b[0m in \u001b[0;36m<cell line: 4>\u001b[0;34m()\u001b[0m\n\u001b[1;32m      <a href='vscode-notebook-cell://wsl%2Bubuntu-20.04/home/byeolla/science_dnn/3rd_week.ipynb#W5sdnNjb2RlLXJlbW90ZQ%3D%3D?line=1'>2</a>\u001b[0m \u001b[39mprint\u001b[39m(\u001b[39mtype\u001b[39m(\u001b[39mlist\u001b[39m(xvals)))\n\u001b[1;32m      <a href='vscode-notebook-cell://wsl%2Bubuntu-20.04/home/byeolla/science_dnn/3rd_week.ipynb#W5sdnNjb2RlLXJlbW90ZQ%3D%3D?line=2'>3</a>\u001b[0m \u001b[39mprint\u001b[39m(\u001b[39mtype\u001b[39m(np\u001b[39m.\u001b[39marray(\u001b[39mlist\u001b[39m(xvals))))\n\u001b[0;32m----> <a href='vscode-notebook-cell://wsl%2Bubuntu-20.04/home/byeolla/science_dnn/3rd_week.ipynb#W5sdnNjb2RlLXJlbW90ZQ%3D%3D?line=3'>4</a>\u001b[0m \u001b[39mprint\u001b[39m(\u001b[39mtype\u001b[39m(\u001b[39mlist\u001b[39;49m(xvals)\u001b[39m-\u001b[39;49m\u001b[39mlist\u001b[39;49m(xvals)))\n",
      "\u001b[0;31mTypeError\u001b[0m: unsupported operand type(s) for -: 'list' and 'list'"
     ]
    }
   ],
   "source": [
    "print(type(xvals-xvals))\n",
    "print(type(list(xvals)))\n",
    "print(type(np.array(list(xvals))))\n",
    "print(type(list(xvals)-list(xvals)))"
   ]
  },
  {
   "cell_type": "markdown",
   "metadata": {},
   "source": [
    "# Vectorization in NumPY\n",
    "\n",
    "We are now going to explore a key feature of NumPy which is *vectorization*. This is a feature whereby instead of explicitly calling a loop, NumPy just knows to iterate over every entry of a NumPY array in some reasonable manner. To get a feel for this, let's revisit our approximation for $\\pi$ from the homework, where we used the code"
   ]
  },
  {
   "cell_type": "code",
   "execution_count": 9,
   "metadata": {},
   "outputs": [],
   "source": [
    "def pi_approx(n):\n",
    "    tot = 0.\n",
    "    nsq = n**2.\n",
    "    for kk in range(0, int(n)+1):\n",
    "        tot += np.sqrt(nsq-kk**2.)\n",
    "    \n",
    "    return 4.*tot/nsq"
   ]
  },
  {
   "cell_type": "markdown",
   "metadata": {},
   "source": [
    "to represent the formula $$ \\pi = \\lim_{n \\rightarrow} \\frac{4}{n^2} \\sum_{k=0}^{n} \\sqrt{n^{2}-k^{2}}$$\n",
    "And we know that works, but again note the explicit `for` loop. To get far better performance, we make use of NumPy arrays to generate each. What we see here is that if we could first generate all the entries in the sum and then sum along that array of entries, we could probably spare ourselves some grief. This is exactly how vectorization in NumPy works. To wit then, we use the following code"
   ]
  },
  {
   "cell_type": "code",
   "execution_count": 10,
   "metadata": {},
   "outputs": [],
   "source": [
    "def pi_approx_vec(n):\n",
    "    kvals = np.arange(0, int(n)+1)\n",
    "    nsq = n**2\n",
    "    tot = np.sum(np.sqrt(nsq*np.ones(int(n)+1)-kvals**2.))\n",
    "    return 4.*tot/nsq"
   ]
  },
  {
   "cell_type": "markdown",
   "metadata": {},
   "source": [
    "So note the appearance of the NumPy array `kvals` and the use of the `np.sum()` function, which adds up entries along an array. Thus, we have written a version of the code that never calls a `for` explicitly. What do we then get for our efforts?"
   ]
  },
  {
   "cell_type": "code",
   "execution_count": 11,
   "metadata": {},
   "outputs": [
    {
     "name": "stdout",
     "output_type": "stream",
     "text": [
      "8.618546962738037\n",
      "0.13657760620117188\n"
     ]
    }
   ],
   "source": [
    "start = time()\n",
    "pi_approx(1e7)\n",
    "end = time()\n",
    "print(end - start)\n",
    "\n",
    "\n",
    "start = time()\n",
    "pi_approx_vec(1e7)\n",
    "end = time()\n",
    "print(end - start)"
   ]
  },
  {
   "cell_type": "markdown",
   "metadata": {},
   "source": [
    "# Root Finding\n",
    "Root finding refers to the general problem of searching for a solution of an equation $F(x)=0$ for some function $F(x)$. This is a very general problem and it comes up a lot in mathematics! For example, if we want to optimize a function $f(x)$ then we need to find critical points and therefore solve the equation $f^{\\prime} =0 $.\n",
    "\n",
    "There are few examples where there exist exact methods for finding solutions. For example, the quadratic formula $$ x = \\frac{-b \\pm \\sqrt{b^{2}-4ac}}{2a} $$ gives us an exact method for finding roots of the equation $$ax^{2} + bx +c=0$$\n",
    "There is a general formula to solve a cubic equation and even a quartic (degree 4) equation (but the formula is too complicated to be useful).\n",
    "\n",
    "But there does not exist a formula for a quintic (degree 5) polynomial. And ther are many more examples of equations with no known method to solve them exactly.\n",
    "\n",
    "What can we do? Use nuerical methods to find approximate solutions."
   ]
  },
  {
   "cell_type": "markdown",
   "metadata": {},
   "source": [
    "## Bisection Method\n",
    "The simplest root finding algorith is the bisection method. The algorithm applies to any continuous function $f(x)$ on an interval $[a, b]$ where the value of the function $f(x)$ changes sign from $a \\text{to} b$. The idea is simple: divide the interval in two, a solution must exisst within one subinterval, select the subinterval where the sign of $f(x)$ changes and repeat.\n",
    "\n",
    ">**Criteria for Bisection Method:_** For the Bisection method to work on an interval $[a,b]$, we need $f$ to be continuous on $[a,b]$, and we need $f(a)f(b)<0$.\n",
    "\n",
    "### Algorithm\n",
    "The bisectoin method procedure is:\n",
    "1. Choose a starting interval $[a_{0},b_{0}]$ such that $f(a_{0})f(b_{0})<0$.\n",
    "1. Compute $f(m_{0})$ where $m_{0}=(a_{0}+b_{0})/2 is the midpoint.\n",
    "1. Determine the next subinterval $[a_{1},b_{1}]$\n",
    "    \n",
    "    A. If $f(a_{0})f(m_{0}) <0$, then let $[a_{1},b_{1}]$ be the next interval with $a_{1}=a_{0}$ and $b_{1}=m_{0}$.\n",
    "    \n",
    "    B. If $f(b_{0})f(m_{0}) <0$, then let $[a_{1},b_{1}]$ be the next interval with $a_{1}=m_{0}$ and $b_{1}=b_{0}$.\n",
    "1. Repeat (2) and (3) until the interval $[a_{N},b_{N}]$ reaches some predetermined length.\n",
    "1. Return the midpoint value $m_{N} = (a_{N}+b_{N})/2$.\n",
    "\n",
    "A solutoni of the equation $f(x)=0$ in the interval $[a,b]$ is guaranteed by the Intermediate Value Theorem provided $f(x)$ is continuous on $[a,b]$ and $f(a)f(b)<0$. In other words, the function changes sign over the interval and therefore must equal 0 at some point in ter interval $[a,b]$."
   ]
  },
  {
   "cell_type": "markdown",
   "metadata": {},
   "source": [
    "### Absolute Error \n",
    "\n",
    "The bisection method does not (in general) produce an exact solution of an equation $f(x) = 0$. However, we can give an estimate of the absolute error in the approximation.\n",
    "* * *\n",
    "**Theorem**. Let $f(x)$ be a continuous function on $[a,b]$ such that $f(a)f(b)<0$. After $N$ iterations of the bisection method, let $x_{N}$ be the midpoint in the $N$th subinterval $[a_{N},b_{N}]$ $$x_{N}=\\frac{a_{N}+b_{N}}{2}$$ There exists an exact solution $x_{\\text{true}}$ of the equation $f(x)=0$ in the subinterval $[a_{N},b_{N}]$ and the absolute error is $$ \\|x_{\\text{true}-x_{N}}\\| \\leq \\frac{b-a}{2^{N+1}}$$\n",
    "- - -\n",
    "Note that we can rearrange the error bound to see the minimum number of iterations required to guarantee absolute error less than a prescribed $\\epsilon$:\n",
    "$$\\frac{b-a}{2^{N+1}} < \\epsilon$$ \n",
    "$$\\frac{b-a}{\\epsilon} < 2^{N+1}$$\n",
    "$$\\ln \\left(\\frac{b-a}{\\epsilon}\\right) < (N+1)\\ln(2)$$\n",
    "$$\\frac{\\ln\\left(\\frac{b-a}{\\epsilon}\\right)}{\\ln(2)} -1 < N$$ "
   ]
  },
  {
   "cell_type": "markdown",
   "metadata": {},
   "source": [
    "### Implementation\n",
    "Write a function called `bisection` which takes 4 input parameters `f`, `a`, `b` and `N` and returns the approximation of a solution of $f(x)=0$ given by $N$ iterations of the bisection method. If $f(a_{n})f(b_{n}) \\geq 0$ at any point in the iteration (caused either by a bad initial interval or rounding error in computations), then print `\"Bisection method fails.\"\"` and return `None`."
   ]
  },
  {
   "cell_type": "code",
   "execution_count": 12,
   "metadata": {},
   "outputs": [],
   "source": [
    "def bisection(f, a, b, N):\n",
    "    '''Approximate solution of f(x)=0 on interval [a,b] by bisection method.\n",
    "    \n",
    "    Parameters\n",
    "    --------------\n",
    "    f : function\n",
    "        The function for which we are trying to approximate a solution f(x)=0.\n",
    "    a, b: numbers\n",
    "        The interval in which to search for a solution. The function returns None if f(a)*f(b) >= 0 since a solution is not guranteed.\n",
    "    N : (positive) integer\n",
    "        The number of iterations to implement\n",
    "        \n",
    "    Returns\n",
    "    ---------\n",
    "    x_N : number\n",
    "        The midpoint of the Nth interval computed by the bisection method. The initial interval [a_0,b_0] is given by [a,b].\n",
    "        If f(m_n) == 0 for some midpoint m_n = (a_n + b_n)/2, then the function returns this solution.\n",
    "        If all signs of values f(a_n), f(b_n) are f(m_n) are the same at any iteration, the bisection method fails and return None.\n",
    "        \n",
    "    Examples\n",
    "    ---------\n",
    "    >>> f = lambda x: x**2 - x - 1\n",
    "    >>> bisection(f, 1, 2, 25)\n",
    "    1.61803~\n",
    "    >>> f = lambda x: (2*x - 1)*(x - 3)\n",
    "    >>> bisection(f, 0, 1, 10)\n",
    "    0.5\n",
    "    '''\n",
    "    \n",
    "    \n",
    "    if f(a)*f(b) >= 0 :\n",
    "        print(\"Bisection method fails.\")\n",
    "        return None\n",
    "    \n",
    "    a_n = a ; b_n = b\n",
    "    \n",
    "    for n in range(1, N+1):\n",
    "        m_n = (a_n + b_n)/2\n",
    "        f_m_n = f(m_n)\n",
    "        if f(a_n)*f_m_n < 0:\n",
    "            a_n = a_n ; b_n = m_n\n",
    "            \n",
    "        elif f(b_n)*f_m_n < 0:\n",
    "            a_n = m_n; b_n = b_n\n",
    "            \n",
    "        elif f_m_n == 0:\n",
    "            print(\"Found exact solution.\")\n",
    "            return m_n\n",
    "        \n",
    "        else:\n",
    "            print(\"Bisection method fails.\")\n",
    "            return None\n",
    "        \n",
    "    return (a_n + b_n)/2"
   ]
  },
  {
   "cell_type": "markdown",
   "metadata": {},
   "source": [
    "#### Lambda Functions\n",
    "Lambda functions are small anonymous functions created with the `lambda` keyword:\n",
    "    function_name = lambda parameter: return_value\n",
    "\n",
    "The expression on the right side of the assignment operator `=` is an anonymous lambda function and we assign it to the variable name `fuction_name`.\n",
    "\n",
    "Lambda functions are useful in at least two ways:\n",
    "* Define a short function in a single line code\n",
    "* Define a function within some other Python expression\n",
    "\n",
    "For example, the function average defined above can be written in a single concise line:"
   ]
  },
  {
   "cell_type": "code",
   "execution_count": 13,
   "metadata": {},
   "outputs": [],
   "source": [
    "average = lambda x: sum(x)/len(x)"
   ]
  },
  {
   "cell_type": "markdown",
   "metadata": {},
   "source": [
    "The `lambda` keyword indicates that what follows is a function definition. The variable name `x` before the colon is the input parameter and the expression after the colon is the return value. Let's verify our lambda function returns the correct values:"
   ]
  },
  {
   "cell_type": "code",
   "execution_count": 14,
   "metadata": {},
   "outputs": [
    {
     "data": {
      "text/plain": [
       "2.5"
      ]
     },
     "execution_count": 14,
     "metadata": {},
     "output_type": "execute_result"
    }
   ],
   "source": [
    "average([1, 2, 3, 4])"
   ]
  },
  {
   "cell_type": "markdown",
   "metadata": {},
   "source": [
    "Create lambda functions with several input parameters by listing variable names separated by commas. For example, let's create a function called `hypotenuse` which takes input parameters `x` and `y` and returns the length of the hypotenuse of the right angle triangle with sides `x` and `y`."
   ]
  },
  {
   "cell_type": "code",
   "execution_count": 15,
   "metadata": {},
   "outputs": [],
   "source": [
    "hypotenuse = lambda x, y : (x**2 + y**2) ** 0.5"
   ]
  },
  {
   "cell_type": "code",
   "execution_count": 16,
   "metadata": {},
   "outputs": [
    {
     "data": {
      "text/plain": [
       "5.0"
      ]
     },
     "execution_count": 16,
     "metadata": {},
     "output_type": "execute_result"
    }
   ],
   "source": [
    "hypotenuse(3, 4)"
   ]
  },
  {
   "cell_type": "markdown",
   "metadata": {},
   "source": [
    "#### Examples"
   ]
  },
  {
   "cell_type": "markdown",
   "metadata": {},
   "source": [
    "##### Golden Ratio\n",
    "Let's use our function with input parameters $f(x) = x^{2} -x -1$ and $N=25$ iterations on $[1,2]$ to approximate the golden ratio $$\\phi = \\frac{1+\\sqrt{5}}{2}$$\n",
    "The golden ratio $\\phi$ is a root of the quadratic polynomial $x^{2}-x-1=0$."
   ]
  },
  {
   "cell_type": "code",
   "execution_count": 17,
   "metadata": {},
   "outputs": [
    {
     "name": "stdout",
     "output_type": "stream",
     "text": [
      "1.618033990263939\n"
     ]
    }
   ],
   "source": [
    "f = lambda x:x**2 - x -1\n",
    "approx_phi = bisection(f, 1, 2, 25)\n",
    "print(approx_phi)"
   ]
  },
  {
   "cell_type": "markdown",
   "metadata": {},
   "source": [
    "The absolute error is guaranteed to be less than $(2-1)/2^{26}$ which is:"
   ]
  },
  {
   "cell_type": "code",
   "execution_count": 18,
   "metadata": {},
   "outputs": [
    {
     "name": "stdout",
     "output_type": "stream",
     "text": [
      "1.4901161193847656e-08\n"
     ]
    }
   ],
   "source": [
    "error_bound = 2**(-26)\n",
    "print(error_bound)"
   ]
  },
  {
   "cell_type": "markdown",
   "metadata": {},
   "source": [
    "Let's verify the absolute error is then tan this error bound:"
   ]
  },
  {
   "cell_type": "code",
   "execution_count": 20,
   "metadata": {},
   "outputs": [
    {
     "data": {
      "text/plain": [
       "True"
      ]
     },
     "execution_count": 20,
     "metadata": {},
     "output_type": "execute_result"
    }
   ],
   "source": [
    "abs( (1 + 5**0.5)/2 - approx_phi) < error_bound"
   ]
  },
  {
   "cell_type": "markdown",
   "metadata": {},
   "source": [
    "## Secant Method"
   ]
  }
 ],
 "metadata": {
  "kernelspec": {
   "display_name": "Python 3.10.4 ('science_dnn': conda)",
   "language": "python",
   "name": "python3"
  },
  "language_info": {
   "codemirror_mode": {
    "name": "ipython",
    "version": 3
   },
   "file_extension": ".py",
   "mimetype": "text/x-python",
   "name": "python",
   "nbconvert_exporter": "python",
   "pygments_lexer": "ipython3",
   "version": "3.10.4"
  },
  "orig_nbformat": 4,
  "vscode": {
   "interpreter": {
    "hash": "3b5655a2a8c1a38d574ac6283bf55016e4bf8013b0575d01c2d272ed1f06bbbb"
   }
  }
 },
 "nbformat": 4,
 "nbformat_minor": 2
}
