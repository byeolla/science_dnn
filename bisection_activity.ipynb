{
 "cells": [
  {
   "cell_type": "markdown",
   "metadata": {},
   "source": [
    "# Bisection Method\n"
   ]
  },
  {
   "cell_type": "markdown",
   "metadata": {},
   "source": [
    "## Algorithm\n",
    "\n",
    "The bisection method procedure is:\n",
    "\n",
    "1. Choose a starting interval $[a_0,b_0]$ such that $f(a_0)f(b_0) < 0$.\n",
    "2. Compute $f(m_0)$ where $m_0 = (a_0+b_0)/2$ is the midpoint.\n",
    "3. Determine the next subinterval $[a_1,b_1]$:\n",
    "    1. If $f(a_0)f(m_0) < 0$, then let $[a_1,b_1]$ be the next interval with $a_1=a_0$ and $b_1=m_0$.\n",
    "    2. If $f(b_0)f(m_0) < 0$, then let $[a_1,b_1]$ be the next interval with $a_1=m_0$ and $b_1=b_0$.\n",
    "4. Repeat (2) and (3) until the interval $[a_N,b_N]$ reaches some predetermined length.\n",
    "5. Return the midpoint value $m_N=(a_N+b_N)/2$."
   ]
  },
  {
   "cell_type": "markdown",
   "metadata": {},
   "source": [
    "## Absolute Error\n",
    "\n",
    "---\n",
    "\n",
    "**Theorem**. Let $f(x)$ be a continuous function on $[a,b]$ such that $f(a)f(b) < 0$. After $N$ iterations of the biection method, let $x_N$ be the midpoint in the $N$th subinterval $[a_N,b_N]$\n",
    "\n",
    "$$\n",
    "x_N = \\frac{a_N + b_N}{2}\n",
    "$$\n",
    "\n",
    "There exists an exact solution $x_{\\mathrm{true}}$ of the equation $f(x)=0$ in the subinterval $[a_N,b_N]$ and the absolute error is\n",
    "\n",
    "$$\n",
    "\\left| \\ x_{\\text{true}} - x_N \\, \\right| \\leq \\frac{b-a}{2^{N+1}}\n",
    "$$\n",
    "\n",
    "---\n",
    "\n",
    "Note that we can rearrange the error bound to see the minimum number of iterations required to guarantee absolute error less than a prescribed $\\epsilon$:\n",
    "\n",
    "\\begin{align}\n",
    "\\frac{b-a}{2^{N+1}} & < \\epsilon \\\\\\\n",
    "\\frac{b-a}{\\epsilon} & < 2^{N+1} \\\\\\\n",
    "\\ln \\left( \\frac{b-a}{\\epsilon} \\right) & < (N+1)\\ln(2) \\\\\\\n",
    "\\frac{\\ln \\left( \\frac{b-a}{\\epsilon} \\right)}{\\ln(2)} - 1 & < N\n",
    "\\end{align}"
   ]
  },
  {
   "cell_type": "markdown",
   "metadata": {},
   "source": [
    "## Implementation\n",
    "\n",
    "Write a function called `bisection` which takes 4 input parameters `f`, `a`, `b` and `N` and returns the approximation of a solution of $f(x)=0$ given by $N$ iterations of the bisection method. If $f(a_n)f(b_n) \\geq 0$ at any point in the iteration (caused either by a bad initial interval or rounding error in computations), then print `\"Bisection method fails.\"` and return `None`."
   ]
  },
  {
   "cell_type": "markdown",
   "metadata": {},
   "source": [
    "## Question:\n",
    "\n",
    "\n",
    "Let $f(x)=e^x - 2$ and $N=25$ iterations on $[0,1]$ to approximate zeros"
   ]
  },
  {
   "cell_type": "markdown",
   "metadata": {},
   "source": [
    "The absolute error is guaranteed to be less than $(2 - 1)/(2^{26})$ which is:"
   ]
  },
  {
   "cell_type": "markdown",
   "metadata": {},
   "source": [
    "Let's verify the absolute error is then than this error bound:"
   ]
  },
  {
   "cell_type": "code",
   "execution_count": 2,
   "metadata": {},
   "outputs": [],
   "source": [
    "import numpy as np"
   ]
  },
  {
   "cell_type": "code",
   "execution_count": 13,
   "metadata": {},
   "outputs": [],
   "source": [
    "True_sol = np.log(2)\n",
    "max_iter = 25\n",
    "f = lambda x:np.exp(x) - 2\n",
    "error_bound = 2**(-26)"
   ]
  },
  {
   "cell_type": "code",
   "execution_count": 17,
   "metadata": {},
   "outputs": [],
   "source": [
    "def bisection(f, a, b, max_iter):\n",
    "    if f(a)*f(b) > 0:\n",
    "        print(\"fail by same sign\")\n",
    "        return None\n",
    "    \n",
    "    elif f(a) == 0:\n",
    "        print(\"sol\", a)\n",
    "        return a\n",
    "    \n",
    "    elif f(b) == 0:\n",
    "        print(\"sol\", b)\n",
    "        return b\n",
    "    \n",
    "    else:\n",
    "        a_n = a; b_n = b\n",
    "        m_n = (a_n + b_n) * 0.5\n",
    "        iter = 0\n",
    "        for i in range(max_iter):\n",
    "            iter += 1\n",
    "            m_n = (a_n + b_n)/2\n",
    "            if f(m_n) == 0:\n",
    "                print(\"sol\", m_n)\n",
    "                return m_n\n",
    "            elif f(m_n)*f(a_n) < 0:\n",
    "                b_n = m_n\n",
    "            elif f(m_n)*f(b_n) < 0:\n",
    "                a_n = m_n\n",
    "            else:\n",
    "                print(\"fail by same sign\")\n",
    "                return None\n",
    "        return m_n, iter"
   ]
  },
  {
   "cell_type": "code",
   "execution_count": 18,
   "metadata": {},
   "outputs": [
    {
     "name": "stdout",
     "output_type": "stream",
     "text": [
      "(0.6931471526622772, 25)\n"
     ]
    },
    {
     "data": {
      "text/plain": [
       "array([False, False])"
      ]
     },
     "execution_count": 18,
     "metadata": {},
     "output_type": "execute_result"
    }
   ],
   "source": [
    "\n",
    "approx_phi = bisection(f, 0, 1, max_iter)\n",
    "print(approx_phi)\n",
    "abs(True_sol - approx_phi) < error_bound"
   ]
  },
  {
   "cell_type": "code",
   "execution_count": 19,
   "metadata": {},
   "outputs": [
    {
     "data": {
      "text/plain": [
       "0.6931471805599453"
      ]
     },
     "execution_count": 19,
     "metadata": {},
     "output_type": "execute_result"
    }
   ],
   "source": [
    "np.log(2)"
   ]
  },
  {
   "cell_type": "code",
   "execution_count": 25,
   "metadata": {},
   "outputs": [
    {
     "data": {
      "text/plain": [
       "(1.3247179687023163, 25)"
      ]
     },
     "execution_count": 25,
     "metadata": {},
     "output_type": "execute_result"
    }
   ],
   "source": [
    "f = lambda x:x**3- x -1\n",
    "approx_phi = bisection(f, 1, 2, max_iter)\n",
    "approx_phi"
   ]
  },
  {
   "cell_type": "code",
   "execution_count": null,
   "metadata": {},
   "outputs": [],
   "source": []
  }
 ],
 "metadata": {
  "kernelspec": {
   "display_name": "Python 3.10.4 ('science_dnn')",
   "language": "python",
   "name": "python3"
  },
  "language_info": {
   "codemirror_mode": {
    "name": "ipython",
    "version": 3
   },
   "file_extension": ".py",
   "mimetype": "text/x-python",
   "name": "python",
   "nbconvert_exporter": "python",
   "pygments_lexer": "ipython3",
   "version": "3.10.4"
  },
  "vscode": {
   "interpreter": {
    "hash": "3b5655a2a8c1a38d574ac6283bf55016e4bf8013b0575d01c2d272ed1f06bbbb"
   }
  }
 },
 "nbformat": 4,
 "nbformat_minor": 4
}
