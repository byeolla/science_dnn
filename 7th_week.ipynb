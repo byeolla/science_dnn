{
 "cells": [
  {
   "cell_type": "markdown",
   "metadata": {},
   "source": [
    "# Linear Algebra with SciPy\n",
    "The main Python package for linear algebra is the SciPy subpackage `scipy.linalg` which builds on NumPy. Let's import both packages:"
   ]
  },
  {
   "cell_type": "code",
   "execution_count": 1,
   "metadata": {},
   "outputs": [],
   "source": [
    "import numpy as np\n",
    "import scipy.linalg as la"
   ]
  },
  {
   "cell_type": "markdown",
   "metadata": {},
   "source": [
    "## NumPy Arrays\n",
    "### Array Attributes\n",
    "Create a 1D (one-dimensional) NumPy array and verify its dimensions, shape and size."
   ]
  },
  {
   "cell_type": "code",
   "execution_count": 2,
   "metadata": {},
   "outputs": [
    {
     "name": "stdout",
     "output_type": "stream",
     "text": [
      "[ 1  3 -2  1]\n"
     ]
    }
   ],
   "source": [
    "a = np.array([1, 3, -2, 1])\n",
    "print(a)"
   ]
  },
  {
   "cell_type": "markdown",
   "metadata": {},
   "source": [
    "Verify the number of dimensions:"
   ]
  },
  {
   "cell_type": "code",
   "execution_count": 3,
   "metadata": {},
   "outputs": [
    {
     "data": {
      "text/plain": [
       "1"
      ]
     },
     "execution_count": 3,
     "metadata": {},
     "output_type": "execute_result"
    }
   ],
   "source": [
    "a.ndim"
   ]
  },
  {
   "cell_type": "markdown",
   "metadata": {},
   "source": [
    "Verify the shape of the array:"
   ]
  },
  {
   "cell_type": "code",
   "execution_count": 4,
   "metadata": {},
   "outputs": [
    {
     "data": {
      "text/plain": [
       "(4,)"
      ]
     },
     "execution_count": 4,
     "metadata": {},
     "output_type": "execute_result"
    }
   ],
   "source": [
    "a.shape"
   ]
  },
  {
   "cell_type": "markdown",
   "metadata": {},
   "source": [
    "The shape of an array is returned as a Python tuple. The output in the cell above is a tuple of length 1. And we verify the size of the array(i.e. the total number of entries in the array):"
   ]
  },
  {
   "cell_type": "code",
   "execution_count": 5,
   "metadata": {},
   "outputs": [
    {
     "data": {
      "text/plain": [
       "4"
      ]
     },
     "execution_count": 5,
     "metadata": {},
     "output_type": "execute_result"
    }
   ],
   "source": [
    "a.size"
   ]
  },
  {
   "cell_type": "markdown",
   "metadata": {},
   "source": [
    "Create a 2D(two-dimensional) NumPy array(i.e. matrix):"
   ]
  },
  {
   "cell_type": "code",
   "execution_count": 6,
   "metadata": {},
   "outputs": [
    {
     "name": "stdout",
     "output_type": "stream",
     "text": [
      "[[ 1  2]\n",
      " [ 3  7]\n",
      " [-1  5]]\n"
     ]
    }
   ],
   "source": [
    "M = np.array([[1, 2], [3, 7], [-1, 5]])\n",
    "print(M)"
   ]
  },
  {
   "cell_type": "markdown",
   "metadata": {},
   "source": [
    "Verify the number of dimensions:"
   ]
  },
  {
   "cell_type": "code",
   "execution_count": 7,
   "metadata": {},
   "outputs": [
    {
     "data": {
      "text/plain": [
       "2"
      ]
     },
     "execution_count": 7,
     "metadata": {},
     "output_type": "execute_result"
    }
   ],
   "source": [
    "M.ndim"
   ]
  },
  {
   "cell_type": "markdown",
   "metadata": {},
   "source": [
    "Verify the shape of the array:"
   ]
  },
  {
   "cell_type": "code",
   "execution_count": 8,
   "metadata": {},
   "outputs": [
    {
     "data": {
      "text/plain": [
       "6"
      ]
     },
     "execution_count": 8,
     "metadata": {},
     "output_type": "execute_result"
    }
   ],
   "source": [
    "M.size"
   ]
  },
  {
   "cell_type": "markdown",
   "metadata": {},
   "source": [
    "Select a row or column from a 2D NumPy array and we get a 1D array:"
   ]
  },
  {
   "cell_type": "code",
   "execution_count": 9,
   "metadata": {},
   "outputs": [
    {
     "name": "stdout",
     "output_type": "stream",
     "text": [
      "[2 7 5]\n"
     ]
    }
   ],
   "source": [
    "col = M[:, 1]\n",
    "print(col)"
   ]
  },
  {
   "cell_type": "markdown",
   "metadata": {},
   "source": [
    "Verify the number of dimensions of the slice:"
   ]
  },
  {
   "cell_type": "code",
   "execution_count": 10,
   "metadata": {},
   "outputs": [
    {
     "data": {
      "text/plain": [
       "1"
      ]
     },
     "execution_count": 10,
     "metadata": {},
     "output_type": "execute_result"
    }
   ],
   "source": [
    "col.ndim"
   ]
  },
  {
   "cell_type": "markdown",
   "metadata": {},
   "source": [
    "Verify the shape and size of the slice:"
   ]
  },
  {
   "cell_type": "code",
   "execution_count": 11,
   "metadata": {},
   "outputs": [
    {
     "data": {
      "text/plain": [
       "(3,)"
      ]
     },
     "execution_count": 11,
     "metadata": {},
     "output_type": "execute_result"
    }
   ],
   "source": [
    "col.shape"
   ]
  },
  {
   "cell_type": "code",
   "execution_count": 12,
   "metadata": {},
   "outputs": [
    {
     "data": {
      "text/plain": [
       "3"
      ]
     },
     "execution_count": 12,
     "metadata": {},
     "output_type": "execute_result"
    }
   ],
   "source": [
    "col.size"
   ]
  },
  {
   "cell_type": "markdown",
   "metadata": {},
   "source": [
    "When we select a row of column from a 2D NumPy array, the result is a 1D NumPy array. However, we may want to select a column as a 2D column vector. \n",
    "This requires us to use the reshape method.\n",
    "\\\\\n",
    "For example, create a 2D column vector from the 1D slice selected from the matrix `M` above:"
   ]
  },
  {
   "cell_type": "code",
   "execution_count": 13,
   "metadata": {},
   "outputs": [
    {
     "name": "stdout",
     "output_type": "stream",
     "text": [
      "[2 7 5]\n"
     ]
    }
   ],
   "source": [
    "print(col)"
   ]
  },
  {
   "cell_type": "code",
   "execution_count": 14,
   "metadata": {},
   "outputs": [
    {
     "name": "stdout",
     "output_type": "stream",
     "text": [
      "[[2]\n",
      " [7]\n",
      " [5]]\n"
     ]
    }
   ],
   "source": [
    "column = np.array([2, 7, 5]).reshape(3, 1)\n",
    "print(column)"
   ]
  },
  {
   "cell_type": "markdown",
   "metadata": {},
   "source": [
    "Verify the dimensions, shape and size of the array:"
   ]
  },
  {
   "cell_type": "code",
   "execution_count": 15,
   "metadata": {},
   "outputs": [
    {
     "name": "stdout",
     "output_type": "stream",
     "text": [
      "Dimensions: 2\n",
      "Shape: (3, 1)\n",
      "Size: 3\n"
     ]
    }
   ],
   "source": [
    "print('Dimensions:', column.ndim)\n",
    "print(\"Shape:\", column.shape)\n",
    "print(\"Size:\", column.size)"
   ]
  },
  {
   "cell_type": "markdown",
   "metadata": {},
   "source": [
    "The variables `col` and `column` are different types of objects even though they have the \"same\" data."
   ]
  },
  {
   "cell_type": "code",
   "execution_count": 16,
   "metadata": {},
   "outputs": [
    {
     "name": "stdout",
     "output_type": "stream",
     "text": [
      "[2 7 5]\n"
     ]
    }
   ],
   "source": [
    "print(col)"
   ]
  },
  {
   "cell_type": "code",
   "execution_count": 17,
   "metadata": {},
   "outputs": [
    {
     "name": "stdout",
     "output_type": "stream",
     "text": [
      "Dimensions: 1\n",
      "Shape: (3,)\n",
      "Size: 3\n"
     ]
    }
   ],
   "source": [
    "print('Dimensions:', col.ndim)\n",
    "print(\"Shape:\", col.shape)\n",
    "print(\"Size:\", col.size)"
   ]
  },
  {
   "cell_type": "markdown",
   "metadata": {},
   "source": [
    "## Matrix Operations and Functions\n",
    "### Arithmetic Operations\n",
    "Recall that arithmetic array operations `+`,`-`,`/`,`*` and `**` are performed elementwise on NumPy arrays. Let's create a NumPy array and do some computations:"
   ]
  },
  {
   "cell_type": "code",
   "execution_count": 18,
   "metadata": {},
   "outputs": [
    {
     "name": "stdout",
     "output_type": "stream",
     "text": [
      "[[ 3  4]\n",
      " [-1  5]]\n"
     ]
    }
   ],
   "source": [
    "M = np.array([[3, 4], [-1, 5]])\n",
    "print(M)"
   ]
  },
  {
   "cell_type": "code",
   "execution_count": 19,
   "metadata": {},
   "outputs": [
    {
     "data": {
      "text/plain": [
       "array([[ 9, 16],\n",
       "       [ 1, 25]])"
      ]
     },
     "execution_count": 19,
     "metadata": {},
     "output_type": "execute_result"
    }
   ],
   "source": [
    "M * M"
   ]
  },
  {
   "cell_type": "markdown",
   "metadata": {},
   "source": [
    "### Matrix Multiplication\n",
    "We use the `@` operator to do matrix multiplication with NumPy arrays:"
   ]
  },
  {
   "cell_type": "code",
   "execution_count": 20,
   "metadata": {},
   "outputs": [
    {
     "data": {
      "text/plain": [
       "array([[ 5, 32],\n",
       "       [-8, 21]])"
      ]
     },
     "execution_count": 20,
     "metadata": {},
     "output_type": "execute_result"
    }
   ],
   "source": [
    "M @ M"
   ]
  },
  {
   "cell_type": "markdown",
   "metadata": {},
   "source": [
    "Let's compute $2I+3A-AB$ for \n",
    "$$ A = \\begin{bmatrix} 1 & 3\\\\ -1 & 7 \\end{bmatrix}, B=\\begin{bmatrix} 5 & 2\\\\ 1& 2\\end{bmatrix}$$ \n",
    "and $I$ is the identity matrix of size 2:"
   ]
  },
  {
   "cell_type": "code",
   "execution_count": 21,
   "metadata": {},
   "outputs": [
    {
     "name": "stdout",
     "output_type": "stream",
     "text": [
      "[[ 1  3]\n",
      " [-1  7]]\n"
     ]
    }
   ],
   "source": [
    "A = np.array([[1, 3], [-1, 7]])\n",
    "print(A)"
   ]
  },
  {
   "cell_type": "code",
   "execution_count": 22,
   "metadata": {},
   "outputs": [
    {
     "name": "stdout",
     "output_type": "stream",
     "text": [
      "[[5 2]\n",
      " [1 2]]\n"
     ]
    }
   ],
   "source": [
    "B = np.array([[5, 2], [1, 2]])\n",
    "print(B)"
   ]
  },
  {
   "cell_type": "code",
   "execution_count": 23,
   "metadata": {},
   "outputs": [
    {
     "name": "stdout",
     "output_type": "stream",
     "text": [
      "[[1. 0.]\n",
      " [0. 1.]]\n"
     ]
    }
   ],
   "source": [
    "I = np.eye(2)\n",
    "print(I)"
   ]
  },
  {
   "cell_type": "code",
   "execution_count": 24,
   "metadata": {},
   "outputs": [
    {
     "data": {
      "text/plain": [
       "array([[-3.,  1.],\n",
       "       [-5., 11.]])"
      ]
     },
     "execution_count": 24,
     "metadata": {},
     "output_type": "execute_result"
    }
   ],
   "source": [
    "2*I + 3*A - A@B"
   ]
  },
  {
   "cell_type": "markdown",
   "metadata": {},
   "source": [
    "#### Matrix Powers\n",
    "There's no symbol for matrix powers and so we must import the function `matrix_power` from the subpackage `numpy.linalg`."
   ]
  },
  {
   "cell_type": "code",
   "execution_count": 25,
   "metadata": {},
   "outputs": [],
   "source": [
    "from numpy.linalg import matrix_power as mpow"
   ]
  },
  {
   "cell_type": "code",
   "execution_count": 26,
   "metadata": {},
   "outputs": [
    {
     "name": "stdout",
     "output_type": "stream",
     "text": [
      "[[ 3  4]\n",
      " [-1  5]]\n"
     ]
    }
   ],
   "source": [
    "M = np.array([[3, 4], [-1, 5]])\n",
    "print(M)"
   ]
  },
  {
   "cell_type": "code",
   "execution_count": 27,
   "metadata": {},
   "outputs": [
    {
     "data": {
      "text/plain": [
       "array([[ 5, 32],\n",
       "       [-8, 21]])"
      ]
     },
     "execution_count": 27,
     "metadata": {},
     "output_type": "execute_result"
    }
   ],
   "source": [
    "mpow(M, 2)"
   ]
  },
  {
   "cell_type": "code",
   "execution_count": 28,
   "metadata": {},
   "outputs": [
    {
     "data": {
      "text/plain": [
       "array([[-1525,  3236],\n",
       "       [ -809,    93]])"
      ]
     },
     "execution_count": 28,
     "metadata": {},
     "output_type": "execute_result"
    }
   ],
   "source": [
    "mpow(M,5)"
   ]
  },
  {
   "cell_type": "markdown",
   "metadata": {},
   "source": [
    "Compare with the matrix multiplicatoin operator:"
   ]
  },
  {
   "cell_type": "code",
   "execution_count": 29,
   "metadata": {},
   "outputs": [
    {
     "data": {
      "text/plain": [
       "array([[-1525,  3236],\n",
       "       [ -809,    93]])"
      ]
     },
     "execution_count": 29,
     "metadata": {},
     "output_type": "execute_result"
    }
   ],
   "source": [
    "M @ M @ M @ M @ M"
   ]
  },
  {
   "cell_type": "code",
   "execution_count": 30,
   "metadata": {},
   "outputs": [
    {
     "data": {
      "text/plain": [
       "array([[-17, 180],\n",
       "       [-45,  73]])"
      ]
     },
     "execution_count": 30,
     "metadata": {},
     "output_type": "execute_result"
    }
   ],
   "source": [
    "mpow(M, 3)"
   ]
  },
  {
   "cell_type": "code",
   "execution_count": 31,
   "metadata": {},
   "outputs": [
    {
     "data": {
      "text/plain": [
       "array([[-17, 180],\n",
       "       [-45,  73]])"
      ]
     },
     "execution_count": 31,
     "metadata": {},
     "output_type": "execute_result"
    }
   ],
   "source": [
    "M @ M @ M"
   ]
  },
  {
   "cell_type": "markdown",
   "metadata": {},
   "source": [
    "#### Transpose\n",
    "We can take the transpose with `.T` attribute:"
   ]
  },
  {
   "cell_type": "code",
   "execution_count": 32,
   "metadata": {},
   "outputs": [
    {
     "name": "stdout",
     "output_type": "stream",
     "text": [
      "[[ 3  4]\n",
      " [-1  5]]\n"
     ]
    }
   ],
   "source": [
    "print(M)"
   ]
  },
  {
   "cell_type": "code",
   "execution_count": 33,
   "metadata": {},
   "outputs": [
    {
     "name": "stdout",
     "output_type": "stream",
     "text": [
      "[[ 3 -1]\n",
      " [ 4  5]]\n"
     ]
    }
   ],
   "source": [
    "print(M.T)"
   ]
  },
  {
   "cell_type": "markdown",
   "metadata": {},
   "source": [
    "Notice that $MM^{T}$ is a symmetric matrix:"
   ]
  },
  {
   "cell_type": "code",
   "execution_count": 34,
   "metadata": {},
   "outputs": [
    {
     "data": {
      "text/plain": [
       "array([[25, 17],\n",
       "       [17, 26]])"
      ]
     },
     "execution_count": 34,
     "metadata": {},
     "output_type": "execute_result"
    }
   ],
   "source": [
    "M @ M.T"
   ]
  },
  {
   "cell_type": "markdown",
   "metadata": {},
   "source": [
    "#### Inverse\n",
    "We can find the inverse using the funciton `scipy.linalg.inv`:"
   ]
  },
  {
   "cell_type": "code",
   "execution_count": 35,
   "metadata": {},
   "outputs": [
    {
     "name": "stdout",
     "output_type": "stream",
     "text": [
      "[[1 2]\n",
      " [3 4]]\n"
     ]
    }
   ],
   "source": [
    "A = np.array([[1, 2], [3, 4]])\n",
    "print(A)"
   ]
  },
  {
   "cell_type": "code",
   "execution_count": 36,
   "metadata": {},
   "outputs": [
    {
     "data": {
      "text/plain": [
       "array([[-2. ,  1. ],\n",
       "       [ 1.5, -0.5]])"
      ]
     },
     "execution_count": 36,
     "metadata": {},
     "output_type": "execute_result"
    }
   ],
   "source": [
    "la.inv(A)"
   ]
  },
  {
   "cell_type": "markdown",
   "metadata": {},
   "source": [
    "#### Trace\n",
    "We can find the trace of a matrix using the function `numpy.trace`:"
   ]
  },
  {
   "cell_type": "code",
   "execution_count": 37,
   "metadata": {},
   "outputs": [
    {
     "data": {
      "text/plain": [
       "5"
      ]
     },
     "execution_count": 37,
     "metadata": {},
     "output_type": "execute_result"
    }
   ],
   "source": [
    "np.trace(A)"
   ]
  },
  {
   "cell_type": "code",
   "execution_count": 38,
   "metadata": {},
   "outputs": [
    {
     "data": {
      "text/plain": [
       "-2.0"
      ]
     },
     "execution_count": 38,
     "metadata": {},
     "output_type": "execute_result"
    }
   ],
   "source": [
    "la.det(A)"
   ]
  },
  {
   "cell_type": "markdown",
   "metadata": {},
   "source": [
    "### Examples\n",
    "#### Characteristic Polynomials and Cayley-Hamiltion Theoren\n",
    "The characteristic polynomial of 2 by 2 square matrix $A$ is\n",
    "$$p_{A}(\\lambda) = \\text{det}(A-\\lambda I)=\\lambda^{2} - \\text{tr}(A)\\lambda + \\text{det}(A)$$\n",
    "The Cayley-Hamiltion Theorem states that any square matrix satisfies its characteristic polynomial. For a matrix $A$ of size 2, this means that\n",
    "$$p_{A}(A) = A^{2} - \\text{tr}(A)A + \\text{det}(A) I = 0$$\n",
    "Let's verify the Cayle-Hamilton Theorem for a few diffrerent matrices."
   ]
  },
  {
   "cell_type": "code",
   "execution_count": 39,
   "metadata": {},
   "outputs": [
    {
     "name": "stdout",
     "output_type": "stream",
     "text": [
      "[[1 2]\n",
      " [3 4]]\n"
     ]
    }
   ],
   "source": [
    "print(A)"
   ]
  },
  {
   "cell_type": "code",
   "execution_count": 40,
   "metadata": {},
   "outputs": [
    {
     "data": {
      "text/plain": [
       "array([[0., 0.],\n",
       "       [0., 0.]])"
      ]
     },
     "execution_count": 40,
     "metadata": {},
     "output_type": "execute_result"
    }
   ],
   "source": [
    "trace_A = np.trace(A)\n",
    "det_A = la.det(A)\n",
    "I = np.eye(2)\n",
    "A @ A - trace_A * A + det_A * I"
   ]
  },
  {
   "cell_type": "markdown",
   "metadata": {},
   "source": [
    "Let's do this again for some random matrices:"
   ]
  },
  {
   "cell_type": "code",
   "execution_count": 41,
   "metadata": {},
   "outputs": [
    {
     "name": "stdout",
     "output_type": "stream",
     "text": [
      "[[0 9]\n",
      " [3 2]]\n"
     ]
    }
   ],
   "source": [
    "N = np.random.randint(0, 10, [2, 2])\n",
    "print(N)"
   ]
  },
  {
   "cell_type": "code",
   "execution_count": 42,
   "metadata": {},
   "outputs": [
    {
     "data": {
      "text/plain": [
       "array([[0., 0.],\n",
       "       [0., 0.]])"
      ]
     },
     "execution_count": 42,
     "metadata": {},
     "output_type": "execute_result"
    }
   ],
   "source": [
    "trace_N = np.trace(N)\n",
    "det_N = la.det(N)\n",
    "I = np.eye(2)\n",
    "N @ N - trace_N * N + det_N * I"
   ]
  },
  {
   "cell_type": "markdown",
   "metadata": {},
   "source": [
    "### Projections\n",
    "The formula to project a vector $v$ onto a vector $w$ is\n",
    "$$\\text{proj}_{w}(v) = \\frac{v \\cdot w}{w \\cdot w}w$$\n",
    "Let's write a function called `proj` which computes the projection $v$ onto $w$."
   ]
  },
  {
   "cell_type": "code",
   "execution_count": 43,
   "metadata": {},
   "outputs": [],
   "source": [
    "def proj(v, w):\n",
    "    '''Project vector v onto w.'''\n",
    "    v = np.array(v)\n",
    "    w = np.array(w)\n",
    "    return np.sum(v*w)/np.sum(w*w) * w"
   ]
  },
  {
   "cell_type": "code",
   "execution_count": 44,
   "metadata": {},
   "outputs": [
    {
     "data": {
      "text/plain": [
       "array([2., 2., 2.])"
      ]
     },
     "execution_count": 44,
     "metadata": {},
     "output_type": "execute_result"
    }
   ],
   "source": [
    "proj([1, 2, 3], [1, 1, 1])"
   ]
  },
  {
   "cell_type": "markdown",
   "metadata": {},
   "source": [
    "## Eigenvalues and Eigenvectors"
   ]
  },
  {
   "cell_type": "code",
   "execution_count": 45,
   "metadata": {},
   "outputs": [],
   "source": [
    "import numpy as np\n",
    "import matplotlib.pyplot as plt\n",
    "import scipy.linalg as la"
   ]
  },
  {
   "cell_type": "markdown",
   "metadata": {},
   "source": [
    "### Definition\n",
    "Let $A$ be a square matrix. A non-zero vector $v$ is an eigenvector for $A$ with eigenvalue $\\lambda$ if $$Av = \\lambda v$$\n",
    "Rearranging the equation, we see that $v$ is a solution of the homogeneous system of equations\n",
    "$$(A-\\lambda I) v = 0$$\n",
    "where $I$ is the identity matrix of size $n$. Non-trivial solutions exies only if the matrix $A-\\lambda I$ is singular which means $\\text{det}(A-\\lambda I) = 0 $. Therefore eigenvalues of $A$ are roos of the characteristic polynomial\n",
    "$$p(\\lambda) = \\text{det}(A-\\lambda I)$$"
   ]
  },
  {
   "cell_type": "markdown",
   "metadata": {},
   "source": [
    "### scipy.linalg.eig\n",
    "The funciton `scipy.linalg.eig` computes eigenvalues and eigenvectors of a square matrix $A$.\n",
    "Let's consider a simple example with a diagonal matrix:"
   ]
  },
  {
   "cell_type": "code",
   "execution_count": 46,
   "metadata": {},
   "outputs": [
    {
     "name": "stdout",
     "output_type": "stream",
     "text": [
      "[[ 1  0]\n",
      " [ 0 -2]]\n"
     ]
    }
   ],
   "source": [
    "A = np.array([[1, 0], [0, -2]])\n",
    "print(A)"
   ]
  },
  {
   "cell_type": "markdown",
   "metadata": {},
   "source": [
    "The function `la.eig` returns a tuple `(eigvals, eigvecs)` where `eigvals` is a 1D NumPy array of complex numbers giving the eigenvalues of $A$, and `eigvecs` is a 2D NumPy array with the corresponding eigenvectors in the columns:"
   ]
  },
  {
   "cell_type": "code",
   "execution_count": 47,
   "metadata": {},
   "outputs": [],
   "source": [
    "results = la.eig(A)"
   ]
  },
  {
   "cell_type": "markdown",
   "metadata": {},
   "source": [
    "The eigenvalues of $A$ are:"
   ]
  },
  {
   "cell_type": "code",
   "execution_count": 48,
   "metadata": {},
   "outputs": [
    {
     "name": "stdout",
     "output_type": "stream",
     "text": [
      "[ 1.+0.j -2.+0.j]\n"
     ]
    }
   ],
   "source": [
    "print(results[0])"
   ]
  },
  {
   "cell_type": "markdown",
   "metadata": {},
   "source": [
    "The corresponding eigenvectors are:"
   ]
  },
  {
   "cell_type": "code",
   "execution_count": 49,
   "metadata": {},
   "outputs": [
    {
     "name": "stdout",
     "output_type": "stream",
     "text": [
      "[[1. 0.]\n",
      " [0. 1.]]\n"
     ]
    }
   ],
   "source": [
    "print(results[1])"
   ]
  },
  {
   "cell_type": "markdown",
   "metadata": {},
   "source": [
    "We can unpact the tuple:"
   ]
  },
  {
   "cell_type": "code",
   "execution_count": 50,
   "metadata": {},
   "outputs": [
    {
     "name": "stdout",
     "output_type": "stream",
     "text": [
      "[ 1.+0.j -2.+0.j]\n"
     ]
    }
   ],
   "source": [
    "eigvals, eigvecs = la.eig(A)\n",
    "print(eigvals)"
   ]
  },
  {
   "cell_type": "code",
   "execution_count": 51,
   "metadata": {},
   "outputs": [
    {
     "name": "stdout",
     "output_type": "stream",
     "text": [
      "[[1. 0.]\n",
      " [0. 1.]]\n"
     ]
    }
   ],
   "source": [
    "print(eigvecs)"
   ]
  },
  {
   "cell_type": "markdown",
   "metadata": {},
   "source": [
    "If we know that the eigenvalues are real numbers(i.e. if $A$ is symmetric), then we can use the NumPy array method `.real` to convert the array of eigenvalues to real numbers:"
   ]
  },
  {
   "cell_type": "code",
   "execution_count": 52,
   "metadata": {},
   "outputs": [
    {
     "name": "stdout",
     "output_type": "stream",
     "text": [
      "[ 1. -2.]\n"
     ]
    }
   ],
   "source": [
    "eigvals = eigvals.real\n",
    "print(eigvals)"
   ]
  },
  {
   "cell_type": "markdown",
   "metadata": {},
   "source": [
    "Notice that the position of an eigenvalue in the array `eigvals` correspond to the column in `eigvecs` with its eigenvector:"
   ]
  },
  {
   "cell_type": "code",
   "execution_count": 53,
   "metadata": {},
   "outputs": [
    {
     "name": "stdout",
     "output_type": "stream",
     "text": [
      "-2.0\n"
     ]
    }
   ],
   "source": [
    "lambda1 = eigvals[1]\n",
    "print(lambda1)"
   ]
  },
  {
   "cell_type": "code",
   "execution_count": 54,
   "metadata": {},
   "outputs": [
    {
     "name": "stdout",
     "output_type": "stream",
     "text": [
      "[[0.]\n",
      " [1.]]\n"
     ]
    }
   ],
   "source": [
    "v1 = eigvecs[:, 1].reshape(2,1)\n",
    "print(v1)"
   ]
  },
  {
   "cell_type": "code",
   "execution_count": 55,
   "metadata": {},
   "outputs": [
    {
     "data": {
      "text/plain": [
       "array([[ 0.],\n",
       "       [-2.]])"
      ]
     },
     "execution_count": 55,
     "metadata": {},
     "output_type": "execute_result"
    }
   ],
   "source": [
    "A @ v1"
   ]
  },
  {
   "cell_type": "code",
   "execution_count": 56,
   "metadata": {},
   "outputs": [
    {
     "data": {
      "text/plain": [
       "array([[-0.],\n",
       "       [-2.]])"
      ]
     },
     "execution_count": 56,
     "metadata": {},
     "output_type": "execute_result"
    }
   ],
   "source": [
    "lambda1 * v1"
   ]
  },
  {
   "cell_type": "markdown",
   "metadata": {},
   "source": [
    "#### Examples\n",
    "##### Symmetric Matrices\n",
    "The eigenvalues of a symmetric matrix are always real and the eigenvectors are always orthogonal! Let's verify these facts with some random matrices:"
   ]
  },
  {
   "cell_type": "code",
   "execution_count": 57,
   "metadata": {},
   "outputs": [
    {
     "name": "stdout",
     "output_type": "stream",
     "text": [
      "[[5 3 8 2]\n",
      " [5 6 2 6]\n",
      " [2 6 1 0]\n",
      " [1 3 9 7]]\n"
     ]
    }
   ],
   "source": [
    "n = 4\n",
    "P = np.random.randint(0, 10, (n,n))\n",
    "print(P)"
   ]
  },
  {
   "cell_type": "markdown",
   "metadata": {},
   "source": [
    "Create the symmetric matrix $S=PP^{T}$:"
   ]
  },
  {
   "cell_type": "code",
   "execution_count": 58,
   "metadata": {},
   "outputs": [
    {
     "name": "stdout",
     "output_type": "stream",
     "text": [
      "[[102  71  36 100]\n",
      " [ 71 101  48  83]\n",
      " [ 36  48  41  29]\n",
      " [100  83  29 140]]\n"
     ]
    }
   ],
   "source": [
    "S = P @ P.T\n",
    "print(S)"
   ]
  },
  {
   "cell_type": "markdown",
   "metadata": {},
   "source": [
    "Let's unpack the eigenvalues and eigenvectors of $S$:"
   ]
  },
  {
   "cell_type": "code",
   "execution_count": 59,
   "metadata": {},
   "outputs": [
    {
     "name": "stdout",
     "output_type": "stream",
     "text": [
      "[302.40634743+0.j  51.2877515 +0.j  21.81417263+0.j   8.49172844+0.j]\n"
     ]
    }
   ],
   "source": [
    "evals, evecs = la.eig(S)\n",
    "print(evals)"
   ]
  },
  {
   "cell_type": "markdown",
   "metadata": {},
   "source": [
    "The eigenvalues all have zero imaginary part and so they are indeed real numbers:"
   ]
  },
  {
   "cell_type": "code",
   "execution_count": 60,
   "metadata": {},
   "outputs": [
    {
     "name": "stdout",
     "output_type": "stream",
     "text": [
      "[302.40634743  51.2877515   21.81417263   8.49172844]\n"
     ]
    }
   ],
   "source": [
    "evals = evals.real\n",
    "print(evals)"
   ]
  },
  {
   "cell_type": "markdown",
   "metadata": {},
   "source": [
    "The corresponding eigenvectors of $A$ are:"
   ]
  },
  {
   "cell_type": "code",
   "execution_count": 61,
   "metadata": {},
   "outputs": [
    {
     "name": "stdout",
     "output_type": "stream",
     "text": [
      "[[ 0.5371343   0.18096882 -0.74066309  0.36077032]\n",
      " [ 0.50617777 -0.58331251  0.44525206  0.45307967]\n",
      " [ 0.23700246 -0.58545404 -0.31601193 -0.70796177]\n",
      " [ 0.63174413  0.53314198  0.39154215 -0.40417042]]\n"
     ]
    }
   ],
   "source": [
    "print(evecs)"
   ]
  },
  {
   "cell_type": "markdown",
   "metadata": {},
   "source": [
    "Let's check that the eigenvectors are orthogonal to each other:"
   ]
  },
  {
   "cell_type": "code",
   "execution_count": 62,
   "metadata": {},
   "outputs": [
    {
     "name": "stdout",
     "output_type": "stream",
     "text": [
      "[0.5371343  0.50617777 0.23700246 0.63174413]\n"
     ]
    }
   ],
   "source": [
    "v1 = evecs[:,0] # First column is the first eigenvector\n",
    "print(v1)"
   ]
  },
  {
   "cell_type": "code",
   "execution_count": 63,
   "metadata": {},
   "outputs": [
    {
     "name": "stdout",
     "output_type": "stream",
     "text": [
      "[ 0.18096882 -0.58331251 -0.58545404  0.53314198]\n"
     ]
    }
   ],
   "source": [
    "v2 = evecs[:, 1]\n",
    "print(v2)"
   ]
  },
  {
   "cell_type": "code",
   "execution_count": 64,
   "metadata": {},
   "outputs": [
    {
     "data": {
      "text/plain": [
       "-1.1102230246251565e-16"
      ]
     },
     "execution_count": 64,
     "metadata": {},
     "output_type": "execute_result"
    }
   ],
   "source": [
    "v1 @ v2"
   ]
  },
  {
   "cell_type": "markdown",
   "metadata": {},
   "source": [
    "The dot product of eigenvectors $v_{1} and v_{2}$ is zero(the numver above is very close to zero and is due to rounding errors in the computations) and so they are orthogonal!"
   ]
  },
  {
   "cell_type": "markdown",
   "metadata": {},
   "source": [
    "#### Diagonalization\n",
    "A square matrix $M$ is diagonalizable if ti is similar to a diagonal mattrix. In other words, $M$ is diagonalizable if there exists an invertible matrix $P$ such that $D = P^{-1}MP$ is a diagonal matrix.\n",
    "\n",
    "A beautiful result in linear algebra is that a square matrix $M$ of size $n$ is diagonalizable if and only if $M$ has $n$ independent eigenvectors. Furthermore, $M=PDP^{-1}$ where the oclumns of $P$ are the eigenvectors of $M$ and $D$ has corresponding eigenvalues along the diagonal.\n",
    "\n",
    "Let's use this to construct a matrix with given eigenvalues $\\lambda_{1}=3, \\lambda_{2}=1$, and eigenvectors $v_{1} = \\left[1,1\\right]^{T}, v_{2} = \\left[1, -1 \\right]^{T}$."
   ]
  },
  {
   "cell_type": "code",
   "execution_count": 65,
   "metadata": {},
   "outputs": [
    {
     "name": "stdout",
     "output_type": "stream",
     "text": [
      "[[ 1  1]\n",
      " [ 1 -1]]\n"
     ]
    }
   ],
   "source": [
    "P = np.array([[1, 1], [1, -1]])\n",
    "print(P)"
   ]
  },
  {
   "cell_type": "code",
   "execution_count": 66,
   "metadata": {},
   "outputs": [
    {
     "name": "stdout",
     "output_type": "stream",
     "text": [
      "[[3 0]\n",
      " [0 1]]\n"
     ]
    }
   ],
   "source": [
    "D = np.diag((3, 1))\n",
    "print(D)"
   ]
  },
  {
   "cell_type": "code",
   "execution_count": 67,
   "metadata": {},
   "outputs": [
    {
     "name": "stdout",
     "output_type": "stream",
     "text": [
      "[[2. 1.]\n",
      " [1. 2.]]\n"
     ]
    }
   ],
   "source": [
    "M = P @ D @ la.inv(P)\n",
    "print(M)"
   ]
  },
  {
   "cell_type": "markdown",
   "metadata": {},
   "source": [
    "Let's verify that the eigenvalues of $M$ are 3 and 1:"
   ]
  },
  {
   "cell_type": "code",
   "execution_count": 68,
   "metadata": {},
   "outputs": [
    {
     "name": "stdout",
     "output_type": "stream",
     "text": [
      "[3.+0.j 1.+0.j]\n"
     ]
    }
   ],
   "source": [
    "evals, evecs = la.eig(M)\n",
    "print(evals)"
   ]
  },
  {
   "cell_type": "markdown",
   "metadata": {},
   "source": [
    "Verify the eigenvectors:"
   ]
  },
  {
   "cell_type": "code",
   "execution_count": 69,
   "metadata": {},
   "outputs": [
    {
     "name": "stdout",
     "output_type": "stream",
     "text": [
      "[[ 0.70710678 -0.70710678]\n",
      " [ 0.70710678  0.70710678]]\n"
     ]
    }
   ],
   "source": [
    "print(evecs)"
   ]
  },
  {
   "cell_type": "markdown",
   "metadata": {},
   "source": [
    "##### Matrix Powers\n",
    "Let $M$ be a square matrix. Computing powers of $M$ by matrix multiplication $$M^{k}=\\underbrace{MM \\cdots M}_{k}$$\n",
    "is computationally expensive. Instead, let's use diagonalization to compute $M^{k}$ more efficiently\n",
    "$$M^{k} =(PDP^{-1})^{k} = \\underbrace{PDP^{-1}PDP^{-1} \\cdots PDP^{-1}}_{k} = PD^{k}P^{-1}$$\n",
    "Let's compute $M^{20}$ both ways and compare execution time."
   ]
  },
  {
   "cell_type": "code",
   "execution_count": 70,
   "metadata": {},
   "outputs": [],
   "source": [
    "Pinv = la.inv(P)"
   ]
  },
  {
   "cell_type": "code",
   "execution_count": 71,
   "metadata": {},
   "outputs": [],
   "source": [
    "k = 20"
   ]
  },
  {
   "cell_type": "code",
   "execution_count": 72,
   "metadata": {},
   "outputs": [
    {
     "name": "stdout",
     "output_type": "stream",
     "text": [
      "31.5 µs ± 1.38 µs per loop (mean ± std. dev. of 7 runs, 10,000 loops each)\n"
     ]
    }
   ],
   "source": [
    "%%timeit\n",
    "result = M.copy()\n",
    "for _ in range(1, k):\n",
    "    result = result @ M"
   ]
  },
  {
   "cell_type": "markdown",
   "metadata": {},
   "source": [
    "Let's use diagonalization to do the same computation."
   ]
  },
  {
   "cell_type": "code",
   "execution_count": 73,
   "metadata": {},
   "outputs": [
    {
     "name": "stdout",
     "output_type": "stream",
     "text": [
      "4.97 µs ± 193 ns per loop (mean ± std. dev. of 7 runs, 100,000 loops each)\n"
     ]
    }
   ],
   "source": [
    "%%timeit\n",
    "P @ D**k @ Pinv"
   ]
  },
  {
   "cell_type": "markdown",
   "metadata": {},
   "source": [
    "Diagonalization computes $M^{k}$ much faster!"
   ]
  },
  {
   "cell_type": "markdown",
   "metadata": {},
   "source": [
    "## Applications"
   ]
  },
  {
   "cell_type": "code",
   "execution_count": 74,
   "metadata": {},
   "outputs": [],
   "source": [
    "import numpy as np\n",
    "import matplotlib.pyplot as plt\n",
    "import scipy.linalg as la"
   ]
  },
  {
   "cell_type": "markdown",
   "metadata": {},
   "source": [
    "### Polynomial Interpolation\n",
    "Polynomial interpolation finds the unique polynomial of degree $n$ which passes through $n+1$ points in the $xy$-plane. For example, two points in the $xy$-plane determine a lines and three points determine a parabola."
   ]
  },
  {
   "cell_type": "markdown",
   "metadata": {},
   "source": [
    "#### Formulation\n",
    "Suppose we have $n+1$ points in the $xy$-plane $$(x_{0},y_{0}), (x_{1}, y_{1}), \\dots, (x_{n},y_{n})$$ such that all the $x$ values are distinct\n",
    "$(x_{i} \\neq x_{j} \\text{for} i\\neq j)$. The general form of a degree $n$ polynomial is $$p(x)=a_{0} + a_{1}x+a_{2}x^{2} + \\dots + a_{n}x^{n}$$\n",
    "If $p(x)$ is the unique degree $n$ polynomial which interpolates all the points, then the coefficeints $a_{0}, a_{1}, \\dots, a_{n}$ satisfy the following equations:\n",
    "$$\\begin{align*}\n",
    "a_{0} + a_{1}x_{0} + a_{2}x_{0}^{2} + \\dots + a_{n}x_{0}^{n} &= y_{0}\\\\\n",
    "a_{0} + a_{1}x_{1} + a_{2}x_{1}^{2} + \\dots + a_{n}x_{1}^{n} &= y_{1}\\\\\n",
    "&\\vdots\\\\\n",
    "a_{0} + a_{1}x_{n} + a_{2}x_{n}^{2} + \\dots + a_{n}x_{n}^{n} &= y_{n}\n",
    "\\end{align*}$$\n",
    "Therefore the vector of coefficents\n",
    "$$ a = \\begin{bmatrix} a_{0} \\\\ a_{1} \\\\ \\vdots \\\\ a_{n} \\end{bmatrix}$$\n",
    "is the unique the solution of the linear system of equations $$Xa=y$$\n",
    "where $X$ is the Vandermonde matrix and $y$ is the vector of $y$ values \n",
    "$$ X =\n",
    "\\begin{bmatrix}\n",
    "1 & x_{0} & x_{0}^{2} & \\dots &x_{0}^{n}\\\\\n",
    "1 & x_{1} & x_{1}^{2} & \\dots &x_{1}^{n}\\\\\n",
    "  & \\vdots &           &       &\\vdots \\\\\n",
    "1 & x_{n} & x_{n}^{2} & \\dots &x_{n}^{n}\n",
    "\\end{bmatrix}\n",
    "\\quad \\text{and} \\quad y = \\begin{bmatrix}\n",
    "y_{0} \\\\\n",
    "y_{1} \\\\\n",
    "y_{2} \\\\\n",
    "\\vdots \\\\\n",
    "y_{n} \\end{bmatrix}$$"
   ]
  },
  {
   "cell_type": "markdown",
   "metadata": {},
   "source": [
    "##### Examples\n",
    "##### Simple Parabola\n",
    "Let's do a simple example. We know that $y=x^{2}$ is the unique degree 2 polynomial that interpolates the points $(-1, 1), (0, 0) and (1, 1)$. Let's compute the polynomial interpolation of these points and verify the expected result $a_{0} = 0, a_{1} = 0$ and $a_{2} =1 $. \n",
    "\n",
    "Create the Vandermonde matrix $X$ with the array of $x$ values:"
   ]
  },
  {
   "cell_type": "code",
   "execution_count": 77,
   "metadata": {},
   "outputs": [
    {
     "name": "stdout",
     "output_type": "stream",
     "text": [
      "[[ 1 -1  1]\n",
      " [ 1  0  0]\n",
      " [ 1  1  1]]\n"
     ]
    }
   ],
   "source": [
    "x = np.array([-1, 0, 1])\n",
    "X = np.column_stack([[1, 1, 1], x, x**2])\n",
    "print(X)"
   ]
  },
  {
   "cell_type": "markdown",
   "metadata": {},
   "source": [
    "Create the vector $y$ of $y$ values:"
   ]
  },
  {
   "cell_type": "code",
   "execution_count": 79,
   "metadata": {},
   "outputs": [
    {
     "name": "stdout",
     "output_type": "stream",
     "text": [
      "[[1]\n",
      " [0]\n",
      " [1]]\n"
     ]
    }
   ],
   "source": [
    "y = np.array([1, 0, 1]).reshape(3, 1)\n",
    "print(y)"
   ]
  },
  {
   "cell_type": "markdown",
   "metadata": {},
   "source": [
    "We expect the solution $\\mathbf{a} = \\left[ 0 , 0, 1 \\right]^{T}$"
   ]
  },
  {
   "cell_type": "code",
   "execution_count": 80,
   "metadata": {},
   "outputs": [
    {
     "name": "stdout",
     "output_type": "stream",
     "text": [
      "[[0.]\n",
      " [0.]\n",
      " [1.]]\n"
     ]
    }
   ],
   "source": [
    "a = la.solve(X, y)\n",
    "print(a)"
   ]
  },
  {
   "cell_type": "markdown",
   "metadata": {},
   "source": [
    "Success!"
   ]
  },
  {
   "cell_type": "markdown",
   "metadata": {},
   "source": [
    "###### Another Parabola\n",
    "The polynomial interpolation of 3 points $(x_{0}, y_{0}), (x_{1}, y_{1}) and (x_{2}, y_{2})$ is the parabola $p(x) = a_{0} + a_{1}x^{2} + a_{2}x^{2}$ such that the coefficients satisfy\n",
    "$$\\begin{align*}\n",
    "a_{0} + a_{1}x_{0}+a_{2}x_{0}^{2} = y_{0}\\\\\n",
    "a_{0} + a_{1}x_{1}+a_{2}x_{1}^{2} = y_{0}\\\\\n",
    "a_{0} + a_{1}x_{2}+a_{2}x_{2}^{2} = y_{0}\n",
    "\\end{align*}$$\n",
    "Let's find the polynomial interpolation of the points $(0,6), (3,1) and (8,2)$.\n",
    "\n",
    "Create the Vandermonde matrix $X$:"
   ]
  },
  {
   "cell_type": "code",
   "execution_count": 81,
   "metadata": {},
   "outputs": [
    {
     "name": "stdout",
     "output_type": "stream",
     "text": [
      "[[ 1  0  0]\n",
      " [ 1  3  9]\n",
      " [ 1  8 64]]\n"
     ]
    }
   ],
   "source": [
    "x = np.array([0, 3, 8])\n",
    "X = np.column_stack([[1, 1, 1], x, x**2])\n",
    "print(X)"
   ]
  },
  {
   "cell_type": "code",
   "execution_count": 83,
   "metadata": {},
   "outputs": [
    {
     "name": "stdout",
     "output_type": "stream",
     "text": [
      "[[6]\n",
      " [1]\n",
      " [2]]\n"
     ]
    }
   ],
   "source": [
    "y = np.array([6, 1, 2]).reshape(3, 1)\n",
    "print(y)"
   ]
  },
  {
   "cell_type": "markdown",
   "metadata": {},
   "source": [
    "Compute the vector $\\mathbf{a}$ of coefficients:"
   ]
  },
  {
   "cell_type": "code",
   "execution_count": 85,
   "metadata": {},
   "outputs": [
    {
     "name": "stdout",
     "output_type": "stream",
     "text": [
      "[[ 6.        ]\n",
      " [-2.36666667]\n",
      " [ 0.23333333]]\n"
     ]
    }
   ],
   "source": [
    "a = la.solve(X, y)\n",
    "print(a)"
   ]
  },
  {
   "cell_type": "markdown",
   "metadata": {},
   "source": [
    "And plot the result:"
   ]
  },
  {
   "cell_type": "code",
   "execution_count": 86,
   "metadata": {},
   "outputs": [
    {
     "data": {
      "image/png": "[encoded data removed]",
      "text/plain": [
       "<Figure size 640x480 with 1 Axes>"
      ]
     },
     "metadata": {},
     "output_type": "display_data"
    }
   ],
   "source": [
    "xs = np.linspace(0, 8, 20)\n",
    "ys = a[0] + a[1] * xs + a[2]*xs**2\n",
    "plt.plot(xs, ys, x, y, 'b.', ms=20)\n",
    "plt.show()"
   ]
  },
  {
   "cell_type": "markdown",
   "metadata": {},
   "source": [
    "##### Over Fitting 10 Random Points\n",
    "Now let's interpolate points with $x_{i} = i, i= 0, \\dots, 9$ and 10 random integers sampled from $[0, 10)$ as $y$ values:"
   ]
  },
  {
   "cell_type": "code",
   "execution_count": 87,
   "metadata": {},
   "outputs": [
    {
     "data": {
      "image/png": "[encoded data removed]",
      "text/plain": [
       "<Figure size 640x480 with 1 Axes>"
      ]
     },
     "metadata": {},
     "output_type": "display_data"
    }
   ],
   "source": [
    "N = 10\n",
    "x = np.arange(0, N)\n",
    "y = np.random.randint(0, 10, N)\n",
    "plt.plot(x, y, 'r.')\n",
    "plt.show()"
   ]
  },
  {
   "cell_type": "markdown",
   "metadata": {},
   "source": [
    "Create the Vandermonde matrix and verify the first 5 rows and columns:"
   ]
  },
  {
   "cell_type": "code",
   "execution_count": 88,
   "metadata": {},
   "outputs": [
    {
     "name": "stdout",
     "output_type": "stream",
     "text": [
      "[[  1   0   0   0   0]\n",
      " [  1   1   1   1   1]\n",
      " [  1   2   4   8  16]\n",
      " [  1   3   9  27  81]\n",
      " [  1   4  16  64 256]]\n"
     ]
    }
   ],
   "source": [
    "X = np.column_stack([x**k for k in range(0, N)])\n",
    "print(X[:5, :5])"
   ]
  },
  {
   "cell_type": "code",
   "execution_count": 89,
   "metadata": {},
   "outputs": [
    {
     "name": "stdout",
     "output_type": "stream",
     "text": [
      "[[        1         0         0         0         0         0         0\n",
      "          0         0         0]\n",
      " [        1         1         1         1         1         1         1\n",
      "          1         1         1]\n",
      " [        1         2         4         8        16        32        64\n",
      "        128       256       512]\n",
      " [        1         3         9        27        81       243       729\n",
      "       2187      6561     19683]\n",
      " [        1         4        16        64       256      1024      4096\n",
      "      16384     65536    262144]\n",
      " [        1         5        25       125       625      3125     15625\n",
      "      78125    390625   1953125]\n",
      " [        1         6        36       216      1296      7776     46656\n",
      "     279936   1679616  10077696]\n",
      " [        1         7        49       343      2401     16807    117649\n",
      "     823543   5764801  40353607]\n",
      " [        1         8        64       512      4096     32768    262144\n",
      "    2097152  16777216 134217728]\n",
      " [        1         9        81       729      6561     59049    531441\n",
      "    4782969  43046721 387420489]]\n"
     ]
    }
   ],
   "source": [
    "print(X)"
   ]
  },
  {
   "cell_type": "markdown",
   "metadata": {},
   "source": [
    "Solve the linear system:"
   ]
  },
  {
   "cell_type": "code",
   "execution_count": 90,
   "metadata": {},
   "outputs": [
    {
     "name": "stdout",
     "output_type": "stream",
     "text": [
      "[ 7.00000000e+00 -1.61446032e+02  4.44881548e+02 -4.78430500e+02\n",
      "  2.64695486e+02 -8.38662616e+01  1.58173611e+01 -1.75454696e+00\n",
      "  1.05605159e-01 -2.65928131e-03]\n"
     ]
    }
   ],
   "source": [
    "a = la.solve(X, y)\n",
    "print(a)"
   ]
  },
  {
   "cell_type": "markdown",
   "metadata": {},
   "source": [
    "Plot the interpolation:"
   ]
  },
  {
   "cell_type": "code",
   "execution_count": 91,
   "metadata": {},
   "outputs": [
    {
     "data": {
      "image/png": "[encoded data removed]",
      "text/plain": [
       "<Figure size 640x480 with 1 Axes>"
      ]
     },
     "metadata": {},
     "output_type": "display_data"
    }
   ],
   "source": [
    "xs = np.linspace(0, N-1, 200)\n",
    "ys = sum([a[k]*xs**k for k in range(0,N)])\n",
    "plt.plot(x, y, 'r.', xs, ys)\n",
    "plt.show()"
   ]
  },
  {
   "cell_type": "markdown",
   "metadata": {},
   "source": [
    "Success! But notice how unstable the curve is. That's why it better to use a cubic spline to interpolate a large number of points.\n",
    "\n",
    "However real-life data is usually very noisy and interpolation is not the best tool to fit a line to data. Instead we would want to take a polynomial with smaller degree (like a line) and fit it as best we can without interpolation the points."
   ]
  },
  {
   "cell_type": "markdown",
   "metadata": {},
   "source": [
    "### Least Sqaures Linear Regression\n",
    "Suppose we have $n+1$ points $$(x_{0}, y_{0}), (x_{1},y_{1}), \\dots, (x_{n},y_{n})$$ in the $xy$-plane and we want to fit a line \n",
    "$$y=a_{0} +a_{1}x$$\n",
    "that \"best fits\" the data. There are different ways to quantify what \"best fit\" means but the most common method is called least squares linear regression. In least squares linear regression, we want to minimize the sum of squared errors\n",
    "$$SSE = \\sum_{i}(y_{i}-(a_{0}+a_{i}x_{i}))^{2}$$"
   ]
  },
  {
   "cell_type": "markdown",
   "metadata": {},
   "source": [
    "#### Formulation\n",
    "If we form matrices \n",
    "$$ X = \n",
    "\\begin{bmatrix} \n",
    "1 & x_{0}\\\\\n",
    "1 & x_{1}\\\\\n",
    "\\vdots & \\vdots\\\\\n",
    "1 & x_{n}\n",
    "\\end{bmatrix},\n",
    "\\mathbf{y} = \\begin{bmatrix}\n",
    "y_{0}\\\\\n",
    "y_{1}\\\\\n",
    "\\vdots\\\\\n",
    "y_{n}\n",
    "\\end{bmatrix}\n",
    "\n",
    "\\mathbb{a} = \\begin{bmatrix} a_{0} \\\\a_{1} \\end{bmatrix}$$\n",
    "then the sum of squared errors can be expressed as $$SSE = \\left|\\mathbf{y}-X\\mathbf{a}\\right|^{2}$$\n",
    "\n",
    "**Theorem.** (Least Squares Regression) Consider $n+1$ points\n",
    "$$\\left(x_{0}, y_{0}\\right), \\left(x_{1},y_{1}\\right), \\dots, \\left(x_{n}, y_{n}\\right)$$\n",
    "in the $xy$-plane. The coefficients $\\mathbf{a}=\\left[a_{0}, a_{1} \\right]^{T}$ which minimize the sum of squared errors\n",
    "$$SSE = \\sum_{i} (y_{i}-(a_{0}+a_{i}x_{i}))^{2}$$\n",
    "is the unique solution of the system\n",
    "$$(X^{T}X)\\mathbf{a} = X^{T}\\mathbf{y}$$\n",
    "\n",
    "*Sketch of Proof.* The product $X\\mathbf{a}$ is in the column space of $X$. The line connecting $y$ to the nearest point in the column space of $X$ is perpendicular to the column space to $X$. Therefore \n",
    "$$X^{T}(\\mathbf{y}-X\\mathbf{a}) = \\mathbf{0}$$ \n",
    "and so\n",
    "$$(X^{T}X)\\mathbf{a} = X^{T}\\mathbf{y}$$"
   ]
  },
  {
   "cell_type": "markdown",
   "metadata": {},
   "source": [
    "#### Examples\n",
    "**Fake Noisy Linear Data**\n",
    "Let's do an example with some fake data. Let's build a set of random points based on the model $$y= a_{0} + a_{1} + \\epsilon$$\n",
    "for some arbitrary choice of $a_{0}$, and $a_{1}$. The factor $\\epsilon$ respresents some random noise which we model using the normal distribution. We can generate random numbers sampled from the standard normal distribution using the NumPy function `numpy.random.rand`.\n",
    "\n",
    "This goal is to demonstrate that we can use linear regression to retrieve the coefficients $a_{0}$ and $a_{1}$ from the linear regression calculation."
   ]
  },
  {
   "cell_type": "code",
   "execution_count": 95,
   "metadata": {},
   "outputs": [
    {
     "data": {
      "image/png": "[encoded data removed]",
      "text/plain": [
       "<Figure size 640x480 with 1 Axes>"
      ]
     },
     "metadata": {},
     "output_type": "display_data"
    }
   ],
   "source": [
    "a0 = 2\n",
    "a1 = 3\n",
    "N = 100\n",
    "x = np.random.rand(100)\n",
    "noise = 0.1*np.random.rand(100)\n",
    "y = a0 + a1*x + noise\n",
    "plt.scatter(x,y);\n",
    "plt.show()"
   ]
  },
  {
   "cell_type": "markdown",
   "metadata": {},
   "source": [
    "Let's use linear regression to retrieve the coefficients $a_{0}$ and $a_{1}$. Construct the matrix $X$:"
   ]
  },
  {
   "cell_type": "code",
   "execution_count": 96,
   "metadata": {},
   "outputs": [
    {
     "name": "stdout",
     "output_type": "stream",
     "text": [
      "(100, 2)\n"
     ]
    }
   ],
   "source": [
    "X = np.column_stack([np.ones(N),x])\n",
    "print(X.shape)\n",
    "#print(X)"
   ]
  },
  {
   "cell_type": "markdown",
   "metadata": {},
   "source": [
    "Let's look at the first 5 rows of $X$ to see that it is in the correct form:"
   ]
  },
  {
   "cell_type": "code",
   "execution_count": 97,
   "metadata": {},
   "outputs": [
    {
     "data": {
      "text/plain": [
       "array([[1.        , 0.8304205 ],\n",
       "       [1.        , 0.82188136],\n",
       "       [1.        , 0.76062871],\n",
       "       [1.        , 0.5828812 ],\n",
       "       [1.        , 0.31225907]])"
      ]
     },
     "execution_count": 97,
     "metadata": {},
     "output_type": "execute_result"
    }
   ],
   "source": [
    "X[:5, :]"
   ]
  },
  {
   "cell_type": "markdown",
   "metadata": {},
   "source": [
    "Use `scipy.linalg.solve` to solve $\\left(X^{T}X\\right)\\mathbf{a} = \\left(X^{T}\\right)\\mathbf{y}$ for $\\mathbf{a}$:"
   ]
  },
  {
   "cell_type": "code",
   "execution_count": 98,
   "metadata": {},
   "outputs": [
    {
     "name": "stdout",
     "output_type": "stream",
     "text": [
      "[2.06224595 2.98548788]\n"
     ]
    }
   ],
   "source": [
    "a = la.solve(X.T @ X, X.T @ y)\n",
    "print(a)"
   ]
  },
  {
   "cell_type": "markdown",
   "metadata": {},
   "source": [
    "We have retrieved the coefficients of the model almost exactly! Let's plot the random data points with the linear regression we just computed."
   ]
  },
  {
   "cell_type": "code",
   "execution_count": 99,
   "metadata": {},
   "outputs": [
    {
     "data": {
      "image/png": "[encoded data removed]",
      "text/plain": [
       "<Figure size 640x480 with 1 Axes>"
      ]
     },
     "metadata": {},
     "output_type": "display_data"
    }
   ],
   "source": [
    "xs = np.linspace(0, 1, 10)\n",
    "ys = a[0] + a[1]*xs\n",
    "plt.plot(xs, ys, 'r', linewidth=4)\n",
    "plt.scatter(x,y);\n",
    "plt.show()"
   ]
  },
  {
   "cell_type": "markdown",
   "metadata": {},
   "source": [
    "### Polynomial Regression\n",
    "#### Formulation\n",
    "The same idea works for fiting a degree of polynomial model\n",
    "$$y = a_{0} +a_{1}x+a_{2}x^{2} + \\dots + a_{d}x^{d}$$\n",
    "to a set of $n+1$ data points\n",
    "$$\\left(x_{0}, y_{0}\\right), \\left(x_{1}, y_{1}\\right), \\dots, \\left(x_{y},y_{n}\\right)$$\n",
    "We form the matrices as before but now the Vandermonde matrix $X$ has $d+1$ columns\n",
    "$$X = \n",
    "\\begin{bmatrix}\n",
    "1 & x_{0} & x_{0}^{2} & \\dots &x_{0}^{n}\\\\\n",
    "1 & x_{1} & x_{1}^{2} & \\dots &x_{1}^{n}\\\\\n",
    "  & \\vdots &           &       &\\vdots \\\\\n",
    "1 & x_{n} & x_{n}^{2} & \\dots &x_{n}^{n}\n",
    "\\end{bmatrix}\n",
    "\\quad \\text{and} \\quad y = \\begin{bmatrix}\n",
    "y_{0} \\\\\n",
    "y_{1} \\\\\n",
    "\\vdots \\\\\n",
    "y_{n} \\end{bmatrix}\n",
    ", \\quad \\mathbf{a} = \n",
    "\\begin{bmatrix}\n",
    "a_{0} \\\\ a_{1} \\\\ \\vdots \\\\ a_{n} \n",
    "\\end{bmatrix}$$\n",
    "The coefficients $\\mathbf{a} = \\left[a_{0}, a_{1}, a_{2}, \\cdots, a_{d}\\right]^{T}$ which minimize the sum of squared erros $SSE$ is the unique solution of the linear system\n",
    "$$\\left(X^{T}X\\right)\\mathbf{a} = \\left(X^{T}\\right)\\mathbf{y}$$"
   ]
  },
  {
   "cell_type": "markdown",
   "metadata": {},
   "source": [
    "#### Example\n",
    "##### Fake Noisy Quadratic Data\n",
    "Let's build some fake data using a quadratic model $y=a_{0}+a_{1}x+a_{2}x^{2}+\\epsilon$ and use linear regression to retrieve the coefficients $a_{0}$, $a_{1}$, and $a_{2}$."
   ]
  },
  {
   "cell_type": "code",
   "execution_count": 100,
   "metadata": {},
   "outputs": [
    {
     "data": {
      "image/png": "[encoded data removed]",
      "text/plain": [
       "<Figure size 640x480 with 1 Axes>"
      ]
     },
     "metadata": {},
     "output_type": "display_data"
    }
   ],
   "source": [
    "a0 = 3\n",
    "a1 = 5\n",
    "a2 = 8\n",
    "N = 1000\n",
    "x = 2*np.random.rand(N) - 1 # Random numbers in the interval (-1, 1)\n",
    "noise = np.random.randn(N)\n",
    "y = a0 + a1*x + a2*x**2 + noise\n",
    "plt.scatter(x, y, alpha=0.5, lw=0);\n",
    "plt.show()"
   ]
  },
  {
   "cell_type": "markdown",
   "metadata": {},
   "source": [
    "Construct the matrix $X$:"
   ]
  },
  {
   "cell_type": "code",
   "execution_count": 102,
   "metadata": {},
   "outputs": [],
   "source": [
    "X = np.column_stack([np.ones(N), x, x**2])"
   ]
  },
  {
   "cell_type": "markdown",
   "metadata": {},
   "source": [
    "Use `scipy.linalg.solve` to solve $\\left(X^{T}X\\right)\\mathbf{a} = \\left(X^{T}\\right)\\mathbf{y}$:"
   ]
  },
  {
   "cell_type": "code",
   "execution_count": 103,
   "metadata": {},
   "outputs": [
    {
     "data": {
      "text/plain": [
       "array([[ 1.00000000e+00, -7.05966823e-01,  4.98389155e-01],\n",
       "       [ 1.00000000e+00, -3.94960441e-01,  1.55993750e-01],\n",
       "       [ 1.00000000e+00, -5.32223945e-01,  2.83262327e-01],\n",
       "       [ 1.00000000e+00, -6.87151030e-02,  4.72176538e-03],\n",
       "       [ 1.00000000e+00,  1.18492445e-01,  1.40404594e-02],\n",
       "       [ 1.00000000e+00,  4.78750555e-01,  2.29202094e-01],\n",
       "       [ 1.00000000e+00, -8.54391163e-01,  7.29984259e-01],\n",
       "       [ 1.00000000e+00,  8.86679562e-01,  7.86200646e-01],\n",
       "       [ 1.00000000e+00, -2.71557857e-01,  7.37436698e-02],\n",
       "       [ 1.00000000e+00, -8.45267704e-03,  7.14477491e-05]])"
      ]
     },
     "execution_count": 103,
     "metadata": {},
     "output_type": "execute_result"
    }
   ],
   "source": [
    "X[0:10, ]"
   ]
  },
  {
   "cell_type": "code",
   "execution_count": 104,
   "metadata": {},
   "outputs": [
    {
     "name": "stdout",
     "output_type": "stream",
     "text": [
      "[2.98515471 5.08295592 8.04694621]\n"
     ]
    }
   ],
   "source": [
    "a = la.solve((X.T @ X), X.T @ y)\n",
    "print(a)"
   ]
  },
  {
   "cell_type": "markdown",
   "metadata": {},
   "source": [
    "Plot the result:"
   ]
  },
  {
   "cell_type": "code",
   "execution_count": 105,
   "metadata": {},
   "outputs": [
    {
     "data": {
      "image/png": "[encoded data removed]",
      "text/plain": [
       "<Figure size 640x480 with 1 Axes>"
      ]
     },
     "metadata": {},
     "output_type": "display_data"
    }
   ],
   "source": [
    "xs = np.linspace(-1, 1, 20)\n",
    "ys = a[0] + a[1]*xs + a[2]*xs**2\n",
    "plt.plot(xs, ys, 'r', linewidth=4)\n",
    "plt.scatter(x, y, alpha=0.5, lw=0)\n",
    "plt.show()"
   ]
  },
  {
   "cell_type": "code",
   "execution_count": null,
   "metadata": {},
   "outputs": [],
   "source": []
  }
 ],
 "metadata": {
  "kernelspec": {
   "display_name": "Python 3.10.4 ('science_dnn')",
   "language": "python",
   "name": "python3"
  },
  "language_info": {
   "codemirror_mode": {
    "name": "ipython",
    "version": 3
   },
   "file_extension": ".py",
   "mimetype": "text/x-python",
   "name": "python",
   "nbconvert_exporter": "python",
   "pygments_lexer": "ipython3",
   "version": "3.10.4"
  },
  "orig_nbformat": 4,
  "vscode": {
   "interpreter": {
    "hash": "c0f2ae45ca5b13b9dba64e90d12e7a2d503c99b3d3d62896f22c1678fa3ef761"
   }
  }
 },
 "nbformat": 4,
 "nbformat_minor": 2
}
