{
 "cells": [
  {
   "cell_type": "code",
   "execution_count": 1,
   "metadata": {},
   "outputs": [],
   "source": [
    "import numpy as np\n",
    "import matplotlib.pyplot as plt\n",
    "from math import factorial as fact"
   ]
  },
  {
   "cell_type": "markdown",
   "metadata": {},
   "source": [
    "# 1번"
   ]
  },
  {
   "cell_type": "code",
   "execution_count": 2,
   "metadata": {},
   "outputs": [],
   "source": [
    "def secant(f, a, b, tol, truesol, max_iter):\n",
    "\n",
    "    a_n = a ; b_n = b\n",
    "    if f(a_n)*f(b_n) > 0:\n",
    "        print(\"Secant method fails\")\n",
    "        return None\n",
    "    \n",
    "    elif f(a_n) == 0:\n",
    "        print(\"Solution is {0}\".format(a_n))\n",
    "        return a_n\n",
    "    \n",
    "    elif f(b_n) == 0:\n",
    "        print(\"Solution is {0}\".format(b_n))\n",
    "        return b_n\n",
    "    \n",
    "    else:\n",
    "        m_n = a-f(a)*(b-a)/(f(b)-f(a))\n",
    "    cnt = 0        \n",
    "    while np.abs(m_n - truesol) >= tol:\n",
    "        \n",
    "        if cnt == max_iter:\n",
    "            print(\"Secant method fails.\")\n",
    "            return m_n\n",
    "        cnt += 1\n",
    "        \n",
    "        if f(a_n)*f(m_n) < 0:\n",
    "            b_n = m_n\n",
    "        \n",
    "        elif f(b_n)*f(m_n) < 0:\n",
    "            a_n = m_n        \n",
    "        \n",
    "        m_n = a_n-f(a_n)*(b_n-a_n)/(f(b_n)-f(a_n))        \n",
    "    \n",
    "    print(\"Fond exact solution\", m_n)\n",
    "    return m_n\n",
    "    "
   ]
  },
  {
   "cell_type": "code",
   "execution_count": 3,
   "metadata": {},
   "outputs": [],
   "source": [
    "f = lambda x:x**3 - x**2 - 1\n",
    "tol = 1e-10 ; max_iter = 100000 ; truesol = 1.4655712318767682\n",
    "\n"
   ]
  },
  {
   "cell_type": "code",
   "execution_count": 4,
   "metadata": {},
   "outputs": [
    {
     "name": "stdout",
     "output_type": "stream",
     "text": [
      "Fond exact solution 1.4655712317955896\n"
     ]
    },
    {
     "data": {
      "text/plain": [
       "8.117861938217175e-11"
      ]
     },
     "execution_count": 4,
     "metadata": {},
     "output_type": "execute_result"
    }
   ],
   "source": [
    "sol= secant(f, 1, 3, tol, truesol, max_iter)\n",
    "np.abs(sol - truesol)"
   ]
  },
  {
   "cell_type": "markdown",
   "metadata": {},
   "source": [
    "# 2번"
   ]
  },
  {
   "cell_type": "code",
   "execution_count": 5,
   "metadata": {},
   "outputs": [],
   "source": [
    "f = lambda x:np.sin(np.exp(x))\n",
    "df = lambda x: np.exp(x) * np.cos(np.exp(x))\n",
    "ddf = lambda x: np.exp(x)*(np.cos(np.exp(x))-np.exp(x)*np.sin(np.exp(x)))\n",
    "exactsol = 0.891489668563799\n",
    "functup = f, df, ddf"
   ]
  },
  {
   "cell_type": "code",
   "execution_count": 6,
   "metadata": {},
   "outputs": [],
   "source": [
    "def taylor(x0, f, df, ddf):\n",
    "    u = np.zeros(3)\n",
    "    u[0] = f(x0) ; u[1] = df(x0) * 0.5 ; u[2] = ddf(x0)* 1/6\n",
    "    \n",
    "    return u   \n",
    "    "
   ]
  },
  {
   "cell_type": "code",
   "execution_count": 7,
   "metadata": {},
   "outputs": [],
   "source": [
    "def integrate(x0, a, b, f, df, ddf):\n",
    "    u = taylor(x0, f, df, ddf)\n",
    "    k1 = b - a ; k2 = (b-x0); k3 = (x0 - a)\n",
    "    u[0] = u[0]*k1; u[1] = u[1]*(k2**2 - k3**2); u[2] = u[2]*(k2**3 - k3**3)\n",
    "    return u.sum()"
   ]
  },
  {
   "cell_type": "code",
   "execution_count": 8,
   "metadata": {},
   "outputs": [],
   "source": [
    "def error(truesol, *result):\n",
    "    for value in result:\n",
    "        print(\"Numerical solution is {sol}, and error is {error}\".format(error=np.abs(value - truesol),sol=value))\n",
    "    return None"
   ]
  },
  {
   "cell_type": "code",
   "execution_count": 9,
   "metadata": {},
   "outputs": [],
   "source": [
    "a = integrate(0,0 ,(np.pi)/3, f, df, ddf)\n",
    "\n",
    "b = integrate((np.pi)/6, 0, (np.pi)/3, f, df, ddf)\n",
    "\n",
    "c1 = integrate(0, 0,(np.pi)/6, f, df, ddf)\n",
    "c2 = integrate(np.pi/6, np.pi/6, np.pi/3, f, df, ddf)\n",
    "c = c1 + c2"
   ]
  },
  {
   "cell_type": "code",
   "execution_count": 10,
   "metadata": {},
   "outputs": [
    {
     "name": "stdout",
     "output_type": "stream",
     "text": [
      "Numerical solution is 1.1197975322036198, and error is 0.2283078636398208\n",
      "Numerical solution is 1.040002015957323, and error is 0.14851234739352392\n",
      "Numerical solution is 0.9279376381305579, and error is 0.03644796956675889\n"
     ]
    }
   ],
   "source": [
    "error(exactsol, a, b, c)"
   ]
  },
  {
   "cell_type": "code",
   "execution_count": null,
   "metadata": {},
   "outputs": [],
   "source": []
  }
 ],
 "metadata": {
  "kernelspec": {
   "display_name": "Python 3.10.4 ('science_dnn': conda)",
   "language": "python",
   "name": "python3"
  },
  "language_info": {
   "codemirror_mode": {
    "name": "ipython",
    "version": 3
   },
   "file_extension": ".py",
   "mimetype": "text/x-python",
   "name": "python",
   "nbconvert_exporter": "python",
   "pygments_lexer": "ipython3",
   "version": "3.10.4"
  },
  "orig_nbformat": 4,
  "vscode": {
   "interpreter": {
    "hash": "3b5655a2a8c1a38d574ac6283bf55016e4bf8013b0575d01c2d272ed1f06bbbb"
   }
  }
 },
 "nbformat": 4,
 "nbformat_minor": 2
}
