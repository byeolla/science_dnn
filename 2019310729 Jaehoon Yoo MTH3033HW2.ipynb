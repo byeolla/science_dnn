{
 "cells": [
  {
   "cell_type": "code",
   "execution_count": 1,
   "metadata": {},
   "outputs": [],
   "source": [
    "import numpy as np\n",
    "import matplotlib.pyplot as plt\n",
    "from math import factorial as fact"
   ]
  },
  {
   "cell_type": "markdown",
   "metadata": {},
   "source": [
    "# 1번"
   ]
  },
  {
   "cell_type": "code",
   "execution_count": 2,
   "metadata": {},
   "outputs": [],
   "source": [
    "def secant(f, a, b, tol, truesol, max_iter):\n",
    "\n",
    "    a_n = a ; b_n = b\n",
    "    if f(a_n)*f(b_n) > 0:\n",
    "        print(\"Secant method fails\")\n",
    "        return None\n",
    "    \n",
    "    elif f(a_n) == 0:\n",
    "        print(\"Solution is {0}\".format(a_n))\n",
    "        return a_n\n",
    "    \n",
    "    elif f(b_n) == 0:\n",
    "        print(\"Solution is {0}\".format(b_n))\n",
    "        return b_n\n",
    "    \n",
    "    else:\n",
    "        m_n = a-f(a)*(b-a)/(f(b)-f(a))\n",
    "    cnt = 0        \n",
    "    while np.abs(m_n - truesol) >= tol:\n",
    "        print(m_n, cnt)\n",
    "        if cnt == max_iter:\n",
    "            print(\"Secant method fails.\")\n",
    "            return m_n\n",
    "        cnt += 1\n",
    "        \n",
    "        if f(a_n)*f(m_n) < 0:\n",
    "            b_n = m_n\n",
    "        \n",
    "        elif f(b_n)*f(m_n) < 0:\n",
    "            a_n = m_n        \n",
    "        \n",
    "        m_n = a_n-f(a_n)*(b_n-a_n)/(f(b_n)-f(a_n))        \n",
    "    \n",
    "    print(\"Fond exact solution\", m_n)\n",
    "    return m_n\n",
    "    "
   ]
  },
  {
   "cell_type": "code",
   "execution_count": 3,
   "metadata": {},
   "outputs": [],
   "source": [
    "f = lambda x:x**3 - x**2 - 1"
   ]
  },
  {
   "cell_type": "code",
   "execution_count": 4,
   "metadata": {},
   "outputs": [],
   "source": [
    "tol = 1e-10 ; max_iter = 100000 ; truesol = 1.4655712318767682"
   ]
  },
  {
   "cell_type": "code",
   "execution_count": 5,
   "metadata": {},
   "outputs": [
    {
     "name": "stdout",
     "output_type": "stream",
     "text": [
      "1.1111111111111112 0\n",
      "1.2023498694516972 1\n",
      "1.2741721137025155 2\n",
      "1.328722377131594 3\n",
      "1.3689835018659156 4\n",
      "1.3980524587918948 5\n",
      "1.418701087613658 6\n",
      "1.4331963231336062 7\n",
      "1.4432867876105389 8\n",
      "1.4502696536357955 9\n",
      "1.4550821555676572 10\n",
      "1.4583894451301456 11\n",
      "1.4606578552916232 12\n",
      "1.4622116205120141 13\n",
      "1.4632749002921925 14\n",
      "1.464002068000123 15\n",
      "1.4644991560569143 16\n",
      "1.464838862124069 17\n",
      "1.4650709675272362 18\n",
      "1.4652295324204727 19\n",
      "1.465337847201215 20\n",
      "1.4654118316308384 21\n",
      "1.4654623644762739 22\n",
      "1.4654968783793272 23\n",
      "1.4655204508686297 24\n",
      "1.465536550306322 25\n",
      "1.4655475457255713 26\n",
      "1.4655550552083922 27\n",
      "1.4655601838968142 28\n",
      "1.4655636865833523 29\n",
      "1.4655660787714357 30\n",
      "1.4655677125332895 31\n",
      "1.4655688283214712 32\n",
      "1.4655695903556893 33\n",
      "1.4655701107912837 34\n",
      "1.4655704662256162 35\n",
      "1.4655707089713839 36\n",
      "1.4655708747558729 37\n",
      "1.4655709879792438 38\n",
      "1.465571065305723 39\n",
      "1.4655711181162343 40\n",
      "1.4655711541834398 41\n",
      "1.4655711788157195 42\n",
      "1.465571195638459 43\n",
      "1.4655712071276332 44\n",
      "1.4655712149742224 45\n",
      "1.4655712203330897 46\n",
      "1.465571223992955 47\n",
      "1.4655712264924785 48\n",
      "1.4655712281995406 49\n",
      "1.465571229365387 50\n",
      "1.4655712301616077 51\n",
      "1.4655712307053907 52\n",
      "1.4655712310767701 53\n",
      "1.4655712313304055 54\n",
      "1.465571231503627 55\n",
      "1.4655712316219294 56\n",
      "1.4655712317027247 57\n",
      "1.4655712317579044 58\n",
      "Fond exact solution 1.4655712317955896\n"
     ]
    }
   ],
   "source": [
    "sol= secant(f, 1, 3, tol, truesol, max_iter)\n"
   ]
  },
  {
   "cell_type": "code",
   "execution_count": 6,
   "metadata": {},
   "outputs": [
    {
     "data": {
      "text/plain": [
       "8.117861938217175e-11"
      ]
     },
     "execution_count": 6,
     "metadata": {},
     "output_type": "execute_result"
    }
   ],
   "source": [
    "np.abs(sol - truesol)"
   ]
  },
  {
   "cell_type": "markdown",
   "metadata": {},
   "source": [
    "# 2번"
   ]
  },
  {
   "cell_type": "code",
   "execution_count": 67,
   "metadata": {},
   "outputs": [],
   "source": [
    "f = lambda x:np.sin(np.exp(x))\n",
    "df = lambda x: np.exp(x) * np.cos(np.exp(x))\n",
    "ddf = lambda x: np.exp(x)*(np.cos(np.exp(x))-np.exp(x)*np.sin(np.exp(x)))\n",
    "exactsol = 0.891489668563799\n",
    "functup = f, df, ddf"
   ]
  },
  {
   "cell_type": "code",
   "execution_count": 68,
   "metadata": {},
   "outputs": [],
   "source": [
    "def taylor(x0, f, df, ddf):\n",
    "    u = np.zeros(3)\n",
    "    u[0] = f(x0) ; u[1] = df(x0) * 0.5 ; u[2] = ddf(x0)* 1/6\n",
    "    \n",
    "    return u   \n",
    "    "
   ]
  },
  {
   "cell_type": "code",
   "execution_count": 85,
   "metadata": {},
   "outputs": [],
   "source": [
    "def integrate(x0, a, b, f, df, ddf):\n",
    "    u = taylor(x0, f, df, ddf)\n",
    "    k1 = b - a ; k2 = (b-x0); k3 = (x0 - a)\n",
    "    u[0] = u[0]*k1; u[1] = u[1]*(k2**2 - k3**2); u[2] = u[2]*(k2**3 - k3**3)\n",
    "    return u.sum()"
   ]
  },
  {
   "cell_type": "code",
   "execution_count": 86,
   "metadata": {},
   "outputs": [],
   "source": [
    "a = integrate(0,0 ,(np.pi)/3, f, df, ddf)\n",
    "# functup[0](0)"
   ]
  },
  {
   "cell_type": "code",
   "execution_count": 87,
   "metadata": {},
   "outputs": [
    {
     "data": {
      "text/plain": [
       "1.1197975322036198"
      ]
     },
     "execution_count": 87,
     "metadata": {},
     "output_type": "execute_result"
    }
   ],
   "source": [
    "a.sum()"
   ]
  },
  {
   "cell_type": "code",
   "execution_count": 88,
   "metadata": {},
   "outputs": [
    {
     "data": {
      "text/plain": [
       "1.040002015957323"
      ]
     },
     "execution_count": 88,
     "metadata": {},
     "output_type": "execute_result"
    }
   ],
   "source": [
    "b = integrate((np.pi)/6, 0, (np.pi)/3, f, df, ddf)\n",
    "b.sum()"
   ]
  },
  {
   "cell_type": "code",
   "execution_count": 89,
   "metadata": {},
   "outputs": [],
   "source": [
    "c1 = integrate(0, 0,(np.pi)/6, f, df, ddf)\n",
    "c2 = integrate(np.pi/6, np.pi/6, np.pi/3, f, df, ddf)"
   ]
  },
  {
   "cell_type": "code",
   "execution_count": 90,
   "metadata": {},
   "outputs": [],
   "source": [
    "c = c1.sum() + c2.sum()"
   ]
  },
  {
   "cell_type": "code",
   "execution_count": 91,
   "metadata": {},
   "outputs": [],
   "source": [
    "def error(truesol, *result):\n",
    "    for value in result:\n",
    "        print(np.abs(value - truesol))\n",
    "    return None"
   ]
  },
  {
   "cell_type": "code",
   "execution_count": 92,
   "metadata": {},
   "outputs": [
    {
     "name": "stdout",
     "output_type": "stream",
     "text": [
      "0.2283078636398208\n",
      "0.14851234739352392\n",
      "0.03644796956675889\n"
     ]
    }
   ],
   "source": [
    "error(exactsol, a, b, c)"
   ]
  },
  {
   "cell_type": "code",
   "execution_count": null,
   "metadata": {},
   "outputs": [],
   "source": []
  }
 ],
 "metadata": {
  "kernelspec": {
   "display_name": "Python 3.10.4 ('science_dnn': conda)",
   "language": "python",
   "name": "python3"
  },
  "language_info": {
   "codemirror_mode": {
    "name": "ipython",
    "version": 3
   },
   "file_extension": ".py",
   "mimetype": "text/x-python",
   "name": "python",
   "nbconvert_exporter": "python",
   "pygments_lexer": "ipython3",
   "version": "3.10.4"
  },
  "orig_nbformat": 4,
  "vscode": {
   "interpreter": {
    "hash": "3b5655a2a8c1a38d574ac6283bf55016e4bf8013b0575d01c2d272ed1f06bbbb"
   }
  }
 },
 "nbformat": 4,
 "nbformat_minor": 2
}
