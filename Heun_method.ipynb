{
 "cells": [
  {
   "cell_type": "code",
   "execution_count": 2,
   "id": "41e1f2d0",
   "metadata": {},
   "outputs": [
    {
     "data": {
      "image/png": "[encoded data removed]",
      "text/plain": [
       "<Figure size 432x288 with 1 Axes>"
      ]
     },
     "metadata": {
      "needs_background": "light"
     },
     "output_type": "display_data"
    },
    {
     "name": "stdout",
     "output_type": "stream",
     "text": [
      "3.0310666597847753\n",
      "3.0117271148975084\n",
      "3.0035554868408743\n",
      "3.0012352997851135\n"
     ]
    }
   ],
   "source": [
    "\n",
    "import numpy as np\n",
    "import matplotlib.pyplot as plt\n",
    "\n",
    "def odeHeun(f,t,y0):\n",
    "    y = np.zeros(len(t))\n",
    "    y[0] = y0\n",
    "    for n in range(0,len(t)-1):\n",
    "        h = t[n+1] - t[n]\n",
    "        k1 = f(t[n],y[n])\n",
    "        k2 = f(t[n+1],y[n] + k1*h)\n",
    "        y[n+1] = y[n] + (k1 + k2)/2*h\n",
    "    return y\n",
    "\n",
    "\n",
    "\n",
    "f = lambda t,y: y*np.cos(t)\n",
    "y0 = 1;\n",
    "h = [0.1,0.05,0.01,0.005,0.001]\n",
    "E = np.zeros(len(h))\n",
    "for n in range(0,len(h)):\n",
    "    y = odeHeun(f,[0,h[n]],y0)\n",
    "    y1 = y[1]\n",
    "    y1_exact = np.exp(np.sin(h[n]))\n",
    "    E[n] = np.abs(y1_exact - y1)\n",
    "    \n",
    "plt.loglog(h,E,'b.-'), plt.grid(True)\n",
    "plt.title(\"Heun's Method, $y'=y,y(0)=1$\")\n",
    "plt.xlabel(\"Step Size, $h$\"), plt.ylabel(\"Local Truncation Error, $E$\")\n",
    "plt.show()\n",
    "\n",
    "for j in range(len(h)-1):\n",
    "    print((np.log(E[j+1]) - np.log(E[j]))/(np.log(h[j+1]) - np.log(h[j])))"
   ]
  },
  {
   "cell_type": "markdown",
   "id": "b045e862",
   "metadata": {},
   "source": [
    "Heun's method is given by the 2-stage recursive formula:\n",
    "\n",
    "$$\\begin{align}\n",
    "h &= t_{n+1} - t_n \\\\\\\n",
    "k_1 &= f(t_n,y_n) \\\\\\\n",
    "k_2 &= f(t_n + h,y_n + k_1 h) \\\\\\\n",
    "y_{n+1} &= y_n + \\left( \\frac{k_1 + k_2}{2} \\right)h\n",
    "\\end{align}$$"
   ]
  },
  {
   "cell_type": "code",
   "execution_count": null,
   "id": "b33bde95",
   "metadata": {},
   "outputs": [],
   "source": []
  }
 ],
 "metadata": {
  "kernelspec": {
   "display_name": "Python 3.10.4 ('science_dnn')",
   "language": "python",
   "name": "python3"
  },
  "language_info": {
   "codemirror_mode": {
    "name": "ipython",
    "version": 3
   },
   "file_extension": ".py",
   "mimetype": "text/x-python",
   "name": "python",
   "nbconvert_exporter": "python",
   "pygments_lexer": "ipython3",
   "version": "3.10.4"
  },
  "vscode": {
   "interpreter": {
    "hash": "c0f2ae45ca5b13b9dba64e90d12e7a2d503c99b3d3d62896f22c1678fa3ef761"
   }
  }
 },
 "nbformat": 4,
 "nbformat_minor": 5
}
