{
 "cells": [
  {
   "cell_type": "markdown",
   "metadata": {},
   "source": [
    "**Problem 1**: 10 pts - For the basis functions of Lagrange interpolation, $L^{(n)}_{j}(x)$, where \n",
    "\n",
    "$$\n",
    "L^{(n)}_{j}(x) = \\prod_{l=0, ~l\\neq j}^{n}\\frac{(x-x_{l})}{(x_{j}-x_{l})}\n",
    "$$\n",
    "\n",
    "a) (3pts) Show that \n",
    "\n",
    "$$\n",
    "\\frac{d}{dx} L^{(n)}_{j}(x) = \\frac{1}{\\prod_{l=0,~l\\neq j}^{n} (x_{j}-x_{l})}~\\sum_{l=0,~l\\neq j}^{n}~ \\prod_{m=0,~m\\neq l, ~ m\\neq j}^{n}(x-x_{m})\n",
    "$$\n",
    "\n",
    "b) (2pts) From this, find that \n",
    "\n",
    "$$\n",
    "\\frac{d}{dx} L^{(n)}_{j}(x_{k}) = \\left\\{ \\begin{array}{rl} \\sum_{l=0, ~ l\\neq j}^{n}\\frac{1}{x_{j}-x_{l}} & k=j \\\\\n",
    "& \\\\\n",
    "\\frac{\\prod_{m=0,~m\\neq j,~m\\neq k}^{n} (x_{k}-x_{m})}{\\prod_{l=0,~l\\neq j}^{n} (x_{j}-x_{l})} & k\\neq j\n",
    "\\end{array}\\right.\n",
    "$$\n",
    "\n",
    "c) (2pts) If we suppose the Lagrange polynomial $P_{n}(x)$ is given by \n",
    "\n",
    "$$\n",
    "P_{n}(x) = \\sum_{j=0}^{n}f_{j}L^{(n)}_{j}(x),\n",
    "$$\n",
    "\n",
    "so that $P_{n}(x)\\approx f(x)$, $f_{j}=f(x_{j})$, provide a brief explanation of how the formulas in part (b) allow you to generate finite-difference approximations to $f'(x_{j})$ for any number of points with any type of interpoint spacing.  \n",
    "\n",
    "d) (3pts) Given the data $\\left\\{x_{j-1},f_{j-1},x_{j},f_{j},x_{j+1},f_{j+1},x_{j+2},f_{j+2}\\right\\}$, where \n",
    "\n",
    "$$\n",
    "\\delta x = x_{j}-x_{j-1}=x_{j+1}-x_{j}=x_{j+2}-x_{j+1} \n",
    "$$ \n",
    "\n",
    "derive the _forward-difference approximation_ to $f'(x_{j})\\approx P_{2}'(x_{j})$ where\n",
    "\n",
    "$$\n",
    "P_{2}(x) = f_{j}L^{(2)}_{j}(x) + f_{j+1}L^{(2)}_{j+1}(x) + f_{j+2}L^{(2)}_{j+2}(x).\n",
    "$$\n",
    "\n",
    "How does your forward-difference approximation to $f'(x_{j})$ differ from the centered-difference approximation to $f'(x_{j})$ given by \n",
    "\n",
    "$$\n",
    "f'(x_{j}) \\approx \\frac{1}{2\\delta x}\\left(f_{j+1} - f_{j-1}\\right).\n",
    "$$\n",
    "\n",
    "When might you use one or the other?"
   ]
  },
  {
   "cell_type": "markdown",
   "metadata": {},
   "source": [
    "_Answer_"
   ]
  },
  {
   "cell_type": "markdown",
   "metadata": {},
   "source": [
    "**Problem 2**: 10 pts - Suppose I give you the data $\\left\\{x_{j},f_{j},s_{j}\\right\\}_{j=0}^{n}$, where I want to find a polynomial of degree $m$, say $P_{m}(x)$, where\n",
    "\n",
    "$$\n",
    "P_{m}(x) = \\sum_{l=0}^{m}p_{l}x^{l} = p_{0} + p_{1}x + \\cdots + p_{m}x^{m}, \n",
    "$$\n",
    "\n",
    "such that \n",
    "\n",
    "$$\n",
    "P_{m}(x_{j}) = f_{j}, ~ P'_{m}(x_{j}) = s_{j}, ~ j=0,\\cdots, n.\n",
    "$$\n",
    "\n",
    "Thus, if we want $P_{m}(x)\\approx f(x)$, we ask not only that $P_{m}(x)$ interpolate $f(x)$ at $x_{j}$ so that $f(x_{j})=P_{m}(x_{j}) = f_{j}$, we also require that we match the slopes so that $f'(x_{j}) = P_{m}'(x_{j}) = s_{j}$.  This approximation is called _Hermite Interpolation_.\n",
    "\n",
    "a) (1pt) How many equations do I need to solve in this interpolation problem?  What degree of polynomial do I need to choose in order to find a unique solution to my interpolation problem?\n",
    "\n",
    "b) (2pts) Suppose we set our approximating polynomial $P_{2n+1}(x)$ to be \n",
    "\n",
    "$$\n",
    "P_{2n+1}(x) = \\sum_{l=0}^{n}f_{l}H_{l,n}(x) + \\sum_{l=0}^{n}s_{l}\\tilde{H}_{l,n}(x), \n",
    "$$\n",
    "\n",
    "where the degree of the polynomials $H_{l,n}(x)$ and $\\tilde{H}_{l,n}(x)$ are $2n+1$.  Show that we need these polynomials to satisfy the requirements\n",
    "\n",
    "$$\n",
    "H_{l,n}(x_{k}) = \\delta_{kl}, ~ H'_{l,n}(x_{k}) = 0, ~ \\tilde{H}_{l,n}(x_{k}) = 0, ~ \\tilde{H}'_{l,n}(x_{k}) = \\delta_{kl},\n",
    "$$\n",
    "\n",
    "where \n",
    "\n",
    "$$\n",
    "\\delta_{kl} = \\left\\{\\begin{array}{rl} 1 & k=l \\\\ 0 & k\\neq l\\end{array} \\right.\n",
    "$$\n",
    "\n",
    "c) (3pts) Show the formulas \n",
    "\n",
    "$$\n",
    "H_{l,n}(x) = \\left(1 - 2(x-x_{l})\\frac{d}{dx}L^{(n)}_{l}(x_{l}) \\right)\\left( L^{(n)}_{l}(x) \\right)^{2},\n",
    "$$\n",
    "\n",
    "$$\n",
    "\\tilde{H}_{l,n}(x) = \\left( x-x_{l} \\right)\\left( L^{(n)}_{l}(x) \\right)^{2},\n",
    "$$\n",
    "\n",
    "satisfy the necessary requirements from part (b).  \n",
    "\n",
    "d) Implement Hermite Interpolation using the results from above, including from Problem 2. For the test function \n",
    "$$\n",
    "f(x) = \\frac{1}{1+x^{2}}, ~ -1\\leq x \\leq 1,\n",
    "$$\n",
    "develop three test cases which show the accuracy of your method.  Over equispaced interpolation data are you able to avoid the Runge-Phenomenon that we see for standard equispaced Lagrage interpolation?"
   ]
  },
  {
   "cell_type": "markdown",
   "metadata": {},
   "source": [
    "_Answer_"
   ]
  }
 ],
 "metadata": {
  "kernelspec": {
   "display_name": "Python 3.10.4 ('science_dnn')",
   "language": "python",
   "name": "python3"
  },
  "language_info": {
   "codemirror_mode": {
    "name": "ipython",
    "version": 3
   },
   "file_extension": ".py",
   "mimetype": "text/x-python",
   "name": "python",
   "nbconvert_exporter": "python",
   "pygments_lexer": "ipython3",
   "version": "3.10.4"
  },
  "vscode": {
   "interpreter": {
    "hash": "c0f2ae45ca5b13b9dba64e90d12e7a2d503c99b3d3d62896f22c1678fa3ef761"
   }
  }
 },
 "nbformat": 4,
 "nbformat_minor": 2
}
