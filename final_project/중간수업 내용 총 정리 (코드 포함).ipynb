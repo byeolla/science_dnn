{
 "cells": [
  {
   "cell_type": "markdown",
   "id": "7254afdc",
   "metadata": {},
   "source": [
    "# 2주차\n",
    "## NumPy"
   ]
  },
  {
   "cell_type": "code",
   "execution_count": 1,
   "id": "9a819201",
   "metadata": {},
   "outputs": [],
   "source": [
    "import numpy as np"
   ]
  },
  {
   "cell_type": "markdown",
   "id": "1dd732a2",
   "metadata": {},
   "source": [
    "## Matplotlib"
   ]
  },
  {
   "cell_type": "code",
   "execution_count": 2,
   "id": "a43fe395",
   "metadata": {},
   "outputs": [],
   "source": [
    "import matplotlib.pyplot as plt"
   ]
  },
  {
   "cell_type": "code",
   "execution_count": 23,
   "id": "f9d803ea",
   "metadata": {},
   "outputs": [
    {
     "data": {
      "image/png": "[encoded data removed]",
      "text/plain": [
       "<Figure size 432x288 with 1 Axes>"
      ]
     },
     "metadata": {
      "needs_background": "light"
     },
     "output_type": "display_data"
    }
   ],
   "source": [
    "xvals = np.linspace(1,10,int(1e3))\n",
    "yvals = np.linspace(2,20,int(1e3))\n",
    "plt.plot(xvals, yvals, ls='-', color='C1', label=\"this line!\")\n",
    "plt.plot(xvals, 3*yvals, ls='--', color='C2', label=\"another line!\")\n",
    "\n",
    "plt.legend(loc=(\"best\"))\n",
    "\n",
    "# plt.xlim(1,10)\n",
    "# plt.ylim(1,70)\n",
    "\n",
    "plt.xlabel(\"$x ~value$\")\n",
    "plt.ylabel(\"$y ~value$\")\n",
    "\n",
    "plt.show()"
   ]
  },
  {
   "cell_type": "markdown",
   "id": "302417e7",
   "metadata": {},
   "source": [
    "xvals -> 그래프의 x좌표들  \n",
    "yvlas -> 그래프의 y좌표들  \n",
    "ls -> '-' : 실선, '--' : 점선  \n",
    "color -> 그래프의 색 ex) 'C1', 'C2', 'C3', ...  \n",
    "label -> label = Expression"
   ]
  },
  {
   "cell_type": "markdown",
   "id": "9ef9e738",
   "metadata": {},
   "source": [
    "# 3주차"
   ]
  },
  {
   "cell_type": "markdown",
   "id": "2a554c3e",
   "metadata": {},
   "source": [
    "## time"
   ]
  },
  {
   "cell_type": "code",
   "execution_count": 4,
   "id": "6114cbd8",
   "metadata": {},
   "outputs": [],
   "source": [
    "from time import time"
   ]
  },
  {
   "cell_type": "code",
   "execution_count": 6,
   "id": "ca223a47",
   "metadata": {},
   "outputs": [
    {
     "name": "stdout",
     "output_type": "stream",
     "text": [
      "0.0\n"
     ]
    }
   ],
   "source": [
    "start = time()\n",
    "# run any function\n",
    "end = time()\n",
    "print(end - start)"
   ]
  },
  {
   "cell_type": "markdown",
   "id": "753ad8ec",
   "metadata": {},
   "source": [
    "## 1. Bisection Method"
   ]
  },
  {
   "cell_type": "markdown",
   "id": "567f57cd",
   "metadata": {},
   "source": [
    "### Algorithm\n",
    "\n",
    "The bisection method procedure is:\n",
    "\n",
    "1. Choose a starting interval $[a_0,b_0]$ such that $f(a_0)f(b_0) < 0$.\n",
    "2. Compute $f(m_0)$ where $m_0 = (a_0+b_0)/2$ is the midpoint.\n",
    "3. Determine the next subinterval $[a_1,b_1]$:\n",
    "    1. If $f(a_0)f(m_0) < 0$, then let $[a_1,b_1]$ be the next interval with $a_1=a_0$ and $b_1=m_0$.\n",
    "    2. If $f(b_0)f(m_0) < 0$, then let $[a_1,b_1]$ be the next interval with $a_1=m_0$ and $b_1=b_0$.\n",
    "4. Repeat (2) and (3) until the interval $[a_N,b_N]$ reaches some predetermined length.\n",
    "5. Return the midpoint value $m_N=(a_N+b_N)/2$."
   ]
  },
  {
   "cell_type": "markdown",
   "id": "5cb4d6db",
   "metadata": {},
   "source": [
    "### Absolute Error\n",
    "\n",
    "---\n",
    "\n",
    "**Theorem**. Let $f(x)$ be a continuous function on $[a,b]$ such that $f(a)f(b) < 0$. After $N$ iterations of the biection method, let $x_N$ be the midpoint in the $N$th subinterval $[a_N,b_N]$\n",
    "\n",
    "$$\n",
    "x_N = \\frac{a_N + b_N}{2}\n",
    "$$\n",
    "\n",
    "There exists an exact solution $x_{\\mathrm{true}}$ of the equation $f(x)=0$ in the subinterval $[a_N,b_N]$ and the absolute error is\n",
    "\n",
    "$$\n",
    "\\left| \\ x_{\\text{true}} - x_N \\, \\right| \\leq \\frac{b-a}{2^{N+1}}\n",
    "$$\n",
    "\n",
    "---\n",
    "\n",
    "Note that we can rearrange the error bound to see the minimum number of iterations required to guarantee absolute error less than a prescribed $\\epsilon$:\n",
    "\n",
    "\\begin{align}\n",
    "\\frac{b-a}{2^{N+1}} & < \\epsilon \\\\\\\n",
    "\\frac{b-a}{\\epsilon} & < 2^{N+1} \\\\\\\n",
    "\\ln \\left( \\frac{b-a}{\\epsilon} \\right) & < (N+1)\\ln(2) \\\\\\\n",
    "\\frac{\\ln \\left( \\frac{b-a}{\\epsilon} \\right)}{\\ln(2)} - 1 & < N\n",
    "\\end{align}"
   ]
  },
  {
   "cell_type": "markdown",
   "id": "3102d5d6",
   "metadata": {},
   "source": [
    "### Implementation\n",
    "\n",
    "Write a function called `bisection` which takes 4 input parameters `f`, `a`, `b` and `N` and returns the approximation of a solution of $f(x)=0$ given by $N$ iterations of the bisection method. If $f(a_n)f(b_n) \\geq 0$ at any point in the iteration (caused either by a bad initial interval or rounding error in computations), then print `\"Bisection method fails.\"` and return `None`."
   ]
  },
  {
   "cell_type": "code",
   "execution_count": 33,
   "id": "b5780a9e",
   "metadata": {},
   "outputs": [],
   "source": [
    "def bisection(f,a,b,N):\n",
    "    if f(a)*f(b) >= 0:\n",
    "        print(\"Bisection method fails.\")\n",
    "        return None\n",
    "    a_n = a\n",
    "    b_n = b\n",
    "    for n in range(1, N+1):\n",
    "        m_n = (a_n + b_n)/2\n",
    "        f_m_n = f(m_n)\n",
    "        if f(a_n)*f_m_n < 0:\n",
    "            a_n = a_n\n",
    "            b_n = m_n\n",
    "        elif f(b_n)*f_m_n < 0:\n",
    "            a_n = m_n\n",
    "            b_n = b_n\n",
    "        elif f_m_n == 0:\n",
    "            print(\"Found exact solution.\")\n",
    "            return m_n\n",
    "        else:\n",
    "            print(\"Bisection method fails.\")\n",
    "            return None\n",
    "    return (a_n + b_n)/2"
   ]
  },
  {
   "cell_type": "markdown",
   "id": "b0e94a44",
   "metadata": {},
   "source": [
    "## Lambda Functions"
   ]
  },
  {
   "cell_type": "markdown",
   "id": "dfad7720",
   "metadata": {},
   "source": [
    "function_name = lambda parameter: return_value"
   ]
  },
  {
   "cell_type": "code",
   "execution_count": 34,
   "id": "e7bd2ff2",
   "metadata": {},
   "outputs": [],
   "source": [
    "average = lambda x: sum(x)/len(x)"
   ]
  },
  {
   "cell_type": "markdown",
   "id": "ea6283be",
   "metadata": {},
   "source": [
    "## 2. Secant Method"
   ]
  },
  {
   "cell_type": "markdown",
   "id": "85d9e7ec",
   "metadata": {},
   "source": [
    "### Algorithm\n",
    "1. $f(a)f(b)<0$인 두 점 $a,b$를 알고 있을 때, 두 점을 잇는 line을 그린다.\n",
    "2. 그 라인의 $x$절편을 $m$으로 잡고 중간값 정리 사용 (Bisection Method와 유사)\n",
    "3. 계속 반복한다."
   ]
  },
  {
   "cell_type": "markdown",
   "id": "0ffe9b78",
   "metadata": {},
   "source": [
    "### Secant Line Formula\n",
    "$$y=\\frac{f(b)-f(a)}{b-a}(x-a)+f(a)$$\n",
    "$y=0$을 대입하면 $x$절편이 나온다.\n",
    "$$ x= a-f(a) \\frac{b-a}{f(b)-f(a)}$$"
   ]
  },
  {
   "cell_type": "markdown",
   "id": "c63049c3",
   "metadata": {},
   "source": [
    "### Implementation"
   ]
  },
  {
   "cell_type": "code",
   "execution_count": 35,
   "id": "20f7b6be",
   "metadata": {},
   "outputs": [],
   "source": [
    "def secant(f,a,b,N):\n",
    "    if f(a)*f(b) >= 0:\n",
    "        print(\"Bisection method fails.\")\n",
    "        return None\n",
    "    a_n = a\n",
    "    b_n = b\n",
    "    for n in range(1, N+1):\n",
    "        m_n = a_n - f(a_n)*(b_n - a_n)/(f(b_n) - f(a_n))\n",
    "        f_m_n = f(m_n)\n",
    "        if f(a_n)*f_m_n < 0:\n",
    "            a_n = a_n\n",
    "            b_n = m_n\n",
    "        elif f(b_n)*f_m_n < 0:\n",
    "            a_n = m_n\n",
    "            b_n = b_n\n",
    "        elif f_m_n == 0:\n",
    "            print(\"Found exact solution.\")\n",
    "            return m_n\n",
    "        else:\n",
    "            print(\"Bisection method fails.\")\n",
    "            return None\n",
    "    return a_n - f(a_n)*(b_n - a_n)/(f(b_n) - f(a_n))"
   ]
  },
  {
   "cell_type": "markdown",
   "id": "70e84cff",
   "metadata": {},
   "source": [
    "## 3. Newton's Method\n",
    "\n",
    "Let $f(x)$ be a differentiable function. If $x_0$ is near a solution of $f(x)=0$ then we can approximate $f(x)$ by the tangent line at $x_0$ and compute the $x$-intercept of the tangent line. The equation of the tangent line at $x_0$ is\n",
    "\n",
    "$$\n",
    "y = f'(x_0)(x - x_0) + f(x_0)\n",
    "$$\n",
    "\n",
    "The $x$-intercept is the solution $x_1$ of the equation\n",
    "\n",
    "$$\n",
    "0 = f'(x_0)(x_1 - x_0) + f(x_0)\n",
    "$$\n",
    "\n",
    "and we solve for $x_1$\n",
    "\n",
    "$$\n",
    "x_1 = x_0 - \\frac{f(x_0)}{f'(x_0)}\n",
    "$$\n",
    "\n",
    "If we implement this procedure repeatedly, then we obtain a sequence given by the recursive formula\n",
    "\n",
    "$$\n",
    "x_{n+1} = x_n - \\frac{f(x_n)}{f'(x_n)}\n",
    "$$\n",
    "\n",
    "which (potentially) converges to a solution of the equation $f(x)=0$."
   ]
  },
  {
   "cell_type": "markdown",
   "id": "4402e3c3",
   "metadata": {},
   "source": [
    "### Implementation\n",
    "\n",
    "Let's write a function called `newton` which takes 5 input parameters `f`, `Df`, `x0`, `epsilon` and `max_iter` and returns an approximation of a solution of $f(x)=0$ by Newton's method. The function may terminate in 3 ways:\n",
    "\n",
    "1. If `abs(f(xn)) < epsilon`, the algorithm has found an approximate solution and returns `xn`.\n",
    "2. If `f'(xn) == 0`, the algorithm stops and returns `None`.\n",
    "3. If the number of iterations exceed `max_iter`, the algorithm stops and returns `None`."
   ]
  },
  {
   "cell_type": "code",
   "execution_count": 36,
   "id": "35323d98",
   "metadata": {},
   "outputs": [],
   "source": [
    "def newton(f,Df,x0,epsilon,max_iter):\n",
    "    xn = x0\n",
    "    for n in range(0, max_iter):\n",
    "        fxn = f(xn)\n",
    "        if abs(fxn) < epsilon:\n",
    "            print('Found solution after', n, 'iterations.')\n",
    "            return xn\n",
    "        Dfxn = Df(xn)\n",
    "        if Dfxn == 0:\n",
    "            print('Zero derivative. No solution found.')\n",
    "            return None\n",
    "        xn = xn - fxn/Dfxn\n",
    "    print('Exceeded maximum iterations. No solution found.')\n",
    "    return None"
   ]
  },
  {
   "cell_type": "markdown",
   "id": "285f42dc",
   "metadata": {},
   "source": [
    "# 4주차"
   ]
  },
  {
   "cell_type": "markdown",
   "id": "12b11997",
   "metadata": {},
   "source": [
    "## Riemann Sums"
   ]
  },
  {
   "cell_type": "markdown",
   "id": "c1ba6fa2",
   "metadata": {},
   "source": [
    "A left Riemann sum is when each $x_i^*=x_{i-1}$ is the left endpoint of the subinterval $[x_{i-1},x_i]$\n",
    "\n",
    "A right Riemann sum is when each $x_i^*=x_{i}$ is the left endpoint of the subinterval $[x_{i-1},x_i]$\n",
    "\n",
    "A midpoint Riemann sum is when each $x_i^*=(x_{i-1}+x_i)/2$ is the left endpoint of the subinterval $[x_{i-1},x_i]$"
   ]
  },
  {
   "cell_type": "code",
   "execution_count": 40,
   "id": "40cead02",
   "metadata": {},
   "outputs": [
    {
     "name": "stdout",
     "output_type": "stream",
     "text": [
      "x = [0.  0.5 1.  1.5 2.  2.5 3.  3.5 4.  4.5 5. ]\n",
      "x_left  = [0.  0.5 1.  1.5 2.  2.5 3.  3.5 4.  4.5]\n",
      "x_mid   = [0.25 0.75 1.25 1.75 2.25 2.75 3.25 3.75 4.25 4.75]\n",
      "x_right = [0.5 1.  1.5 2.  2.5 3.  3.5 4.  4.5 5. ]\n"
     ]
    },
    {
     "data": {
      "image/png": "[encoded data removed]",
      "text/plain": [
       "<Figure size 1080x360 with 3 Axes>"
      ]
     },
     "metadata": {
      "needs_background": "light"
     },
     "output_type": "display_data"
    }
   ],
   "source": [
    "f = lambda x: 1/(1+x**2)\n",
    "a = 0; b = 5; N = 10\n",
    "n = 10 # Use n*N+1 points to plot the function smmothly\n",
    "\n",
    "x = np.linspace(a,b,N+1)\n",
    "y = f(x)\n",
    "print(\"x =\",x)\n",
    "X = np.linspace(a,b,n*N+1)\n",
    "Y = f(X)\n",
    "\n",
    "plt.figure(figsize=(15,5))\n",
    "\n",
    "plt.subplot(1,3,1)\n",
    "plt.plot(X,Y,'b')\n",
    "x_left = x[:-1] # Left endpoints\n",
    "print(\"x_left  =\",x_left)\n",
    "y_left = y[:-1]\n",
    "plt.plot(x_left,y_left,'b.',markersize=10)\n",
    "plt.bar(x_left,y_left,width=(b-a)/N,alpha=0.2,align='edge',edgecolor='b')\n",
    "plt.title('Left Riemann Sum, N = {}'.format(N))\n",
    "\n",
    "plt.subplot(1,3,2)\n",
    "plt.plot(X,Y,'b')\n",
    "x_mid = (x[:-1] + x[1:])/2 # Midpoints\n",
    "print(\"x_mid   =\",x_mid)\n",
    "y_mid = f(x_mid)\n",
    "plt.plot(x_mid,y_mid,'b.',markersize=10)\n",
    "plt.bar(x_mid,y_mid,width=(b-a)/N,alpha=0.2,edgecolor='b')\n",
    "plt.title('Midpoint Riemann Sum, N = {}'.format(N))\n",
    "\n",
    "plt.subplot(1,3,3)\n",
    "plt.plot(X,Y,'b')\n",
    "x_right = x[1:] # Right endpoints\n",
    "print(\"x_right =\",x_right)\n",
    "y_right = y[1:]\n",
    "plt.plot(x_right,y_right,'b.',markersize=10)\n",
    "plt.bar(x_right,y_right,width=-(b-a)/N,alpha=0.2,align='edge',edgecolor='b')\n",
    "plt.title('Left Riemann Sum, N = {}'.format(N))\n",
    "\n",
    "plt.show()"
   ]
  },
  {
   "cell_type": "markdown",
   "id": "de63da39",
   "metadata": {},
   "source": [
    "### Implementation"
   ]
  },
  {
   "cell_type": "code",
   "execution_count": 42,
   "id": "98474bb6",
   "metadata": {},
   "outputs": [],
   "source": [
    "def riemann_sum(f,a,b,N,method='midpoint'):\n",
    "    \n",
    "    dx = (b-a)/N\n",
    "    x = np.linspace(a,b,N+1)\n",
    "    \n",
    "    if method == 'left':\n",
    "        x_left = x[:-1]\n",
    "        return np.sum(f(x_left)*dx)\n",
    "    elif method == 'right':\n",
    "        x_right = x[1:]\n",
    "        return np.sum(f(x_right)*dx)\n",
    "    elif method == 'midpoint':\n",
    "        x_mid = (x[:-1] + x[1:])/2\n",
    "        return np.sum(f(x_mid)*dx)\n",
    "    else:\n",
    "        raise ValueError(\"Type 'left', 'right' or 'midpoint'.\")"
   ]
  },
  {
   "cell_type": "markdown",
   "id": "85e9a95c",
   "metadata": {},
   "source": [
    "## Trapezoid Rule\n",
    "---\n",
    "\n",
    "**Theorem.** Let $T_N(f)$ denote the trapezoid rule\n",
    "\n",
    "$$\n",
    "T_N(f) = \\frac{\\Delta x}{2} \\sum_{i=1}^N (f(x_i) + f(x_{i-1}))\n",
    "$$\n",
    "\n",
    "where $\\Delta x = (b-a)/N$ and $x_i = a + i \\Delta x$. The error bound is\n",
    "\n",
    "$$\n",
    "E_N^T(f) = \\left| \\ \\int_a^b f(x) \\ dx - T_N(f) \\ \\right| \\leq \\frac{(b-a)^3}{12 N^2} K_2\n",
    "$$\n",
    "\n",
    "where $\\left| \\ f''(x) \\, \\right| \\leq K_2$ for all $x \\in [a,b]$.\n",
    "\n",
    "---"
   ]
  },
  {
   "cell_type": "code",
   "execution_count": 43,
   "id": "2701a264",
   "metadata": {},
   "outputs": [],
   "source": [
    "def trapz(f,a,b,N=50):\n",
    "    \n",
    "    x = np.linspace(a,b,N+1) # N+1 points make N subintervals\n",
    "    y = f(x)\n",
    "    y_right = y[1:] # right endpoints\n",
    "    y_left = y[:-1] # left endpoints\n",
    "    dx = (b-a)/N\n",
    "    T = (dx/2) * np.sum(y_right + y_left)\n",
    "    return T"
   ]
  },
  {
   "cell_type": "markdown",
   "id": "92af4458",
   "metadata": {},
   "source": [
    "# 5주차"
   ]
  },
  {
   "cell_type": "markdown",
   "id": "0b075001",
   "metadata": {},
   "source": [
    "## Simpson's Rule"
   ]
  },
  {
   "cell_type": "markdown",
   "id": "d50a2d31",
   "metadata": {},
   "source": [
    "### Definition\n",
    "\n",
    "$$ S_N(f)=\\frac{\\Delta x}{3} \\sum_{i=1}^{N/2}(f(x_{2i-2})+4f(x_{2i-1})+f(x_{2i})) $$\n",
    "\n",
    "where $N$ is an even number of subintervals of $[a,b]$, $\\Delta x = (b-a)/N$ and $x_i=a+i\\Delta x$."
   ]
  },
  {
   "cell_type": "markdown",
   "id": "9f74ad84",
   "metadata": {},
   "source": [
    "### Error Formula\n",
    "\n",
    "$$ E_N^S(f)\\le \\frac{(b-a)^5}{180N^4}K_4 $$\n",
    "\n",
    "where $ |f^{(4)}(x)|\\le K_4 $ for all $ x \\in [a,b] $."
   ]
  },
  {
   "cell_type": "code",
   "execution_count": 44,
   "id": "c8c64a97",
   "metadata": {},
   "outputs": [],
   "source": [
    "def simps(f,a,b,N=50):\n",
    "    \n",
    "    if N%2 == 1:\n",
    "        raise ValueError(\"N must be an even integer.\")\n",
    "    dx = (b-a)/N\n",
    "    x = np.linspace(a,b,N+1)\n",
    "    y = f(x)\n",
    "    S = dx/3 * np.sum(y[0:-1:2] + 4*y[1::2] + y[2::2])\n",
    "    return S"
   ]
  },
  {
   "cell_type": "markdown",
   "id": "91bedf88",
   "metadata": {},
   "source": [
    "## First Order Equations"
   ]
  },
  {
   "cell_type": "markdown",
   "id": "1500fbc6",
   "metadata": {},
   "source": [
    "### Linear Equations\n",
    "\n",
    "$$ y'+p(t)y=q(t) $$  \n",
    "For example, the equation  \n",
    "$$ y'+y=\\cos(t) $$  \n",
    "$$ y(t) = Ce^{-t}+\\frac{\\cos(t)+\\sin(t)}{2} $$\n",
    "\n",
    "The constant $C$ is determined by the initial value $y(0)=C+1/2$. Plot the solution $y(t)$ over the interval $0 \\le t \\le 10$ for each initial value $y(0)=-3, -2,-1,0,1,2,3$."
   ]
  },
  {
   "cell_type": "code",
   "execution_count": 45,
   "id": "f9603f72",
   "metadata": {},
   "outputs": [
    {
     "data": {
      "image/png": "[encoded data removed]",
      "text/plain": [
       "<Figure size 432x288 with 1 Axes>"
      ]
     },
     "metadata": {
      "needs_background": "light"
     },
     "output_type": "display_data"
    }
   ],
   "source": [
    "t = np.linspace(0,10,100)\n",
    "for y0 in range(-3,4):\n",
    "    C = y0 - 1/2\n",
    "    y = C*np.exp(-t) + (np.cos(t) + np.sin(t))/2\n",
    "    plt.plot(t,y,'b')\n",
    "plt.title(\"$y'+y=\\cos(t)$\"), plt.grid(True)\n",
    "plt.show()"
   ]
  },
  {
   "cell_type": "markdown",
   "id": "738a0569",
   "metadata": {},
   "source": [
    "## Separable Equations\n",
    "\n",
    "$$ y'=f(t)g(y) $$\n",
    "\n",
    "For example, the equation  \n",
    "$$ y' = -2ty^2 $$  \n",
    "$$ y(t) = \\frac{1}{t^2+C} $$  \n",
    "The constant $C$ is determined by the initial value $y(0)=1/C$. Plot the solution $y(t)$ over the interval $0 \\le t \\le 5$ for each initial value $y(0)=1,...,5$."
   ]
  },
  {
   "cell_type": "code",
   "execution_count": 46,
   "id": "bc386068",
   "metadata": {},
   "outputs": [
    {
     "data": {
      "image/png": "[encoded data removed]",
      "text/plain": [
       "<Figure size 432x288 with 1 Axes>"
      ]
     },
     "metadata": {
      "needs_background": "light"
     },
     "output_type": "display_data"
    }
   ],
   "source": [
    "t = np.linspace(0,5,100)\n",
    "for y0 in range(1,6):\n",
    "    C = 1/y0\n",
    "    y = 1/(t**2 + C)\n",
    "    plt.plot(t,y,'b')\n",
    "plt.title(\"$y'=-ty$\"), plt.grid(True)\n",
    "plt.show()"
   ]
  },
  {
   "cell_type": "markdown",
   "id": "fa2f377d",
   "metadata": {},
   "source": [
    "## Autonomous Equations\n",
    "\n",
    "$$ y'=f(y) $$  \n",
    "For example, the equation  \n",
    "$$ y'=y(1-y) $$  \n",
    "$$ y(t)=\\frac{Ce^t}{1+Ce^t} $$\n",
    "\n",
    "The constant $C$ is determined by the initial value $y(0)=C/(1+C)$ (except $y(t)=0$ when $y(0)=1$). Plot the solution $y(t)$ over the interval $0 \\le t \\le 2$ for each initial value \n",
    "\n",
    "$$y(0)=-0.1,0.0,0.5,1.0,1.5,2.0,3.0$$."
   ]
  },
  {
   "cell_type": "code",
   "execution_count": 47,
   "id": "5f4a5617",
   "metadata": {},
   "outputs": [
    {
     "data": {
      "image/png": "[encoded data removed]",
      "text/plain": [
       "<Figure size 432x288 with 1 Axes>"
      ]
     },
     "metadata": {
      "needs_background": "light"
     },
     "output_type": "display_data"
    }
   ],
   "source": [
    "t = np.linspace(0,2,20)\n",
    "for y0 in [-0.1,0.0,0.5,1.5,2,3]:\n",
    "    C = y0/(1-y0)\n",
    "    y = C*np.exp(t)/(1+C*np.exp(t))\n",
    "    plt.plot(t,y,'b')\n",
    "plt.plot([0,2],[1,1],'b') # Plot constant solution y(t) = 1\n",
    "plt.title(\"$y'=y(1-y)$\"), plt.grid(True)\n",
    "plt.show()"
   ]
  },
  {
   "cell_type": "markdown",
   "id": "1d751c4d",
   "metadata": {},
   "source": [
    "## Euler's Method"
   ]
  },
  {
   "cell_type": "markdown",
   "id": "b102680c",
   "metadata": {},
   "source": [
    "$$ y'=f(t,y),~ y(t_0)=y_0 $$ \n",
    "\n",
    "1. Contruct the equation of the tangent line to the unknown function $y(t)$ at $t=t_0$:  \n",
    "$$ y= y(t_0)+f(t_0,y_0)(t-t_0) $$  \n",
    "    where $y'(t_0)=f(t_0,y_0)$ is the slope of $y(t)$ at $t=t_0$.    \n",
    "    \n",
    "2. Use the tangent line to approximate $y(t)$ at a small time step $t_1=t_0+h$:  \n",
    "$$ y_1=y_0+f(t_0,y_0)(t_1-t_0) $$  \n",
    "    where $y_1 \\sim y(t_1)$  \n",
    "\n",
    "3. Repeat!"
   ]
  },
  {
   "cell_type": "markdown",
   "id": "62c286a8",
   "metadata": {},
   "source": [
    "The formula for Euler's method defines a recursive sequence:  \n",
    "\n",
    "$$ y_{n+1} = y_n + f(t_n, y_n)(t_{n+1}-t_n),~y_0=y(t_0) $$  \n",
    "where $y_n \\sim y(t_n) $ for each $n$. If we choose equally spaced $t$ values then the formula becomes:  \n",
    "\n",
    "$$ y_{n+1} = y_n + f(t_n, y_n)h,~y_0=y(t_0),~t_n=t_0+nh $$  \n",
    "with time step $h=t_{n+1}-t_n$. If we implement $N$ iterations of Euler's method from $t_0$ to $t_f$ then the time step is  \n",
    "\n",
    "$$ h=\\frac{t_f-t_0}{N} $$"
   ]
  },
  {
   "cell_type": "markdown",
   "id": "6071fb92",
   "metadata": {},
   "source": [
    "- $f$  is a function which represents the right side of the equation $y'=f(t,y)$\n",
    "- $t$  is a 1D NumPy array\n",
    "- $y0$  is an initial value $y(t_0)=y_0$ where $t_0$ is the value $t[0]$"
   ]
  },
  {
   "cell_type": "markdown",
   "id": "779e5641",
   "metadata": {},
   "source": [
    "### Implementation"
   ]
  },
  {
   "cell_type": "code",
   "execution_count": 32,
   "id": "70140c25",
   "metadata": {},
   "outputs": [],
   "source": [
    "def odeEuler(f,t,y0):\n",
    "    y = np.zeros(len(t))\n",
    "    y[0] = y0\n",
    "    for n in range(0, len(t)-1):\n",
    "        y[n+1] = y[n] + f(t[n],y[n])*(t[n+1] - t[n])\n",
    "    return y"
   ]
  },
  {
   "cell_type": "markdown",
   "id": "57a8e25e",
   "metadata": {},
   "source": [
    "# 6주차"
   ]
  },
  {
   "cell_type": "markdown",
   "id": "879e88d8",
   "metadata": {},
   "source": [
    "## Numerical Methods"
   ]
  },
  {
   "cell_type": "markdown",
   "id": "ba6e34e2",
   "metadata": {},
   "source": [
    "### Setup\n",
    "\n",
    "$$ y' = f(t,y),~y(t_0)=y_0 $$\n",
    "\n",
    "A numerical method is an algorithm which approximates the solution $y(t)$.\n",
    "\n",
    "$$ y_n \\approx y(t_n) $$\n",
    "\n",
    "All the numerical methods we consider below are examples of explicit Runge-Kutta methods which follow the same general procedure:\n",
    "1. Given a point $(t_n,y_n)$, approximate slopes $k_1,...k_s$ nearby using $f(t,y)$.\n",
    "2. Compute an average $\\tilde{k}$ of the slopes $k_1,...k_s$\n",
    "3. Compute the next value: $y_{n+1}=y_n+\\tilde{k}h$.\n",
    "4. Repeat!"
   ]
  },
  {
   "cell_type": "markdown",
   "id": "52f82c45",
   "metadata": {},
   "source": [
    "## Euler's Method\n",
    "\n",
    "$$ y(t+h) \\approx y(t)+y'(t)h $$\n",
    "\n",
    "$$ h=t_{n+1}-t_n $$\n",
    "$$ k_1=f(t_n,y_n)$$\n",
    "$$ y_{n+1}=y_n+k_1h$$\n",
    "\n",
    "- $f$  is a function which represents the right side of the equation $y'=f(t,y)$\n",
    "- $t$  is a 1D NumPy array\n",
    "- $y0$  is an initial value $y(t_0)=y_0$ where $t_0$ is the value $t[0]$"
   ]
  },
  {
   "cell_type": "code",
   "execution_count": 48,
   "id": "8f3d9830",
   "metadata": {},
   "outputs": [],
   "source": [
    "def odeEuler(f,t,y0):\n",
    "    y = np.zeros(len(t))\n",
    "    y[0] = y0\n",
    "    for n in range(0,len(t)-1):\n",
    "        h = t[n+1] - t[n]\n",
    "        k1 = f(t[n],y[n])\n",
    "        y[n+1] = y[n] + k1*h\n",
    "    return y"
   ]
  },
  {
   "cell_type": "code",
   "execution_count": 49,
   "id": "9d369ce7",
   "metadata": {},
   "outputs": [
    {
     "data": {
      "image/png": "[encoded data removed]",
      "text/plain": [
       "<Figure size 432x288 with 1 Axes>"
      ]
     },
     "metadata": {
      "needs_background": "light"
     },
     "output_type": "display_data"
    }
   ],
   "source": [
    "f = lambda t,y: y*np.cos(t)\n",
    "y0 = 1; t0 = 0; tf = 2*np.pi;\n",
    "h = 0.25; N = int((tf - t0)/h) + 1; # h가 줄어들수록 exact에 가까워진다.\n",
    "t = np.linspace(t0,tf,N+1)\n",
    "\n",
    "y = odeEuler(f,t,y0)\n",
    "\n",
    "plt.plot(t,y,'b.-')\n",
    "t_exact = np.linspace(t0,tf,50)\n",
    "y_exact = np.exp(np.sin(t_exact))\n",
    "plt.plot(t_exact, y_exact, 'r')\n",
    "\n",
    "plt.grid(True), plt.title(\"$y'=y \\cos(t),~y(0)=1$\")\n",
    "plt.legend([\"Euler\",\"Exact\"])\n",
    "plt.show()"
   ]
  },
  {
   "cell_type": "markdown",
   "id": "19f241c9",
   "metadata": {},
   "source": [
    "## Heun's Method"
   ]
  },
  {
   "cell_type": "markdown",
   "id": "30d84ee3",
   "metadata": {},
   "source": [
    "$$ y(t+h)\\approx y(t)+y'(t)h+ \\frac{y''(t)}{2}h^2 $$\n",
    "\n",
    "$$ y''(t) \\approx \\frac{y'(t+h)-y'(t)}{h} $$\n",
    "\n",
    "$$ y(t+h) \\approx y(t)+\\frac{y'(t+h)+y'(t)}{2}h $$\n",
    "\n",
    "User Euler's method $y(t+h) \\approx y(t)+y'(t)h$ to approximate:\n",
    "\n",
    "$$ y'(t+h)=f(t+h, y(t+h)) \\approx f(t+h,y(t)+y'(t)h) $$"
   ]
  },
  {
   "cell_type": "markdown",
   "id": "bfe5a835",
   "metadata": {},
   "source": [
    "---\n",
    "\n",
    "Heun's method is given by the 2-stage recursive formula:\n",
    "\n",
    "$$ h = t_{n+1}-t_n $$  \n",
    "$$ k_1 = f(t_n,y_n) $$  \n",
    "$$ k_2 = f(t_n+h,y_n+k_1h) $$  \n",
    "$$ y_{n+1}=y_n+\\frac{k_1+k_2}{2}h $$  \n",
    "---\n",
    "- $f$  is a function which represents the right side of the equation $y'=f(t,y)$\n",
    "- $t$  is a 1D NumPy array\n",
    "- $y0$  is an initial value $y(t_0)=y_0$ where $t_0$ is the value $t[0]$"
   ]
  },
  {
   "cell_type": "markdown",
   "id": "254a7fb7",
   "metadata": {},
   "source": [
    "### Implementation"
   ]
  },
  {
   "cell_type": "code",
   "execution_count": 50,
   "id": "f209b46f",
   "metadata": {},
   "outputs": [],
   "source": [
    "def odeHeun(f,t,y0):\n",
    "    y = np.zeros(len(t))\n",
    "    y[0] = y0\n",
    "    for n in range(0,len(t)-1):\n",
    "        h = t[n+1] - t[n]\n",
    "        k1 = f(t[n],y[n])\n",
    "        k2 = f(t[n+1],y[n] + k1*h)\n",
    "        y[n+1] = y[n] + (k1 + k2)/2*h\n",
    "    return y"
   ]
  },
  {
   "cell_type": "code",
   "execution_count": 51,
   "id": "320d005d",
   "metadata": {},
   "outputs": [
    {
     "data": {
      "image/png": "[encoded data removed]",
      "text/plain": [
       "<Figure size 432x288 with 1 Axes>"
      ]
     },
     "metadata": {
      "needs_background": "light"
     },
     "output_type": "display_data"
    }
   ],
   "source": [
    "f = lambda t,y: y*np.cos(t)\n",
    "y0 = 1; t0 = 0; tf = 2*np.pi;\n",
    "h = 0.25; N = int((tf - t0)/h) + 1; # h가 줄어들수록 exact에 가까워진다.\n",
    "t = np.linspace(t0,tf,N+1)\n",
    "\n",
    "y_euler = odeEuler(f,t,y0); plt.plot(t,y_euler,'g.-');\n",
    "y_heun = odeHeun(f,t,y0); plt.plot(t,y_heun,'b.-');\n",
    "\n",
    "t_exact = np.linspace(t0,tf,50)\n",
    "y_exact = np.exp(np.sin(t_exact))\n",
    "plt.plot(t_exact, y_exact, 'r')\n",
    "\n",
    "plt.grid(True), plt.title(\"$y'=y \\cos(t),~y(0)=1$\")\n",
    "plt.legend([\"Euler\",\"Heun\",\"Exact\"])\n",
    "plt.show()"
   ]
  },
  {
   "cell_type": "markdown",
   "id": "96bfb133",
   "metadata": {},
   "source": [
    "## RK4 Method\n",
    "\n",
    "Let an IVP be specified as follows:\n",
    "\n",
    "$$\\frac{dy}{dt} = f(t, y), \\quad y(t_0) = y_0.$$\n",
    "\n",
    "Then, the RK4 method is \n",
    "$$\n",
    "\\begin{align}\n",
    "y_{n+1} &= y_n + \\frac{1}{6}\\left(k_1 + 2k_2 + 2k_3 + k_4 \\right)h,\\\\\n",
    "t_{n+1} &= t_n + h \\\\\n",
    "\\end{align}\n",
    "$$\n",
    "where\n",
    "$$\n",
    "\\begin{align}\n",
    " k_1 &= \\ f(t_n, y_n), \\\\\n",
    " k_2 &= \\ f\\!\\left(t_n + \\frac{h}{2}, y_n + h\\frac{k_1}{2}\\right), \\\\ \n",
    " k_3 &= \\ f\\!\\left(t_n + \\frac{h}{2}, y_n + h\\frac{k_2}{2}\\right), \\\\\n",
    " k_4 &= \\ f\\!\\left(t_n + h, y_n + hk_3\\right).\n",
    " \\end{align}\n",
    "$$\n",
    "\n",
    "\n",
    "Here $y_{n+1}$ is the RK4 approximation of $y(t_{n+1})$, and the next value ($y_{n+1}$) is determined by the present value ($y_n$) plus the weighted average of four increments, where each increment is the product of the size of the interval, ''h'', and an estimated slope specified by function ''f'' on the right-hand side of the differential equation.\n",
    "\n",
    "In averaging the four slopes, greater weight is given to the slopes at the midpoint. If $f$ is independent of $y$, so that the differential equation is equivalent to a simple integral, then RK4 is Simpson's rule."
   ]
  },
  {
   "cell_type": "markdown",
   "id": "524f1652",
   "metadata": {},
   "source": [
    "### Problem\n",
    "\n",
    "Consider $y' = y- t^2 + 1$ with $y(0) = 0.5$. The exact solution is $y = t^2 + 2t + 1 -\\frac{1}{2} e^t$.\n",
    "\n",
    "1. Write a code for the RK4 to find y(1)."
   ]
  },
  {
   "cell_type": "code",
   "execution_count": 3,
   "id": "792b5a83",
   "metadata": {},
   "outputs": [],
   "source": [
    "def odeRK4(f,t,y0):\n",
    "    y = np.zeros(len(t))\n",
    "    y[0] = y0\n",
    "    for n in range(0, len(t)-1):\n",
    "        h = t[n+1]-t[n]\n",
    "        k1 = f(t[n], y[n])\n",
    "        k2 = f(t[n] + h/2, y[n] + h*k1/2)\n",
    "        k3 = f(t[n] + h/2, y[n] + h*k2/2)\n",
    "        k4 = f(t[n] + h, y[n] + h*k3)\n",
    "        y[n+1] = y[n] + (k1 + 2*k2 + 2*k3 + k4)/6*h\n",
    "    return y"
   ]
  },
  {
   "cell_type": "code",
   "execution_count": 4,
   "id": "6b77d33c",
   "metadata": {},
   "outputs": [
    {
     "data": {
      "image/png": "[encoded data removed]",
      "text/plain": [
       "<Figure size 432x288 with 1 Axes>"
      ]
     },
     "metadata": {
      "needs_background": "light"
     },
     "output_type": "display_data"
    },
    {
     "name": "stdout",
     "output_type": "stream",
     "text": [
      "Exact solution  : 2.6408590857704777\n",
      "Approx solution : 2.6408589620246614\n"
     ]
    }
   ],
   "source": [
    "f = lambda t,y: y-t**2+1\n",
    "exactSolutionFunction = lambda t: t**2 + 2*t + 1 - np.e**t/2\n",
    "\n",
    "y0 = 0.5; t0 = 0; tf = 1;\n",
    "h = 0.05; N = int((tf-t0)/h) + 1;\n",
    "t = np.linspace(t0,tf,N+1)\n",
    "\n",
    "y_RK4 = odeRK4(f,t,y0)\n",
    "\n",
    "plt.plot(t,y_RK4,'b.-')\n",
    "\n",
    "t_exact = np.linspace(t0,tf,100)\n",
    "y_exact = exactSolutionFunction(t_exact)\n",
    "plt.plot(t_exact, y_exact, 'r')\n",
    "\n",
    "plt.grid(True), plt.title(\"$y'=y-t^2+1,~y(0)=0.5$\")\n",
    "plt.legend([\"RK4\",\"Exact\"])\n",
    "plt.show()\n",
    "\n",
    "print(\"Exact solution  :\",exactSolutionFunction(1))\n",
    "print(\"Approx solution :\", y_RK4[-1])"
   ]
  },
  {
   "cell_type": "markdown",
   "id": "a7c3f85b",
   "metadata": {},
   "source": [
    "2. Let's verify the order of Heun's method experimentally by plotting the \"local truncation error\" for RK4 applied to the underlying equation. Use loglog plot to see the convergence."
   ]
  },
  {
   "cell_type": "code",
   "execution_count": 5,
   "id": "17fa36b1",
   "metadata": {},
   "outputs": [
    {
     "data": {
      "image/png": "[encoded data removed]",
      "text/plain": [
       "<Figure size 432x288 with 1 Axes>"
      ]
     },
     "metadata": {
      "needs_background": "light"
     },
     "output_type": "display_data"
    }
   ],
   "source": [
    "h = [0.1,0.05,0.01,0.005,0.001]\n",
    "E = np.zeros(len(h))\n",
    "for n in range(0,len(h)):\n",
    "    y = odeRK4(f,[0,h[n]],y0)\n",
    "    y1 = y[1]\n",
    "    y1_exact = exactSolutionFunction(h[n])\n",
    "    E[n] = np.abs(y1_exact - y1)\n",
    "    \n",
    "plt.loglog(h,E,'b.-'), plt.grid(True)\n",
    "plt.title(\"RK4 Method, $y'=y-t^2+1,~y(0)=0.5$\")\n",
    "plt.xlabel(\"Step Size, $h$\"), plt.ylabel(\"Local Truncation Error, $E$\")\n",
    "plt.show()"
   ]
  },
  {
   "cell_type": "code",
   "execution_count": 6,
   "id": "9540954d",
   "metadata": {},
   "outputs": [
    {
     "name": "stdout",
     "output_type": "stream",
     "text": [
      "order+1 : 4.996919291841246\n",
      "order+1 : 4.998943208367904\n",
      "order+1 : 4.999807730386747\n",
      "order+1 : 3.821584368634736\n"
     ]
    }
   ],
   "source": [
    "for j in range(len(h)-1):\n",
    "    print(\"order+1 :\",(np.log(E[j+1]) - np.log(E[j])) / (np.log(h[j+1]) - np.log(h[j])))"
   ]
  },
  {
   "cell_type": "markdown",
   "id": "56bdc01f",
   "metadata": {},
   "source": [
    "### Error Analysis"
   ]
  },
  {
   "cell_type": "markdown",
   "id": "a992065b",
   "metadata": {},
   "source": [
    "### Order of Accuracy\n",
    "The (local) truncation error is\n",
    "$$ E(h)=|y(t_1)-y_1|=\\frac{|y^{(p+1)}(c)|}{(p+1)!}h^{p+1} $$\n",
    "\n",
    "$$ E(h) \\le Ch^{p+1}$$"
   ]
  },
  {
   "cell_type": "markdown",
   "id": "9a83ab62",
   "metadata": {},
   "source": [
    "$$ E(h) \\approx Ch^{p+1} $$\n",
    "\n",
    "$$ \\log(E(h)) \\approx (p+1)\\log(h) + \\log(C) $$\n",
    "\n",
    "1. Apply the numerical method to the equation $y'=y,~y(0)=1$ for different steps size $h_1$ and $h_2$.\n",
    "2. Compute the local truncation errors $E(h_1)$ and $E(h_2)$ using the exact solution $y(t)=e^t$.\n",
    "3. Compute the slope of the loglog plot:\n",
    "\n",
    "$$ p+1 \\approx \\frac{\\log(E(h_2)) - \\log(E(h_1))}{\\log(h_2) - \\log(h_1)} $$"
   ]
  },
  {
   "cell_type": "markdown",
   "id": "e4ceafa7",
   "metadata": {},
   "source": [
    "### Examples 1: Euler's Method is Order 1\n",
    "$$ y(t_1)=y(t_0) + y'(t_0)(t_1-t_0)+ \\frac{y''(c)}{2}(t_1-t_0)^2 $$  \n",
    "for some $ c \\in [t_0,t_1]\\ $. Therefore, if $|y''(t)|\\le K_2$ for all $t \\in [t_0,t_1] $, then  \n",
    "$$ E(h) = |\\frac{y''(c)}{2}(t_1-t_0)^2| \\le \\frac{K_2h^2}{2} $$"
   ]
  },
  {
   "cell_type": "code",
   "execution_count": null,
   "id": "4048649c",
   "metadata": {},
   "outputs": [],
   "source": [
    "def odeEuler(f,t,y0):\n",
    "    y = np.zeros(len(t))\n",
    "    y[0] = y0\n",
    "    for n in range(0,len(t)-1):\n",
    "        h = t[n+1] - t[n]\n",
    "        k1 = f(t[n],y[n])\n",
    "        y[n+1] = y[n] + k1*h\n",
    "    return y"
   ]
  },
  {
   "cell_type": "code",
   "execution_count": 52,
   "id": "e000710f",
   "metadata": {},
   "outputs": [
    {
     "data": {
      "image/png": "[encoded data removed]",
      "text/plain": [
       "<Figure size 432x288 with 1 Axes>"
      ]
     },
     "metadata": {
      "needs_background": "light"
     },
     "output_type": "display_data"
    },
    {
     "name": "stdout",
     "output_type": "stream",
     "text": [
      "2.024347026640165\n",
      "2.008325982940494\n",
      "2.0024074989032097\n",
      "2.0008288607077844\n"
     ]
    }
   ],
   "source": [
    "f = lambda t,y: y\n",
    "y0 = 1;\n",
    "h = [0.1,0.05,0.01,0.005,0.001]\n",
    "E = np.zeros(len(h))\n",
    "for n in range(0,len(h)):\n",
    "    y = odeEuler(f,[0,h[n]],y0)\n",
    "    y1 = y[1]\n",
    "    y1_exact = np.exp(h[n])\n",
    "    E[n] = np.abs(y1_exact - y1)\n",
    "    \n",
    "plt.loglog(h,E,'b.-'), plt.grid(True)\n",
    "plt.title(\"Euler's Method, $y'=y,~y(0)=1$\")\n",
    "plt.xlabel(\"Step Size, $h$\"), plt.ylabel(\"Local Truncation Error, $E$\")\n",
    "plt.show()\n",
    "\n",
    "for j in range(len(h)-1):\n",
    "    print((np.log(E[j+1]) - np.log(E[j])) / (np.log(h[j+1]) - np.log(h[j])))"
   ]
  },
  {
   "cell_type": "markdown",
   "id": "746ce57c",
   "metadata": {},
   "source": [
    "### Example 2: Heun's Method is Order 2"
   ]
  },
  {
   "cell_type": "code",
   "execution_count": 53,
   "id": "bdbf407d",
   "metadata": {},
   "outputs": [
    {
     "data": {
      "image/png": "[encoded data removed]",
      "text/plain": [
       "<Figure size 432x288 with 1 Axes>"
      ]
     },
     "metadata": {
      "needs_background": "light"
     },
     "output_type": "display_data"
    },
    {
     "name": "stdout",
     "output_type": "stream",
     "text": [
      "3.0182378826305905\n",
      "3.006241389698562\n",
      "3.0018054120486792\n",
      "3.000621298955094\n"
     ]
    }
   ],
   "source": [
    "f = lambda t,y: y\n",
    "y0 = 1;\n",
    "h = [0.1,0.05,0.01,0.005,0.001]\n",
    "E = np.zeros(len(h))\n",
    "for n in range(0,len(h)):\n",
    "    y = odeHeun(f,[0,h[n]],y0)\n",
    "    y1 = y[1]\n",
    "    y1_exact = np.exp(h[n])\n",
    "    E[n] = np.abs(y1_exact - y1)\n",
    "    \n",
    "plt.loglog(h,E,'b.-'), plt.grid(True)\n",
    "plt.title(\"Euler's Method, $y'=y,~y(0)=1$\")\n",
    "plt.xlabel(\"Step Size, $h$\"), plt.ylabel(\"Local Truncation Error, $E$\")\n",
    "plt.show()\n",
    "\n",
    "for j in range(len(h)-1):\n",
    "    print((np.log(E[j+1]) - np.log(E[j])) / (np.log(h[j+1]) - np.log(h[j])))"
   ]
  },
  {
   "cell_type": "markdown",
   "id": "dcbe577d",
   "metadata": {},
   "source": [
    "# 7주차"
   ]
  },
  {
   "cell_type": "markdown",
   "id": "53092989",
   "metadata": {},
   "source": [
    "## Linear Algebra with SciPy"
   ]
  },
  {
   "cell_type": "code",
   "execution_count": 10,
   "id": "0b009ae5",
   "metadata": {},
   "outputs": [],
   "source": [
    "import scipy.linalg as la"
   ]
  },
  {
   "cell_type": "markdown",
   "id": "9cd30da0",
   "metadata": {},
   "source": [
    "### Determiant\n",
    "We can find the determinant using the function `scipy.linalg.det` or `la.det` :"
   ]
  },
  {
   "cell_type": "markdown",
   "id": "4f56685f",
   "metadata": {},
   "source": [
    "## Polynomial Interpolation"
   ]
  },
  {
   "cell_type": "markdown",
   "id": "7ed26f8c",
   "metadata": {},
   "source": [
    "### Formulation\n",
    "Suppose we have $n+1$ points in the $xy$-plane\n",
    "$$ (x_0,y_0),(x_1,y_1),...,(x_n,y_n) $$\n",
    "\n",
    "$$ p(x) = a_0+a_1x+a_2x^2+...+a_nx^n $$"
   ]
  },
  {
   "cell_type": "markdown",
   "id": "33b9a086",
   "metadata": {},
   "source": [
    "### Example : Simple Parabola\n",
    "$(0,6),(3,1)$ and $(8,2)$"
   ]
  },
  {
   "cell_type": "code",
   "execution_count": 60,
   "id": "d9dbb361",
   "metadata": {},
   "outputs": [
    {
     "name": "stdout",
     "output_type": "stream",
     "text": [
      "[ 6.         -2.36666667  0.23333333]\n"
     ]
    }
   ],
   "source": [
    "x = np.array([0,3,8])\n",
    "y = np.array([6,1,2])\n",
    "\n",
    "X = np.column_stack([x**k for k in range(0,3)])\n",
    "\n",
    "a = la.solve(X, y)\n",
    "print(a)"
   ]
  },
  {
   "cell_type": "code",
   "execution_count": 65,
   "id": "7ff2fbfe",
   "metadata": {},
   "outputs": [
    {
     "data": {
      "image/png": "[encoded data removed]",
      "text/plain": [
       "<Figure size 432x288 with 1 Axes>"
      ]
     },
     "metadata": {
      "needs_background": "light"
     },
     "output_type": "display_data"
    }
   ],
   "source": [
    "xs = np.linspace(0,8,20)\n",
    "ys = sum(a[k]*xs**k for k in range(0,3))\n",
    "\n",
    "plt.plot(xs,ys,'b')\n",
    "plt.plot(x,y,'r.',ms=15)\n",
    "plt.show()"
   ]
  },
  {
   "cell_type": "markdown",
   "id": "4f09d965",
   "metadata": {},
   "source": [
    "### Fake Noisy Linear Data"
   ]
  },
  {
   "cell_type": "code",
   "execution_count": 71,
   "id": "1fd621de",
   "metadata": {},
   "outputs": [
    {
     "name": "stdout",
     "output_type": "stream",
     "text": [
      "[-0.01882727  0.1429211  -0.08508423 -0.02606843  0.11030556  0.06785982\n",
      " -0.02494128  0.0435908  -0.10240923  0.16310626]\n"
     ]
    }
   ],
   "source": [
    "noise = 0.1*np.random.randn(10)\n",
    "print(noise)"
   ]
  },
  {
   "cell_type": "markdown",
   "id": "574cce1c",
   "metadata": {},
   "source": [
    "## Polynomial Regression\n",
    "\n",
    "### Formulation\n",
    "\n",
    "The same idea works for fitting a degree $d$ polynomial model\n",
    "\n",
    "$$\n",
    "y = a_0 + a_1x + a_2x^2 + \\cdots + a_dx^d\n",
    "$$\n",
    "\n",
    "to a set of $n+1$ data points\n",
    "\n",
    "$$\n",
    "(x_0,y_0), (x_1,y_1), \\dots , (x_n,y_n)\n",
    "$$\n",
    "\n",
    "We form the matrices as before but now the Vandermonde matrix $X$ has $d+1$ columns\n",
    "\n",
    "$$\n",
    "X =\n",
    "\\begin{bmatrix}\n",
    "1 & x_0 & x_0^2 & \\cdots & x_0^d \\\\\\\n",
    "1 & x_1 & x_1^2 & \\cdots & x_1^d \\\\\\\n",
    " & \\vdots & & & \\vdots \\\\\\\n",
    "1 & x_n & x_n^2 & \\cdots & x_n^d\n",
    "\\end{bmatrix}\n",
    "\\ , \\ \\\n",
    "\\mathbf{y} =\n",
    "\\begin{bmatrix}\n",
    "y_0 \\\\\\\n",
    "y_1 \\\\\\\n",
    "\\vdots \\\\\\\n",
    "y_n\n",
    "\\end{bmatrix}\n",
    "\\ , \\ \\\n",
    "\\mathbf{a} =\n",
    "\\begin{bmatrix}\n",
    "a_0 \\\\\\\n",
    "a_1 \\\\\\\n",
    "a_2 \\\\\\\n",
    "\\vdots \\\\\\\n",
    "a_d\n",
    "\\end{bmatrix}\n",
    "$$\n",
    "\n",
    "The coefficients $\\mathbf{a} = [a_0,a_1,a_2,\\dots,a_d]^T$ which minimize the sum of squared errors $SSE$ is the unique solution of the linear system\n",
    "\n",
    "$$\n",
    "\\left( X^T X \\right) \\mathbf{a} = \\left( X^T \\right) \\mathbf{y}\n",
    "$$"
   ]
  },
  {
   "cell_type": "markdown",
   "id": "d2e08595",
   "metadata": {},
   "source": [
    "---\n",
    "Let's build some fake data using a quadratic model $y = a_0 + a_1x + a_2x^2 + a_3x^3 + \\epsilon$ and use linear regression to retrieve the coefficients $a_0$, $a_1$ and $a_2$."
   ]
  },
  {
   "cell_type": "code",
   "execution_count": 12,
   "id": "aac3a0e6",
   "metadata": {
    "scrolled": true
   },
   "outputs": [
    {
     "data": {
      "image/png": "[encoded data removed]",
      "text/plain": [
       "<Figure size 432x288 with 1 Axes>"
      ]
     },
     "metadata": {
      "needs_background": "light"
     },
     "output_type": "display_data"
    }
   ],
   "source": [
    "a0 = 1; a1 = -3; a2 = -2; a3 = 1;\n",
    "N = 1000\n",
    "x = 10*np.random.rand(N) - 5 # Random numbers in the interval (-5,5)\n",
    "noise = 5*np.random.randn(N)\n",
    "y = a0 + a1*x + a2*x**2 + a3*x**3 + noise\n",
    "plt.scatter(x,y,alpha=0.5,lw=0);\n",
    "plt.show()"
   ]
  },
  {
   "cell_type": "code",
   "execution_count": 13,
   "id": "0becd50a",
   "metadata": {},
   "outputs": [
    {
     "data": {
      "image/png": "[encoded data removed]",
      "text/plain": [
       "<Figure size 432x288 with 1 Axes>"
      ]
     },
     "metadata": {
      "needs_background": "light"
     },
     "output_type": "display_data"
    },
    {
     "name": "stdout",
     "output_type": "stream",
     "text": [
      "[ 0.95836072 -2.83234192 -1.99739504  0.99375017]\n"
     ]
    }
   ],
   "source": [
    "X = np.column_stack([x**k for k in range(0,4)])\n",
    "a = la.solve(X.T @ X, X.T @ y)\n",
    "\n",
    "x_approx = np.linspace(-5,5,100)\n",
    "y_approx = sum(a[k]*x_approx**k for k in range(0,4))\n",
    "\n",
    "plt.scatter(x,y,alpha=0.5,lw=0)\n",
    "plt.plot(x_approx, y_approx, 'r', lw=5)\n",
    "plt.show()\n",
    "\n",
    "print(a)"
   ]
  },
  {
   "cell_type": "code",
   "execution_count": null,
   "id": "8bd19189",
   "metadata": {},
   "outputs": [],
   "source": []
  }
 ],
 "metadata": {
  "kernelspec": {
   "display_name": "Python 3 (ipykernel)",
   "language": "python",
   "name": "python3"
  },
  "language_info": {
   "codemirror_mode": {
    "name": "ipython",
    "version": 3
   },
   "file_extension": ".py",
   "mimetype": "text/x-python",
   "name": "python",
   "nbconvert_exporter": "python",
   "pygments_lexer": "ipython3",
   "version": "3.9.12"
  }
 },
 "nbformat": 4,
 "nbformat_minor": 5
}
