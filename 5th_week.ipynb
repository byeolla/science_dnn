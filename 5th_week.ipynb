{
 "cells": [
  {
   "cell_type": "markdown",
   "metadata": {},
   "source": [
    "## Simpson's Rule"
   ]
  },
  {
   "cell_type": "code",
   "execution_count": 1,
   "metadata": {},
   "outputs": [],
   "source": [
    "import numpy as np\n",
    "import matplotlib.pyplot as plt"
   ]
  },
  {
   "cell_type": "markdown",
   "metadata": {},
   "source": [
    "### Definition\n",
    "Simpson's rule uses a quadratic polynomial on each subinterval of a partition to approximate the function $f(x)$ and to compute the definite integral. This is an improvement over the trapezoid rule which approximate $f(x)$ by a straight line on each subinterval of a partition.\\\\\n",
    "The formula for Simpson's rule is $$S_{N}f = \\frac{\\Delta}{3}\\sum_{i=1}^{N/2}\\left(f(x_{2i-2})+4f(x_{2i-1}+f(x_{2i})\\right)$$\n",
    "where $N$ is an even number of subintervals of $\\left[a, b \\right]$, $\\Delta x =(b-a)/N$ and $x_{i}=a+i\\Delta x$."
   ]
  },
  {
   "cell_type": "markdown",
   "metadata": {},
   "source": [
    "### Error Formula\n",
    "We have seen that the error in a Riemann sum is inversely proportional to the size of the partition $N$ and the trapezoid rule is inversely proportional to $N^{2}$. The error formula in the theorem below shows that Simpson's rule is even better as the error is inversely proportional $N^{4}$.\n",
    "\n",
    "**Theorem** Let $S_{N}(f)$ denote Simpson's rule $$S_{N}f = \\frac{\\Delta}{3}\\sum_{i=1}^{N/2}\\left(f(x_{2i-2})+4f(x_{2i-1}+f(x_{2i})\\right)$$ where $N$ is an even number of subintervals of\n",
    "$\\left[a, b\\right]$, $\\Delta x = (b-a)/N$ and $x_{i}=a+i\\Delta x$. The error bound is\n",
    "$$E_{N}^{S}(f)=\\left|\\int_{a}^{b}f(x)dx - S_{N}(f)\\right| \\leq \\frac{(b-a)^{5}}{180N^{4}}k_{4}$$\n",
    "where $\\left|f^{(4)}\\right| \\leq K_{4}$ for all $x \\in \\left[a, b\\right]$."
   ]
  },
  {
   "cell_type": "markdown",
   "metadata": {},
   "source": [
    "### Implementation\n",
    "Let's write a function called `simps` which takes input parameters $f, a, b$ and $N$ and returns the approximatoin $S_{N}(f)$. Furthermore, let's assign a default value $N=50$."
   ]
  },
  {
   "cell_type": "code",
   "execution_count": 4,
   "metadata": {},
   "outputs": [
    {
     "name": "stdout",
     "output_type": "stream",
     "text": [
      "[0.  0.1 0.2 0.3 0.4 0.5 0.6 0.7 0.8 0.9 1. ]\n",
      "[0.  0.2 0.4 0.6 0.8]\n",
      "[0.1 0.3 0.5 0.7 0.9]\n",
      "[0.2 0.4 0.6 0.8 1. ]\n"
     ]
    }
   ],
   "source": [
    "x = np.linspace(0, 1, 11)\n",
    "print(x)\n",
    "print(x[0:-1:2])\n",
    "print(x[1::2])\n",
    "print(x[2::2])"
   ]
  },
  {
   "cell_type": "code",
   "execution_count": 5,
   "metadata": {},
   "outputs": [],
   "source": [
    "def simps(f, a, b, N=50):\n",
    "    if N % 2 ==1:\n",
    "        raise ValueError(\"N must be an even integer.\")\n",
    "    dx = (b-a)/N\n",
    "    x = np.linspace(a, b, N+1)\n",
    "    y = f(x)\n",
    "    S = dx/3 * np.sum(y[0:-1:2] + 4*y[1::2] + y[2::2])\n",
    "    return S"
   ]
  },
  {
   "cell_type": "markdown",
   "metadata": {},
   "source": [
    "Let's test our function on integrals for which we know te exact value. For example, we know $$\\int_{0}^{1}3x^{2}dx=1$$"
   ]
  },
  {
   "cell_type": "code",
   "execution_count": 6,
   "metadata": {},
   "outputs": [
    {
     "data": {
      "text/plain": [
       "1.0"
      ]
     },
     "execution_count": 6,
     "metadata": {},
     "output_type": "execute_result"
    }
   ],
   "source": [
    "simps(lambda x : 3*x**2, 0, 1, 10)"
   ]
  },
  {
   "cell_type": "markdown",
   "metadata": {},
   "source": [
    "Test our function again with the integral $$\\int_{0}^{\\pi/2}\\sin{x}dx=1$$"
   ]
  },
  {
   "cell_type": "code",
   "execution_count": 7,
   "metadata": {},
   "outputs": [
    {
     "data": {
      "text/plain": [
       "1.000000000338236"
      ]
     },
     "execution_count": 7,
     "metadata": {},
     "output_type": "execute_result"
    }
   ],
   "source": [
    "simps(np.sin, 0, np.pi/2, 100)"
   ]
  },
  {
   "cell_type": "markdown",
   "metadata": {},
   "source": [
    "#### Examples\n",
    "##### Approximate ln(2)\n",
    "Find a value $N$ which guarantees that Simpson's rule approximate $S_{N}(f)$ of the integral $$\\int_{1}^{2}\\frac{1}{x}dx$$\n",
    "satisfies $E_{N}^{S}(f) \\leq 0.0001$.\n",
    "Compute $$f^{(4)} = \\frac{24}{x^{5}}$$\n",
    "therefore $\\left| f^{(4)} \\right|\\leq 24$ for all $x \\in \\left[1, 2\\right]$ and so\n",
    "$$\\frac{1}{180N^{4}}24\\leq 0.0001 \\Rightarrow \\frac{20000}{15N^{4}} \\leq 1 \\Rightarrow \\left(\\frac{20000}{15}\\right)^{1/4} \\leq N$$\n",
    "Compute"
   ]
  },
  {
   "cell_type": "code",
   "execution_count": 8,
   "metadata": {},
   "outputs": [
    {
     "data": {
      "text/plain": [
       "6.042750794713537"
      ]
     },
     "execution_count": 8,
     "metadata": {},
     "output_type": "execute_result"
    }
   ],
   "source": [
    "(20000/15)**0.25"
   ]
  },
  {
   "cell_type": "markdown",
   "metadata": {},
   "source": [
    "Compute Simpson's rule with $N=8$(the smallest even integer greater than 6.04)"
   ]
  },
  {
   "cell_type": "code",
   "execution_count": 11,
   "metadata": {},
   "outputs": [
    {
     "name": "stdout",
     "output_type": "stream",
     "text": [
      "0.6931545306545306\n"
     ]
    }
   ],
   "source": [
    "approximation = simps(lambda x: 1/x, 1, 2, 8)\n",
    "print(approximation)"
   ]
  },
  {
   "cell_type": "markdown",
   "metadata": {},
   "source": [
    "Verify that $E_{N}^{S}(f) \\leq 0.0001$"
   ]
  },
  {
   "cell_type": "code",
   "execution_count": 12,
   "metadata": {},
   "outputs": [
    {
     "data": {
      "text/plain": [
       "7.350094585301115e-06"
      ]
     },
     "execution_count": 12,
     "metadata": {},
     "output_type": "execute_result"
    }
   ],
   "source": [
    "np.abs(np.log(2)-approximation)"
   ]
  },
  {
   "cell_type": "code",
   "execution_count": null,
   "metadata": {},
   "outputs": [],
   "source": []
  }
 ],
 "metadata": {
  "kernelspec": {
   "display_name": "Python 3.7.13 ('science_dnn')",
   "language": "python",
   "name": "python3"
  },
  "language_info": {
   "codemirror_mode": {
    "name": "ipython",
    "version": 3
   },
   "file_extension": ".py",
   "mimetype": "text/x-python",
   "name": "python",
   "nbconvert_exporter": "python",
   "pygments_lexer": "ipython3",
   "version": "3.7.13"
  },
  "orig_nbformat": 4,
  "vscode": {
   "interpreter": {
    "hash": "c0f2ae45ca5b13b9dba64e90d12e7a2d503c99b3d3d62896f22c1678fa3ef761"
   }
  }
 },
 "nbformat": 4,
 "nbformat_minor": 2
}
