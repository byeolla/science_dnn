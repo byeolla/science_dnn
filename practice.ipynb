{
 "cells": [
  {
   "cell_type": "code",
   "execution_count": 1,
   "metadata": {},
   "outputs": [],
   "source": [
    "import numpy as np\n",
    "import matplotlib.pyplot as plt"
   ]
  },
  {
   "cell_type": "code",
   "execution_count": 2,
   "metadata": {},
   "outputs": [],
   "source": [
    "def is_square(N):\n",
    "    return round(N**0.5)**2 == N\n",
    "\n",
    "def reps_sum_squares(N):\n",
    "    resp = []\n",
    "    if is_square(N/2):\n",
    "        max_x = round((N/2)**0.5)\n",
    "\n",
    "    else:\n",
    "        max_x = int((N/2)**0.5)\n",
    "\n",
    "    for x in range(0, max_x + 1):\n",
    "        y_squared = N - x**2\n",
    "        if is_square(y_squared):\n",
    "            y = round(y_squared**0.5)\n",
    "\n",
    "            resp.append((x,y))\n",
    "\n",
    "    return resp"
   ]
  },
  {
   "cell_type": "code",
   "execution_count": 3,
   "metadata": {},
   "outputs": [
    {
     "data": {
      "text/plain": [
       "[(4, 33), (9, 32), (12, 31), (23, 24)]"
      ]
     },
     "execution_count": 3,
     "metadata": {},
     "output_type": "execute_result"
    }
   ],
   "source": [
    "reps_sum_squares(1105)"
   ]
  },
  {
   "cell_type": "code",
   "execution_count": 4,
   "metadata": {},
   "outputs": [
    {
     "name": "stdout",
     "output_type": "stream",
     "text": [
      "[[1 1 1]\n",
      " [2 2 2]\n",
      " [3 3 3]]\n"
     ]
    }
   ],
   "source": [
    "x = np.array([1, 1, 1])\n",
    "y = np.array([2, 2, 2])\n",
    "z = np.array([3, 3, 3])\n",
    "vstacked = np.vstack((x, y, z))\n",
    "print(vstacked)"
   ]
  },
  {
   "cell_type": "code",
   "execution_count": 5,
   "metadata": {},
   "outputs": [
    {
     "name": "stdout",
     "output_type": "stream",
     "text": [
      "[1 1 1 2 2 2 3 3 3]\n"
     ]
    }
   ],
   "source": [
    "hstacked = np.hstack((x, y, z))\n",
    "print(hstacked)"
   ]
  },
  {
   "cell_type": "code",
   "execution_count": 6,
   "metadata": {},
   "outputs": [
    {
     "name": "stdout",
     "output_type": "stream",
     "text": [
      "[[1. 1. 2. 2.]\n",
      " [1. 1. 2. 2.]]\n"
     ]
    }
   ],
   "source": [
    "A = np.ones((2,2))\n",
    "B = 2*np.ones((2, 2))\n",
    "C = 3*np.ones((2, 2))\n",
    "D = 4*np.ones((2, 2))\n",
    "A_B = np.hstack((A, B))\n",
    "print(A_B)"
   ]
  },
  {
   "cell_type": "code",
   "execution_count": 7,
   "metadata": {},
   "outputs": [
    {
     "name": "stdout",
     "output_type": "stream",
     "text": [
      "[[3. 3. 4. 4.]\n",
      " [3. 3. 4. 4.]]\n"
     ]
    }
   ],
   "source": [
    "C_D = np.hstack((C, D))\n",
    "print(C_D)"
   ]
  },
  {
   "cell_type": "code",
   "execution_count": 8,
   "metadata": {},
   "outputs": [
    {
     "name": "stdout",
     "output_type": "stream",
     "text": [
      "[[1. 1. 2. 2.]\n",
      " [1. 1. 2. 2.]\n",
      " [3. 3. 4. 4.]\n",
      " [3. 3. 4. 4.]]\n"
     ]
    }
   ],
   "source": [
    "T = np.vstack((A_B, C_D))\n",
    "print(T)"
   ]
  },
  {
   "cell_type": "code",
   "execution_count": 9,
   "metadata": {},
   "outputs": [],
   "source": [
    "from numpy.linalg import matrix_power as mpow"
   ]
  },
  {
   "cell_type": "code",
   "execution_count": 10,
   "metadata": {},
   "outputs": [],
   "source": [
    "A = np.array([[3, 1], [2, -1]])\n",
    "B = np.array([[2, -2], [5, 1]])"
   ]
  },
  {
   "cell_type": "code",
   "execution_count": 11,
   "metadata": {},
   "outputs": [
    {
     "data": {
      "text/plain": [
       "array([[37,  9],\n",
       "       [18,  1]])"
      ]
     },
     "execution_count": 11,
     "metadata": {},
     "output_type": "execute_result"
    }
   ],
   "source": [
    "mpow(A, 3)"
   ]
  },
  {
   "cell_type": "code",
   "execution_count": 12,
   "metadata": {},
   "outputs": [
    {
     "data": {
      "text/plain": [
       "array([[11, -5],\n",
       "       [-1, -5]])"
      ]
     },
     "execution_count": 12,
     "metadata": {},
     "output_type": "execute_result"
    }
   ],
   "source": [
    "A@B"
   ]
  },
  {
   "cell_type": "code",
   "execution_count": 13,
   "metadata": {},
   "outputs": [
    {
     "data": {
      "text/plain": [
       "array([[37,  9],\n",
       "       [18,  1]])"
      ]
     },
     "execution_count": 13,
     "metadata": {},
     "output_type": "execute_result"
    }
   ],
   "source": [
    "A@A@A"
   ]
  },
  {
   "cell_type": "code",
   "execution_count": 14,
   "metadata": {},
   "outputs": [
    {
     "name": "stdout",
     "output_type": "stream",
     "text": [
      "[ 8 -2  4  7 -3]\n"
     ]
    }
   ],
   "source": [
    "arr = np.array([8, -2, 4, 7, -3])\n",
    "print(arr)"
   ]
  },
  {
   "cell_type": "code",
   "execution_count": 15,
   "metadata": {},
   "outputs": [
    {
     "data": {
      "text/plain": [
       "2.8"
      ]
     },
     "execution_count": 15,
     "metadata": {},
     "output_type": "execute_result"
    }
   ],
   "source": [
    "np.mean(arr)"
   ]
  },
  {
   "cell_type": "code",
   "execution_count": 16,
   "metadata": {},
   "outputs": [
    {
     "name": "stdout",
     "output_type": "stream",
     "text": [
      "2.8\n"
     ]
    }
   ],
   "source": [
    "m = np.sum(arr)/arr.size\n",
    "print(m)"
   ]
  },
  {
   "cell_type": "code",
   "execution_count": 17,
   "metadata": {},
   "outputs": [
    {
     "name": "stdout",
     "output_type": "stream",
     "text": [
      "0\n"
     ]
    }
   ],
   "source": [
    "max_i = np.argmax(arr)\n",
    "print(max_i)"
   ]
  },
  {
   "cell_type": "code",
   "execution_count": 18,
   "metadata": {},
   "outputs": [
    {
     "data": {
      "text/plain": [
       "8"
      ]
     },
     "execution_count": 18,
     "metadata": {},
     "output_type": "execute_result"
    }
   ],
   "source": [
    "np.max(arr)"
   ]
  },
  {
   "cell_type": "code",
   "execution_count": 19,
   "metadata": {},
   "outputs": [
    {
     "data": {
      "text/plain": [
       "8"
      ]
     },
     "execution_count": 19,
     "metadata": {},
     "output_type": "execute_result"
    }
   ],
   "source": [
    "arr[max_i]"
   ]
  },
  {
   "cell_type": "code",
   "execution_count": 20,
   "metadata": {},
   "outputs": [
    {
     "name": "stdout",
     "output_type": "stream",
     "text": [
      "[[2 4 2]\n",
      " [2 1 1]\n",
      " [3 2 0]\n",
      " [0 6 2]]\n"
     ]
    }
   ],
   "source": [
    "M = np.array([[2, 4, 2], [2, 1, 1], [3, 2, 0], [0, 6, 2]])\n",
    "print(M)"
   ]
  },
  {
   "cell_type": "code",
   "execution_count": 21,
   "metadata": {},
   "outputs": [
    {
     "data": {
      "text/plain": [
       "array([ 7, 13,  5])"
      ]
     },
     "execution_count": 21,
     "metadata": {},
     "output_type": "execute_result"
    }
   ],
   "source": [
    "np.sum(M, axis=0)"
   ]
  },
  {
   "cell_type": "code",
   "execution_count": 22,
   "metadata": {},
   "outputs": [
    {
     "data": {
      "text/plain": [
       "array([8, 4, 5, 8])"
      ]
     },
     "execution_count": 22,
     "metadata": {},
     "output_type": "execute_result"
    }
   ],
   "source": [
    "np.sum(M, axis=1)"
   ]
  },
  {
   "cell_type": "code",
   "execution_count": 23,
   "metadata": {},
   "outputs": [
    {
     "data": {
      "text/plain": [
       "array([0.51007581, 0.90159506, 0.3403946 ])"
      ]
     },
     "execution_count": 23,
     "metadata": {},
     "output_type": "execute_result"
    }
   ],
   "source": [
    "np.random.rand(3)"
   ]
  },
  {
   "cell_type": "code",
   "execution_count": 24,
   "metadata": {},
   "outputs": [
    {
     "data": {
      "text/plain": [
       "array([[0.76977452, 0.45222096, 0.62020794, 0.57281376],\n",
       "       [0.28730764, 0.07329525, 0.82405796, 0.42560037]])"
      ]
     },
     "execution_count": 24,
     "metadata": {},
     "output_type": "execute_result"
    }
   ],
   "source": [
    "np.random.rand(2, 4)"
   ]
  },
  {
   "cell_type": "code",
   "execution_count": 25,
   "metadata": {},
   "outputs": [],
   "source": [
    "def factorial(N):\n",
    "    prod = 1\n",
    "    for i in range(2, N+1):\n",
    "        prod *= i\n",
    "\n",
    "    return prod"
   ]
  },
  {
   "cell_type": "code",
   "execution_count": 26,
   "metadata": {},
   "outputs": [],
   "source": [
    "def cos_taylor(N, x):\n",
    "    y = np.zeros(len(x))\n",
    "    for j in range(0, N+1):\n",
    "        y += ((-1)**j * (x)**(2*j)/ factorial(2*j))\n",
    "    return y"
   ]
  },
  {
   "cell_type": "code",
   "execution_count": 27,
   "metadata": {},
   "outputs": [
    {
     "data": {
      "text/plain": [
       "[<matplotlib.lines.Line2D at 0x27f7ba2b130>]"
      ]
     },
     "execution_count": 27,
     "metadata": {},
     "output_type": "execute_result"
    },
    {
     "data": {
      "image/png": "[encoded data removed]",
      "text/plain": [
       "<Figure size 640x480 with 1 Axes>"
      ]
     },
     "metadata": {},
     "output_type": "display_data"
    }
   ],
   "source": [
    "x = np.linspace(-1, 3, 1000)\n",
    "degree4_taylor = cos_taylor(4, x)\n",
    "plt.plot(x, degree4_taylor, c = 'C1', label = 'Degree 4')\n"
   ]
  },
  {
   "cell_type": "code",
   "execution_count": 28,
   "metadata": {},
   "outputs": [],
   "source": [
    "from time import time"
   ]
  },
  {
   "cell_type": "code",
   "execution_count": 31,
   "metadata": {},
   "outputs": [],
   "source": [
    "def bisection(f, a, b, N):\n",
    "    if f(a)*f(b) >= 0:\n",
    "        raise ValueError(\"Bisection method fails\")\n",
    "\n",
    "    a_n = a ; b_n = b\n",
    "\n",
    "    for n in range(1, N+1):\n",
    "        m_n = (a_n+b_n)/2\n",
    "        f_m_n = f(m_n)\n",
    "        if f(a_n)*f_m_n < 0:\n",
    "            a_n = a_n ; b_n = m_n\n",
    "\n",
    "        elif f(b_n)*f_m_n < 0:\n",
    "            a_n = m_n; b_n = b_n\n",
    "\n",
    "        elif f_m_n == 0:\n",
    "            print(\"Found exact solution\")\n",
    "            return m_n\n",
    "\n",
    "        else:\n",
    "            print(\"Bisction method fails\")\n",
    "            return None\n",
    "\n",
    "    return (a_n+b_n)/2"
   ]
  },
  {
   "cell_type": "code",
   "execution_count": 32,
   "metadata": {},
   "outputs": [
    {
     "ename": "ValueError",
     "evalue": "Bisection method fails",
     "output_type": "error",
     "traceback": [
      "\u001b[1;31m---------------------------------------------------------------------------\u001b[0m",
      "\u001b[1;31mValueError\u001b[0m                                Traceback (most recent call last)",
      "\u001b[1;32mc:\\Users\\fkrkt\\Math\\science_dnn\\practice.ipynb 셀 30\u001b[0m in \u001b[0;36m<cell line: 2>\u001b[1;34m()\u001b[0m\n\u001b[0;32m      <a href='vscode-notebook-cell:/c%3A/Users/fkrkt/Math/science_dnn/practice.ipynb#X41sZmlsZQ%3D%3D?line=0'>1</a>\u001b[0m f \u001b[39m=\u001b[39m \u001b[39mlambda\u001b[39;00m x: x\n\u001b[1;32m----> <a href='vscode-notebook-cell:/c%3A/Users/fkrkt/Math/science_dnn/practice.ipynb#X41sZmlsZQ%3D%3D?line=1'>2</a>\u001b[0m bisection(f, \u001b[39m0\u001b[39;49m, \u001b[39m1\u001b[39;49m, \u001b[39m100\u001b[39;49m)\n",
      "\u001b[1;32mc:\\Users\\fkrkt\\Math\\science_dnn\\practice.ipynb 셀 30\u001b[0m in \u001b[0;36mbisection\u001b[1;34m(f, a, b, N)\u001b[0m\n\u001b[0;32m      <a href='vscode-notebook-cell:/c%3A/Users/fkrkt/Math/science_dnn/practice.ipynb#X41sZmlsZQ%3D%3D?line=0'>1</a>\u001b[0m \u001b[39mdef\u001b[39;00m \u001b[39mbisection\u001b[39m(f, a, b, N):\n\u001b[0;32m      <a href='vscode-notebook-cell:/c%3A/Users/fkrkt/Math/science_dnn/practice.ipynb#X41sZmlsZQ%3D%3D?line=1'>2</a>\u001b[0m     \u001b[39mif\u001b[39;00m f(a)\u001b[39m*\u001b[39mf(b) \u001b[39m>\u001b[39m\u001b[39m=\u001b[39m \u001b[39m0\u001b[39m:\n\u001b[1;32m----> <a href='vscode-notebook-cell:/c%3A/Users/fkrkt/Math/science_dnn/practice.ipynb#X41sZmlsZQ%3D%3D?line=2'>3</a>\u001b[0m         \u001b[39mraise\u001b[39;00m \u001b[39mValueError\u001b[39;00m(\u001b[39m\"\u001b[39m\u001b[39mBisection method fails\u001b[39m\u001b[39m\"\u001b[39m)\n\u001b[0;32m      <a href='vscode-notebook-cell:/c%3A/Users/fkrkt/Math/science_dnn/practice.ipynb#X41sZmlsZQ%3D%3D?line=4'>5</a>\u001b[0m     a_n \u001b[39m=\u001b[39m a ; b_n \u001b[39m=\u001b[39m b\n\u001b[0;32m      <a href='vscode-notebook-cell:/c%3A/Users/fkrkt/Math/science_dnn/practice.ipynb#X41sZmlsZQ%3D%3D?line=6'>7</a>\u001b[0m     \u001b[39mfor\u001b[39;00m n \u001b[39min\u001b[39;00m \u001b[39mrange\u001b[39m(\u001b[39m1\u001b[39m, N\u001b[39m+\u001b[39m\u001b[39m1\u001b[39m):\n",
      "\u001b[1;31mValueError\u001b[0m: Bisection method fails"
     ]
    }
   ],
   "source": [
    "f = lambda x: x\n",
    "bisection(f, 0, 1, 100)"
   ]
  },
  {
   "cell_type": "code",
   "execution_count": 33,
   "metadata": {},
   "outputs": [],
   "source": [
    "f = lambda x : x**2 - x -1\n",
    "approx_phi = bisection(f, 1, 2, 25)"
   ]
  },
  {
   "cell_type": "code",
   "execution_count": 34,
   "metadata": {},
   "outputs": [],
   "source": [
    "def secant(f, a, b, N):\n",
    "    if f(a)*f(b) >= 0:\n",
    "        raise Exception(\"Secant method fails\")\n",
    "\n",
    "    for n in range(1, N+1):\n",
    "        x0 = a - f(a)*(b-a)/(f(b)-f(a))\n",
    "        if f(x0) == 0:\n",
    "            return x0\n",
    "\n",
    "        elif f(a)*f(x0) < 0:\n",
    "            b = x0\n",
    "        \n",
    "        elif f(b)*f(x0) < 0:\n",
    "            a = x0\n",
    "\n",
    "        else:\n",
    "            raise Exception(\"Secant method fails at {} iterations\".format(n))\n",
    "\n",
    "    return a - f(a)*(b-a)/(f(b)-f(a))"
   ]
  },
  {
   "cell_type": "code",
   "execution_count": 35,
   "metadata": {},
   "outputs": [],
   "source": [
    "p = lambda x: x**3 - x**2 - 1"
   ]
  },
  {
   "cell_type": "code",
   "execution_count": 36,
   "metadata": {},
   "outputs": [
    {
     "name": "stdout",
     "output_type": "stream",
     "text": [
      "-1\n"
     ]
    }
   ],
   "source": [
    "print(p(1))"
   ]
  },
  {
   "cell_type": "code",
   "execution_count": 37,
   "metadata": {},
   "outputs": [
    {
     "name": "stdout",
     "output_type": "stream",
     "text": [
      "1.4655712311394433\n"
     ]
    }
   ],
   "source": [
    "approx = secant(p, 1, 2, 20)\n",
    "print(approx)"
   ]
  },
  {
   "cell_type": "code",
   "execution_count": 38,
   "metadata": {},
   "outputs": [],
   "source": [
    "def newton(f, Df, x0, epsilon, max_iter):\n",
    "    xn = x0\n",
    "    for n in range(0, max_iter):\n",
    "        fxn = f(xn)\n",
    "        if abs(fxn) < epsilon:\n",
    "            print(\"Found solution after\", n, \"iterations.\")\n",
    "            return xn\n",
    "\n",
    "        Dfxn = Df(xn)\n",
    "        if DFxn == 0:\n",
    "            print(\"Zero derivative. No solution found.\")\n",
    "            return None\n",
    "\n",
    "        xn -= fxn/Dfxn\n",
    "\n",
    "    print(\"Exceed maximum iterations. No solution found.\")\n",
    "    return None"
   ]
  },
  {
   "cell_type": "code",
   "execution_count": 39,
   "metadata": {},
   "outputs": [
    {
     "data": {
      "image/png": "[encoded data removed]",
      "text/plain": [
       "<Figure size 640x480 with 1 Axes>"
      ]
     },
     "metadata": {},
     "output_type": "display_data"
    }
   ],
   "source": [
    "f = lambda x: np.sin(0.2*x) + np.sin(2*x) + 1\n",
    "\n",
    "x = np.linspace(0, 2*np.pi, 100)\n",
    "y = f(x)\n",
    "plt.plot(x, y)\n",
    "\n",
    "X = np.linspace(np.pi/2, 3*np.pi/2, 100)\n",
    "Y = f(X)\n",
    "plt.fill_between(X, Y)\n",
    "plt.xticks([np.pi/2, 3*np.pi/2], [\"$\\pi/2 $\", \"$ 3\\pi/2$\"]) ; plt.yticks([])\n",
    "plt.show()"
   ]
  },
  {
   "cell_type": "code",
   "execution_count": 43,
   "metadata": {},
   "outputs": [
    {
     "data": {
      "image/png": "[encoded data removed]",
      "text/plain": [
       "<Figure size 1500x500 with 3 Axes>"
      ]
     },
     "metadata": {},
     "output_type": "display_data"
    }
   ],
   "source": [
    "f = lambda x : 1/(1+x**2)\n",
    "a = 0 ; b = 5 ; N =10\n",
    "n = 10\n",
    "\n",
    "x = np.linspace(a, b, N+1)\n",
    "y = f(x)\n",
    "\n",
    "X = np.linspace(a, b, n*N+1)\n",
    "Y = f(X)\n",
    "\n",
    "plt.figure(figsize = (15, 5))\n",
    "\n",
    "plt.subplot(1, 3, 1)\n",
    "plt.plot(X, Y, 'b')\n",
    "x_left = x[:-1] ; y_left = y[:-1]\n",
    "plt.plot(x_left, y_left, 'b.', markersize = 10)\n",
    "plt.bar(x_left, y_left, width=(b-a)/N, alpha=0.2, align='edge', edgecolor='b')\n",
    "plt.title(\"Left Riemann Sum, N = {}\".format(N))\n",
    "\n",
    "plt.subplot(1, 3, 2)\n",
    "plt.plot(X, Y, 'b')\n",
    "x_mid = (x[:-1]+x[1:])/2 ; y_mid = f(x_mid)\n",
    "plt.plot(x_mid, y_mid, 'b.', markersize=10)\n",
    "plt.bar(x_mid, y_mid, width=(b-a)/N, alpha=0.2, edgecolor='b')\n",
    "plt.title(\"Midpoint Riemann Sum, N = {}\".format(N))\n",
    "\n",
    "plt.subplot(1, 3, 3)\n",
    "plt.plot(X, Y, 'b')\n",
    "x_right = x[1:] \n",
    "y_right = y[1:]\n",
    "plt.plot(x_right, y_right, 'b.', markersize=10)\n",
    "plt.bar(x_right, y_right, width=(b-a)/N, align='edge', alpha=0.2, edgecolor='b')\n",
    "plt.title(\"Rightpoint Riemann Sum, N = {}\".format(N))\n",
    "\n",
    "plt.show()"
   ]
  },
  {
   "cell_type": "code",
   "execution_count": 44,
   "metadata": {},
   "outputs": [
    {
     "name": "stdout",
     "output_type": "stream",
     "text": [
      "Partition with 10 subintervals.\n",
      "Left Riemann sum: 1.613488696614725\n",
      "Midpoint Riemann Sum: 1.373543428316664\n",
      "Right Riemann Sum: 1.1327194658454942\n"
     ]
    }
   ],
   "source": [
    "dx = (b-a)/N\n",
    "x_left = np.linspace(a, b-dx, N)\n",
    "x_midpoint = np.linspace(dx/2, b-dx/2, N)\n",
    "x_right = np.linspace(dx, b, N)\n",
    "\n",
    "print(\"Partition with\", N, \"subintervals.\")\n",
    "left_riemann_sum = np.sum(f(x_left)*dx)\n",
    "print(\"Left Riemann sum:\", left_riemann_sum)\n",
    "# print(x_left)\n",
    "\n",
    "midpoint_riemann_sum = np.sum(f(x_midpoint) * dx)\n",
    "print(\"Midpoint Riemann Sum:\", midpoint_riemann_sum)\n",
    "# print(x_midpoint)\n",
    "\n",
    "right_riemann_sum = np.sum(f(x_right)*dx)\n",
    "print(\"Right Riemann Sum:\", right_riemann_sum)\n",
    "# print(x_right)"
   ]
  },
  {
   "cell_type": "code",
   "execution_count": 45,
   "metadata": {},
   "outputs": [],
   "source": [
    "def riemann_sum(f, a, b, N, method='midpoint'):\n",
    "    dx = (b-a)/N\n",
    "    x = np.linspace(a, b, N+1)\n",
    "\n",
    "    if method == \"left\":\n",
    "        x_left = x[:-1]\n",
    "        return np.sum(f(x_left)*dx)\n",
    "\n",
    "    elif method == \"right\":\n",
    "        x_right = x[1:]\n",
    "        return np.sum(f(x_right)*dx)\n",
    "\n",
    "    elif method == \"midpoint\":\n",
    "        x_mid = (x[:-1]+x[1:])/2\n",
    "        return np.sum(f(x_mid)*dx)\n",
    "\n",
    "    else:\n",
    "        raise ValueError(\"Type 'left', 'right', or 'midpoint'.\")"
   ]
  },
  {
   "cell_type": "code",
   "execution_count": 46,
   "metadata": {},
   "outputs": [
    {
     "data": {
      "text/plain": [
       "1.0000102809119054"
      ]
     },
     "execution_count": 46,
     "metadata": {},
     "output_type": "execute_result"
    }
   ],
   "source": [
    "riemann_sum(np.sin, 0, np.pi/2, 100)"
   ]
  },
  {
   "cell_type": "code",
   "execution_count": 47,
   "metadata": {},
   "outputs": [
    {
     "data": {
      "text/plain": [
       "1.007833419873582"
      ]
     },
     "execution_count": 47,
     "metadata": {},
     "output_type": "execute_result"
    }
   ],
   "source": [
    "riemann_sum(np.sin, 0, np.pi/2, 100, 'right')"
   ]
  },
  {
   "cell_type": "code",
   "execution_count": 48,
   "metadata": {},
   "outputs": [
    {
     "data": {
      "text/plain": [
       "0.992125456605633"
      ]
     },
     "execution_count": 48,
     "metadata": {},
     "output_type": "execute_result"
    }
   ],
   "source": [
    "riemann_sum(np.sin, 0, np.pi/2, 100, 'left')"
   ]
  },
  {
   "cell_type": "code",
   "execution_count": null,
   "metadata": {},
   "outputs": [],
   "source": []
  }
 ],
 "metadata": {
  "kernelspec": {
   "display_name": "Python 3.10.4 ('science_dnn')",
   "language": "python",
   "name": "python3"
  },
  "language_info": {
   "codemirror_mode": {
    "name": "ipython",
    "version": 3
   },
   "file_extension": ".py",
   "mimetype": "text/x-python",
   "name": "python",
   "nbconvert_exporter": "python",
   "pygments_lexer": "ipython3",
   "version": "3.10.4"
  },
  "orig_nbformat": 4,
  "vscode": {
   "interpreter": {
    "hash": "c0f2ae45ca5b13b9dba64e90d12e7a2d503c99b3d3d62896f22c1678fa3ef761"
   }
  }
 },
 "nbformat": 4,
 "nbformat_minor": 2
}
