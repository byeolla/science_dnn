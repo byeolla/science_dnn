{
 "cells": [
  {
   "cell_type": "markdown",
   "metadata": {},
   "source": [
    "# Trapezoid Rule"
   ]
  },
  {
   "cell_type": "code",
   "execution_count": 1,
   "metadata": {},
   "outputs": [],
   "source": [
    "import numpy as np\n",
    "import matplotlib.pyplot as plt"
   ]
  },
  {
   "cell_type": "markdown",
   "metadata": {},
   "source": [
    "---\n",
    "\n",
    "**Theorem.** Let $T_N(f)$ denote the trapezoid rule\n",
    "\n",
    "$$\n",
    "T_N(f) = \\frac{\\Delta x}{2} \\sum_{i=1}^N (f(x_i) + f(x_{i-1}))\n",
    "$$\n",
    "\n",
    "where $\\Delta x = (b-a)/N$ and $x_i = a + i \\Delta x$. The error bound is\n",
    "\n",
    "$$\n",
    "E_N^T(f) = \\left| \\ \\int_a^b f(x) \\ dx - T_N(f) \\ \\right| \\leq \\frac{(b-a)^3}{12 N^2} K_2\n",
    "$$\n",
    "\n",
    "where $\\left| \\ f''(x) \\, \\right| \\leq K_2$ for all $x \\in [a,b]$.\n",
    "\n",
    "---"
   ]
  },
  {
   "cell_type": "markdown",
   "metadata": {},
   "source": [
    "## Exercises\n",
    "\n",
    "**Exercise 1.** Let $f(x) = x^x$ and note that\n",
    "\n",
    "Plot the function $f''(x)$ and use that information to compute $T_N(f)$ for the integral\n",
    "\n",
    "$$\n",
    "\\int_1^2 x^x \\, dx\n",
    "$$\n",
    "\n",
    "such that $E_N^T(f) \\leq 10^{-3}$. What is the actual smallest $N$ such that the trapezoid rule gives the estimate of $x^x$ to within $10^{-8}$?\n",
    "\n",
    "**Exercise 2.** Consider the integral\n",
    "\n",
    "$$\n",
    "\\int_0^1 \\ln(1+x^2) \\, dx\n",
    "$$\n",
    "\n",
    "\n",
    "Without plotting the functions $f(x)$, $f'(x)$, $f''(x)$ or $f'''(x)$, find a value $N$ such that $E_N^T(f) \\leq 10^{-6}$.\n",
    "\n",
    "**Exercise 3.**: A particle of mass $m$ moving through a fluid is subjected to viscous resistance $R(v)$, where $v$ is the particle's velocity.  Suppose that relationship between the resistance $R$, velocity $v$, and the time of travel is given by \n",
    "$$\n",
    "t = \\int_{v_{0}}^{v(t)} \\frac{m}{R(u)} du, \n",
    "$$\n",
    "where $v_{0} = v(0)$ is the intial velocity of the particle.  Now suppose that \n",
    "$$\n",
    "R(v) = -R_{\\infty}\\left(\\frac{2}{1 + e^{-v^2/v_{c}^{2}}}-1\\right).\n",
    "$$\n",
    "For a particle of mass $m=1 ~kg$ (kilograms), with $v_{0}=10 ~m/s$ (meters/second), and $v_{c} = 2 ~m/s$ and $R_{\\infty} = 3 ~kg ~m/s^{2}$, using the Trapezoid Method, find the approximate time necessary for the particle to slow to $v(t) = 5 ~ m/s$."
   ]
  },
  {
   "cell_type": "code",
   "execution_count": 4,
   "metadata": {},
   "outputs": [],
   "source": [
    "import numpy as np\n",
    "import matplotlib.pyplot as plt"
   ]
  },
  {
   "cell_type": "code",
   "execution_count": 5,
   "metadata": {},
   "outputs": [],
   "source": [
    "def trapezoid(f, a, b, N):\n",
    "    x = np.linspace(a, b, N+1)\n",
    "    y = f(x)\n",
    "    dx = (b-a)/N\n",
    "\n",
    "    y_left = y[:-1] ; y_right = y[1:]\n",
    "    trap = dx * (y_left + y_right) * 0.5\n",
    "    area = np.sum(trap)\n",
    "    return area\n"
   ]
  },
  {
   "cell_type": "markdown",
   "metadata": {},
   "source": [
    "f = lambda x:x**2\n",
    "a = 0; b=1; N=10\n",
    "trapezoid(f, a, b, N)"
   ]
  },
  {
   "cell_type": "code",
   "execution_count": 9,
   "metadata": {},
   "outputs": [
    {
     "data": {
      "image/png": "[encoded data removed]",
      "text/plain": [
       "<Figure size 640x480 with 1 Axes>"
      ]
     },
     "metadata": {},
     "output_type": "display_data"
    }
   ],
   "source": [
    "g = lambda x: (x**x)*((1+np.log(x))**2 + 1/x)\n",
    "x = np.linspace(1, 2, 10000)\n",
    "y = g(x)\n",
    "plt.plot(x, y)\n",
    "plt.show()"
   ]
  },
  {
   "cell_type": "code",
   "execution_count": 10,
   "metadata": {},
   "outputs": [
    {
     "data": {
      "text/plain": [
       "13.46698950015237"
      ]
     },
     "execution_count": 10,
     "metadata": {},
     "output_type": "execute_result"
    }
   ],
   "source": [
    "g(2)"
   ]
  },
  {
   "cell_type": "code",
   "execution_count": 33,
   "metadata": {},
   "outputs": [
    {
     "name": "stdout",
     "output_type": "stream",
     "text": [
      "33\n"
     ]
    }
   ],
   "source": [
    "# Setting\n",
    "f = lambda x:x**x\n",
    "a = 1; b = 2; N = int((1e3*(g(2)/12)) ** 0.5)\n",
    "print(N)\n",
    "approx = trapezoid(f, a, b, N)"
   ]
  },
  {
   "cell_type": "code",
   "execution_count": 34,
   "metadata": {},
   "outputs": [],
   "source": [
    "pseudo = trapezoid(f, a, b, 100000)"
   ]
  },
  {
   "cell_type": "code",
   "execution_count": 35,
   "metadata": {},
   "outputs": [
    {
     "data": {
      "text/plain": [
       "True"
      ]
     },
     "execution_count": 35,
     "metadata": {},
     "output_type": "execute_result"
    }
   ],
   "source": [
    "np.abs(approx - pseudo) < 1e-3"
   ]
  },
  {
   "cell_type": "markdown",
   "metadata": {},
   "source": [
    "## Exercises\n",
    "\n",
    "**Exercise 1.** Let $f(x) = x^x$ and note that\n",
    "\n",
    "Plot the function $f''(x)$ and use that information to compute $T_N(f)$ for the integral\n",
    "\n",
    "$$\n",
    "\\int_1^2 x^x \\, dx\n",
    "$$\n",
    "\n",
    "such that $E_N^T(f) \\leq 10^{-3}$. What is the actual smallest $N$ such that the trapezoid rule gives the estimate of $x^x$ to within $10^{-8}$?\n",
    "\n",
    "**Exercise 2.** Consider the integral\n",
    "\n",
    "$$\n",
    "\\int_0^1 \\ln(1+x^2) \\, dx\n",
    "$$\n",
    "\n",
    "\n",
    "Without plotting the functions $f(x)$, $f'(x)$, $f''(x)$ or $f'''(x)$, find a value $N$ such that $E_N^T(f) \\leq 10^{-6}$.\n",
    "\n",
    "**Exercise 3.**: A particle of mass $m$ moving through a fluid is subjected to viscous resistance $R(v)$, where $v$ is the particle's velocity.  Suppose that relationship between the resistance $R$, velocity $v$, and the time of travel is given by \n",
    "$$\n",
    "t = \\int_{v_{0}}^{v(t)} \\frac{m}{R(u)} du, \n",
    "$$\n",
    "where $v_{0} = v(0)$ is the intial velocity of the particle.  Now suppose that \n",
    "$$\n",
    "R(v) = -R_{\\infty}\\left(\\frac{2}{1 + e^{-v^2/v_{c}^{2}}}-1\\right).\n",
    "$$\n",
    "For a particle of mass $m=1 ~kg$ (kilograms), with $v_{0}=10 ~m/s$ (meters/second), and $v_{c} = 2 ~m/s$ and $R_{\\infty} = 3 ~kg ~m/s^{2}$, using the Trapezoid Method, find the approximate time necessary for the particle to slow to $v(t) = 5 ~ m/s$."
   ]
  },
  {
   "cell_type": "code",
   "execution_count": 41,
   "metadata": {},
   "outputs": [],
   "source": [
    "R = lambda x: 1/(- 3*((2/(1+np.exp((-x**2)*0.25))-1)))\n"
   ]
  },
  {
   "cell_type": "code",
   "execution_count": 43,
   "metadata": {},
   "outputs": [
    {
     "data": {
      "text/plain": [
       "1.667148015422322"
      ]
     },
     "execution_count": 43,
     "metadata": {},
     "output_type": "execute_result"
    }
   ],
   "source": [
    "trapezoid(R, 10, 5, 10000000)"
   ]
  },
  {
   "cell_type": "code",
   "execution_count": 45,
   "metadata": {},
   "outputs": [
    {
     "data": {
      "image/png": "[encoded data removed]",
      "text/plain": [
       "<Figure size 640x480 with 1 Axes>"
      ]
     },
     "metadata": {},
     "output_type": "display_data"
    }
   ],
   "source": [
    "T = lambda x : np.log(1+x**2)\n",
    "dT = lambda x: 2*x/(1+x**2)\n",
    "ddT = lambda x: - 2*(x**2-1)/(1+x**2)**2\n",
    "dddT = lambda x: 4*x*(x**2-3)/((1+x**2)**3)\n",
    "y = T(x); dy = dT(x) ; ddy = ddT(x) ; dddy = dddT(x)\n",
    "plt.plot(x,y, label='y', color = 'C1')\n",
    "plt.plot(x, dy, label= 'dy', color ='C2')\n",
    "plt.plot(x, ddy, label='ddy', color = 'C3')\n",
    "plt.plot(x, dddy, label='dddy', color = 'C4')\n",
    "plt.legend()\n",
    "plt.show()"
   ]
  },
  {
   "cell_type": "code",
   "execution_count": null,
   "metadata": {},
   "outputs": [],
   "source": []
  }
 ],
 "metadata": {
  "kernelspec": {
   "display_name": "Python 3.7.13 ('science_dnn')",
   "language": "python",
   "name": "python3"
  },
  "language_info": {
   "codemirror_mode": {
    "name": "ipython",
    "version": 3
   },
   "file_extension": ".py",
   "mimetype": "text/x-python",
   "name": "python",
   "nbconvert_exporter": "python",
   "pygments_lexer": "ipython3",
   "version": "3.7.13"
  },
  "vscode": {
   "interpreter": {
    "hash": "c0f2ae45ca5b13b9dba64e90d12e7a2d503c99b3d3d62896f22c1678fa3ef761"
   }
  }
 },
 "nbformat": 4,
 "nbformat_minor": 4
}
