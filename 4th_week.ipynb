{
 "cells": [
  {
   "cell_type": "markdown",
   "metadata": {},
   "source": [
    "# Definite Integrals\n",
    "The definite integral of a function $f(x)$ over an interval $[a,b]$, is the limit\n",
    "$$\\int_{a}^{b}f(x)dx= \\lim_{N \\rightarrow \\infty} \\sum_{i=1}^{N} f(x_{i}^{*})(x_{i}-x_{i-1}), x_{i}^{*} \\in [x_{i-1}, x_{i}] $$\n",
    "where, for each $N$, \n",
    "$$x_{0}=a<x_{1}<\\cdots < x_{N} =b$$\n",
    "is a partiton of $[a,b]$ with $N$ subintervals and the values $x_{i}^{*} \\in [x_{i-1}, x_{i}]$ chosen in each subinterval arbitrary.\n",
    "\n",
    "The definite integral represents the (net) area under the curve of the graph of $ y=f(x) $ on the interval $[a,b]$.\n",
    "$$\\int_{a}^{b}f(x)dx=\\text{(net) area under the curve} \\quad y =f(x)  \\text{on} [a,b]$$\n",
    "\n",
    "The ter \"net\" means that area above the $x$-axis is positive and the area under the $x$-axis coutns as negative area. For example, we can visualize the integral:\n",
    "$$\\int_{\\pi/2}^{3\\pi/2}\\left(\\sin(0.2x) + \\sin(2x) + 1\\right) dx"
   ]
  },
  {
   "cell_type": "code",
   "execution_count": 1,
   "metadata": {},
   "outputs": [
    {
     "data": {
      "image/png": "[encoded data removed]",
      "text/plain": [
       "<Figure size 640x480 with 1 Axes>"
      ]
     },
     "metadata": {},
     "output_type": "display_data"
    }
   ],
   "source": [
    "import numpy as np\n",
    "import matplotlib.pyplot as plt\n",
    "\n",
    "f = lambda x: np.sin(0.2*x) + np.sin(2*x) + 1\n",
    "\n",
    "x = np.linspace(0, 2* np.pi, 100)\n",
    "y = f(x)\n",
    "plt.plot(x, y)\n",
    "\n",
    "X = np.linspace(np.pi/2, 3*np.pi/2, 100)\n",
    "Y = f(X)\n",
    "plt.fill_between(X, Y)\n",
    "plt.xticks([np.pi/2, 3*np.pi/2], ['$\\pi/2$', '$3\\pi/2$']) ; plt.yticks([])\n",
    "plt.xlim([0, 2*np.pi]); plt.ylim([0,3]);\n",
    "plt.show()"
   ]
  },
  {
   "cell_type": "markdown",
   "metadata": {},
   "source": [
    "In our introductory calculus courses, we focus on integrals which we can solve exactly by the Fundamental Theorem of Calculus such as \n",
    "$$\\int_{0}^{\\pi/2} \\cos{x}dx = \\sin{\\pi/2} - \\sin{0} = 1$$\n",
    "However, most definite integrals are impossible to solve exactly. For example, the famous error function in probability $$erf(x) = \\frac{2}{\\sqrt{\\pi}}\\int_{0}^{\\infty}e^{-t^{2}}dt$$\n",
    "is a definite integral for which tehre is no explicit formula.\n",
    "\n",
    "The idea behind numerical integration is to use simple geometric shapes to approximate the area under the curve $y=f(x)$ to setimate definite integrals. In this section, we explore the simplest methods of numerical integration: Riemann sums, the trapezoid rule and Simpson's rule."
   ]
  },
  {
   "cell_type": "markdown",
   "metadata": {},
   "source": [
    "## Riemann Sums"
   ]
  },
  {
   "cell_type": "code",
   "execution_count": 2,
   "metadata": {},
   "outputs": [],
   "source": [
    "import numpy as np\n",
    "import matplotlib.pyplot as plt"
   ]
  },
  {
   "cell_type": "markdown",
   "metadata": {},
   "source": [
    "### Definition\n",
    "A Riemann sum of a function $f(x)$ over a partition $$x_{0}=a<x_{1}<\\cdots < x_{N-1} <x_{n} =b$$\n",
    "is a sum of the form $$\\sum_{i=1}^{N}f(x_{i}^{*})(x_{i}-x_{i-1}), x_{i}^{*} \\in [x_{i-1}, x_{i}]$$ where each value $x_{i}^{*} \\in [x_{i-1},x_{i}]$ in each subinterval is arbitrary.\n",
    "\n",
    "Riemann sums are important because they provide an easy way to approximate a definite integral $$\\int_{a}^{b}f(x)dx \\approx \\sum_{i=1}{N} f(x_{i}^{*})(x_{i}-x_{i-1}), x_{i}^{*} \\in [x_{i-1},x_{i}]$$\n",
    "\n",
    "Notice that the product $f(x_{i}^{*})(x_{i}-x_{i-1})$ for each i is the area of a rectangle of height $f(x_{i}^{*})$ and width $x_{i}-x_{i-1}$. We can think of a Riemann sum as the area of\n",
    "$N$ rectangles with heights determined by the graph of $y=f(x)$.\n",
    "\n",
    "The value $x_{i}^{*}$ chosen in each subinterval is arbitrary however there are certain obvious choices:\n",
    "* A *left* Riemann sum is when each $x_{i}^{*}=x_{i-1}$ is the left endpoint of the subinterval $[x_{i-1},x_{i}]$\n",
    "* A *right* Riemann sum is when each $x_{i}^{*}=x_{i}$ is the right endpoint of the subinterval $[x_{i-1},x_{i}]$"
   ]
  },
  {
   "cell_type": "markdown",
   "metadata": {},
   "source": []
  }
 ],
 "metadata": {
  "kernelspec": {
   "display_name": "Python 3.7.13 ('science_dnn')",
   "language": "python",
   "name": "python3"
  },
  "language_info": {
   "codemirror_mode": {
    "name": "ipython",
    "version": 3
   },
   "file_extension": ".py",
   "mimetype": "text/x-python",
   "name": "python",
   "nbconvert_exporter": "python",
   "pygments_lexer": "ipython3",
   "version": "3.7.13"
  },
  "orig_nbformat": 4,
  "vscode": {
   "interpreter": {
    "hash": "c0f2ae45ca5b13b9dba64e90d12e7a2d503c99b3d3d62896f22c1678fa3ef761"
   }
  }
 },
 "nbformat": 4,
 "nbformat_minor": 2
}
