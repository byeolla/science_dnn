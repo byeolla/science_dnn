{
 "cells": [
  {
   "cell_type": "markdown",
   "id": "96bfb133",
   "metadata": {},
   "source": [
    "## RK4 Method\n",
    "\n",
    "Let an IVP be specified as follows:\n",
    "\n",
    "$$\\frac{dy}{dt} = f(t, y), \\quad y(t_0) = y_0.$$\n",
    "\n",
    "Then, the RK4 method is \n",
    "$$\n",
    "\\begin{align}\n",
    "y_{n+1} &= y_n + \\frac{1}{6}\\left(k_1 + 2k_2 + 2k_3 + k_4 \\right)h,\\\\\n",
    "t_{n+1} &= t_n + h \\\\\n",
    "\\end{align}\n",
    "$$\n",
    "where\n",
    "$$\n",
    "\\begin{align}\n",
    " k_1 &= \\ f(t_n, y_n), \\\\\n",
    " k_2 &= \\ f\\!\\left(t_n + \\frac{h}{2}, y_n + h\\frac{k_1}{2}\\right), \\\\ \n",
    " k_3 &= \\ f\\!\\left(t_n + \\frac{h}{2}, y_n + h\\frac{k_2}{2}\\right), \\\\\n",
    " k_4 &= \\ f\\!\\left(t_n + h, y_n + hk_3\\right).\n",
    " \\end{align}\n",
    "$$\n",
    "\n",
    "\n",
    "Here $y_{n+1}$ is the RK4 approximation of $y(t_{n+1})$, and the next value ($y_{n+1}$) is determined by the present value ($y_n$) plus the weighted average of four increments, where each increment is the product of the size of the interval, ''h'', and an estimated slope specified by function ''f'' on the right-hand side of the differential equation.\n",
    "\n",
    "In averaging the four slopes, greater weight is given to the slopes at the midpoint. If $f$ is independent of $y$, so that the differential equation is equivalent to a simple integral, then RK4 is Simpson's rule."
   ]
  },
  {
   "cell_type": "markdown",
   "id": "524f1652",
   "metadata": {},
   "source": [
    "## Problem\n",
    "\n",
    "Consider $y' = y- t^2 + 1$ with $y(0) = 0.5$. The exact solution is $y = t^2 + 2t + 1 -\\frac{1}{2} e^t$.\n",
    "\n",
    "1. Write a code for the RK4 to find y(1).\n",
    "2. Let's verify the order of Heun's method experimentally by plotting the \"local truncation error\" for RK4 applied to the underlying equation. Use loglog plot to see the convergence."
   ]
  },
  {
   "cell_type": "code",
   "execution_count": 5,
   "id": "53c0aa86",
   "metadata": {},
   "outputs": [],
   "source": [
    "import numpy as np\n",
    "import matplotlib.pyplot as plt"
   ]
  },
  {
   "cell_type": "code",
   "execution_count": 6,
   "id": "7a395600",
   "metadata": {},
   "outputs": [],
   "source": [
    "f = lambda t,y : y - t**2 + 1\n",
    "h = 0.1, 0.05, 0.025, 0.01\n",
    "exact = lambda t: t**2 + 2*t +1 -0.5 * np.exp(t)"
   ]
  },
  {
   "cell_type": "code",
   "execution_count": 12,
   "id": "b428352f",
   "metadata": {},
   "outputs": [],
   "source": [
    "def RK4(f, y0, t0, tf, h):\n",
    "    N = int((tf - t0)/h)\n",
    "    x = np.linspace(t0, tf, N+1)\n",
    "    y = np.zeros_like(x)\n",
    "    y[0] = y0\n",
    "    for i in range(len(x)-1):\n",
    "        k1 = f(x[i],y[i])\n",
    "        k2 = f(x[i] + 0.5*h, y[i] + 0.5*h*k1)\n",
    "        k3 = f(x[i] + 0.5*h, y[i] + 0.5*h*k2)\n",
    "        k4 = f(x[i] + h, y[i] + h*k3)\n",
    "        y[i+1] = y[i] + h*(k1+2*k2+2*k3+k4)/6\n",
    "\n",
    "    return x, y"
   ]
  },
  {
   "cell_type": "code",
   "execution_count": 13,
   "id": "0ee9f576",
   "metadata": {},
   "outputs": [
    {
     "name": "stdout",
     "output_type": "stream",
     "text": [
      "2.640856724185053\n",
      "2.6408590857704777\n"
     ]
    }
   ],
   "source": [
    "grid, approx = RK4(f, 0.5, 0, 1, 0.1)\n",
    "print(approx[-1])\n",
    "print(exact(1))"
   ]
  },
  {
   "cell_type": "code",
   "execution_count": 10,
   "id": "e6c65de4",
   "metadata": {},
   "outputs": [],
   "source": [
    "def odeHeun(f, t, y0):\n",
    "    y = np.zeros(len(t))\n",
    "    y[0]=y0\n",
    "    for n in range(0, len(t)-1):\n",
    "        h = t[n+1] - t[n]\n",
    "        k1 = f(t[n],y[n])\n",
    "        k2 = f(t[n+1], y[n]+k1*h)\n",
    "        y[n+1] = y[n] + (k1+k2)/2*h\n",
    "    return y"
   ]
  },
  {
   "cell_type": "code",
   "execution_count": 14,
   "id": "143debde",
   "metadata": {},
   "outputs": [],
   "source": [
    "heun = odeHeun(f, grid, 0.5)"
   ]
  },
  {
   "cell_type": "code",
   "execution_count": 15,
   "id": "6c3438b8",
   "metadata": {},
   "outputs": [
    {
     "name": "stdout",
     "output_type": "stream",
     "text": [
      "2.6347972869501346\n"
     ]
    }
   ],
   "source": [
    "print(heun[-1])"
   ]
  },
  {
   "cell_type": "code",
   "execution_count": 19,
   "id": "a3c8d499",
   "metadata": {},
   "outputs": [
    {
     "name": "stdout",
     "output_type": "stream",
     "text": [
      "[1.65962176e-07 5.19740462e-09 1.66600067e-12 5.20694599e-14\n",
      " 1.11022302e-16]\n"
     ]
    },
    {
     "data": {
      "image/png": "[encoded data removed]",
      "text/plain": [
       "<Figure size 640x480 with 1 Axes>"
      ]
     },
     "metadata": {},
     "output_type": "display_data"
    },
    {
     "name": "stdout",
     "output_type": "stream",
     "text": [
      "4.996919291841246\n",
      "4.998943208367904\n",
      "4.999807730386747\n",
      "3.821584368634736\n"
     ]
    }
   ],
   "source": [
    "y0 = 0.5;\n",
    "h = [0.1,0.05,0.01,0.005,0.001]\n",
    "E = np.zeros(len(h))\n",
    "for n in range(0,len(h)):\n",
    "    _,y = RK4(f, y0, 0, 1,h[n])\n",
    "    t = h[n]\n",
    "    y1 = y[1]\n",
    "    y1_exact = t**2 + 2*t +1 -0.5 * np.exp(t)\n",
    "    E[n] = np.abs(y1_exact - y1)\n",
    "print(E)\n",
    "plt.loglog(h,E,'b.-'), plt.grid(True)\n",
    "plt.title(\"RK4 Method, $y'=y-t^{2}+1,y(0)=0.5$\")\n",
    "plt.xlabel(\"Step Size, $h$\"), plt.ylabel(\"Local Truncation Error, $E$\")\n",
    "plt.show()\n",
    "\n",
    "for j in range(len(h)-1):\n",
    "    print((np.log(E[j+1]) - np.log(E[j]))/(np.log(h[j+1]) - np.log(h[j])))"
   ]
  },
  {
   "cell_type": "code",
   "execution_count": null,
   "id": "7801e46d",
   "metadata": {},
   "outputs": [],
   "source": []
  }
 ],
 "metadata": {
  "kernelspec": {
   "display_name": "Python 3.10.4 ('science_dnn')",
   "language": "python",
   "name": "python3"
  },
  "language_info": {
   "codemirror_mode": {
    "name": "ipython",
    "version": 3
   },
   "file_extension": ".py",
   "mimetype": "text/x-python",
   "name": "python",
   "nbconvert_exporter": "python",
   "pygments_lexer": "ipython3",
   "version": "3.10.4"
  },
  "vscode": {
   "interpreter": {
    "hash": "c0f2ae45ca5b13b9dba64e90d12e7a2d503c99b3d3d62896f22c1678fa3ef761"
   }
  }
 },
 "nbformat": 4,
 "nbformat_minor": 5
}
