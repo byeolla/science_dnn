{
 "cells": [
  {
   "cell_type": "markdown",
   "metadata": {},
   "source": [
    "# Newton's Method\n",
    "\n",
    "Let $f(x)$ be a differentiable function. If $x_0$ is near a solution of $f(x)=0$ then we can approximate $f(x)$ by the tangent line at $x_0$ and compute the $x$-intercept of the tangent line. The equation of the tangent line at $x_0$ is\n",
    "\n",
    "$$\n",
    "y = f'(x_0)(x - x_0) + f(x_0)\n",
    "$$\n",
    "\n",
    "The $x$-intercept is the solution $x_1$ of the equation\n",
    "\n",
    "$$\n",
    "0 = f'(x_0)(x_1 - x_0) + f(x_0)\n",
    "$$\n",
    "\n",
    "and we solve for $x_1$\n",
    "\n",
    "$$\n",
    "x_1 = x_0 - \\frac{f(x_0)}{f'(x_0)}\n",
    "$$\n",
    "\n",
    "If we implement this procedure repeatedly, then we obtain a sequence given by the recursive formula\n",
    "\n",
    "$$\n",
    "x_{n+1} = x_n - \\frac{f(x_n)}{f'(x_n)}\n",
    "$$\n",
    "\n",
    "which (potentially) converges to a solution of the equation $f(x)=0$."
   ]
  },
  {
   "cell_type": "markdown",
   "metadata": {},
   "source": [
    "## Implementation\n",
    "\n",
    "Let's write a function called `newton` which takes 5 input parameters `f`, `Df`, `x0`, `epsilon` and `max_iter` and returns an approximation of a solution of $f(x)=0$ by Newton's method. The function may terminate in 3 ways:\n",
    "\n",
    "1. If `abs(f(xn)) < epsilon`, the algorithm has found an approximate solution and returns `xn`.\n",
    "2. If `f'(xn) == 0`, the algorithm stops and returns `None`.\n",
    "3. If the number of iterations exceed `max_iter`, the algorithm stops and returns `None`."
   ]
  },
  {
   "cell_type": "markdown",
   "metadata": {},
   "source": [
    "## Problem\n",
    "\n",
    "Let $p(x) = x^3 - x - 1$. The only real root of $p(x)$ is called the [plastic number](https://en.wikipedia.org/wiki/Plastic_number) and is given by\n",
    "\n",
    "$$\n",
    "\\frac{\\sqrt[3]{108 + 12\\sqrt{69}} + \\sqrt[3]{108 - 12\\sqrt{69}}}{6}\n",
    "$$\n",
    "\n",
    "(1) Choose $x_0 = 1$ and implement 4 iterations of Newton's method to approximate the plastic number.\n",
    "\n",
    "(2) Use the exact value above to compute the absolute error after 4 iterations of Newton's method.\n",
    "\n",
    "(3) Starting with the subinterval $[1,2]$, how many iterations of the bisection method is required to achieve the same accuracy?"
   ]
  },
  {
   "cell_type": "code",
   "execution_count": 3,
   "metadata": {},
   "outputs": [],
   "source": [
    "import numpy as np"
   ]
  },
  {
   "cell_type": "code",
   "execution_count": 43,
   "metadata": {},
   "outputs": [],
   "source": [
    "f = lambda x:x**3 - x - 1\n",
    "df = lambda x:3*x**2 - 1\n",
    "x0 = 1\n",
    "true_sol = ((108+12*(69**0.5))**(1/3) + (108-12*(69**0.5))**(1/3))/6\n",
    "error_bound = 2**(-26)"
   ]
  },
  {
   "cell_type": "code",
   "execution_count": 44,
   "metadata": {},
   "outputs": [],
   "source": [
    "max_iter = 4\n"
   ]
  },
  {
   "cell_type": "code",
   "execution_count": 54,
   "metadata": {},
   "outputs": [],
   "source": [
    "def newton(f, df, x0, max_iter=None, accuracy=None, true_sol=None):\n",
    "    x = x0\n",
    "    if max_iter is not None:\n",
    "        for _ in range(max_iter):\n",
    "            try:\n",
    "                x -= f(x)/df(x)\n",
    "            except ZeroDivisionError:\n",
    "                print(\"zero divisor\")\n",
    "                return None\n",
    "        return x\n",
    "    \n",
    "    else:\n",
    "        iter = 0\n",
    "        while np.abs(x - true_sol)>accuracy:\n",
    "            iter += 1\n",
    "            x -= f(x)/df(x)\n",
    "        return x, iter    \n",
    "        "
   ]
  },
  {
   "cell_type": "code",
   "execution_count": 61,
   "metadata": {},
   "outputs": [
    {
     "data": {
      "text/plain": [
       "2.1675430783574257e-07"
      ]
     },
     "execution_count": 61,
     "metadata": {},
     "output_type": "execute_result"
    }
   ],
   "source": [
    "sol = newton(f, df, 1, max_iter = max_iter)\n",
    "np.abs(sol - true_sol)"
   ]
  },
  {
   "cell_type": "code",
   "execution_count": 56,
   "metadata": {},
   "outputs": [
    {
     "name": "stdout",
     "output_type": "stream",
     "text": [
      "1.3247179572447898 5\n"
     ]
    }
   ],
   "source": [
    "x, iter = newton(f, df, 1, accuracy=error_bound, true_sol=true_sol)\n",
    "print(x, iter)"
   ]
  },
  {
   "cell_type": "code",
   "execution_count": 57,
   "metadata": {},
   "outputs": [
    {
     "data": {
      "text/plain": [
       "1.4901161193847656e-08"
      ]
     },
     "execution_count": 57,
     "metadata": {},
     "output_type": "execute_result"
    }
   ],
   "source": [
    "error_bound"
   ]
  },
  {
   "cell_type": "code",
   "execution_count": null,
   "metadata": {},
   "outputs": [],
   "source": []
  }
 ],
 "metadata": {
  "kernelspec": {
   "display_name": "Python 3.10.4 ('science_dnn')",
   "language": "python",
   "name": "python3"
  },
  "language_info": {
   "codemirror_mode": {
    "name": "ipython",
    "version": 3
   },
   "file_extension": ".py",
   "mimetype": "text/x-python",
   "name": "python",
   "nbconvert_exporter": "python",
   "pygments_lexer": "ipython3",
   "version": "3.10.4"
  },
  "vscode": {
   "interpreter": {
    "hash": "3b5655a2a8c1a38d574ac6283bf55016e4bf8013b0575d01c2d272ed1f06bbbb"
   }
  }
 },
 "nbformat": 4,
 "nbformat_minor": 4
}
