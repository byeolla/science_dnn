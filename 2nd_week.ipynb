{
 "cells": [
  {
   "cell_type": "markdown",
   "metadata": {},
   "source": [
    "Fibonacci_squences"
   ]
  },
  {
   "cell_type": "code",
   "execution_count": 1,
   "metadata": {},
   "outputs": [
    {
     "name": "stdout",
     "output_type": "stream",
     "text": [
      "[1, 1, 2]\n",
      "[1, 1, 2, 3]\n",
      "[1, 1, 2, 3, 5]\n",
      "[1, 1, 2, 3, 5, 8]\n",
      "[1, 1, 2, 3, 5, 8, 13]\n",
      "[1, 1, 2, 3, 5, 8, 13, 21]\n",
      "[1, 1, 2, 3, 5, 8, 13, 21, 34]\n",
      "[1, 1, 2, 3, 5, 8, 13, 21, 34, 55]\n",
      "[1, 1, 2, 3, 5, 8, 13, 21, 34, 55, 89]\n",
      "[1, 1, 2, 3, 5, 8, 13, 21, 34, 55, 89, 144]\n",
      "[1, 1, 2, 3, 5, 8, 13, 21, 34, 55, 89, 144, 233]\n",
      "[1, 1, 2, 3, 5, 8, 13, 21, 34, 55, 89, 144, 233, 377]\n",
      "[1, 1, 2, 3, 5, 8, 13, 21, 34, 55, 89, 144, 233, 377, 610]\n"
     ]
    }
   ],
   "source": [
    "fibonacci_squences = [1, 1]\n",
    "for n in range(2, 15):\n",
    "    fibonacci_numbers = fibonacci_squences[n-2] + fibonacci_squences[n-1]\n",
    "    fibonacci_squences.append(fibonacci_numbers)\n",
    "    print(fibonacci_squences)"
   ]
  },
  {
   "cell_type": "markdown",
   "metadata": {},
   "source": [
    "Taylor expansion\n",
    "$e^{x} = \\sum_{k=0}^{\\infty} \\frac{x^{k}}{k!}$"
   ]
  },
  {
   "cell_type": "code",
   "execution_count": 2,
   "metadata": {},
   "outputs": [],
   "source": [
    "def factorial(N):\n",
    "    product = 1 \n",
    "    for n in range(2, N+1):\n",
    "        product *= n\n",
    "\n",
    "    return product"
   ]
  },
  {
   "cell_type": "code",
   "execution_count": 3,
   "metadata": {},
   "outputs": [
    {
     "data": {
      "text/plain": [
       "120"
      ]
     },
     "execution_count": 3,
     "metadata": {},
     "output_type": "execute_result"
    }
   ],
   "source": [
    "factorial(5)"
   ]
  },
  {
   "cell_type": "code",
   "execution_count": 4,
   "metadata": {},
   "outputs": [
    {
     "data": {
      "text/plain": [
       "2.7182818284590455"
      ]
     },
     "execution_count": 4,
     "metadata": {},
     "output_type": "execute_result"
    }
   ],
   "source": [
    "sum(1/factorial(k) for k in range(0, 101))"
   ]
  },
  {
   "cell_type": "markdown",
   "metadata": {},
   "source": [
    "#Searching for solutions\n",
    "we can use `for` loops to search for integer solutions of equations. For example, suppose we would like to find all representations of a positive integer $N$ as a sum of two squares. In other words we want to find all integer solutions $(x, y)$ of the equation:\n",
    "$$x^{2}+y^{2} = N$$\n",
    "Write a function called `reps_sum_squares` which takes an integer $N$ and finds all representations of $N$ as a sum of squares $x^{2}+y^{2}=N$ for $0\\leq x \\leq y$. The function returns the representations as a list of tuples. For example, if $N=50$, then $1^{2}+7^{2} = 50$ and $5^{2}+5^{2}=50$ and the function returns the list `[(1, 7), (5, 5)]`.\n",
    "\n",
    "Let's outline our approach before we write any code:\n",
    "1. Given $x\\leq y$, the largest positive value for $x$ is $\\sqrt{\\frac{N}{2}}$\n",
    "2. For $x \\leq \\sqrt{\\frac{N}{2}}$, the pair $(x, y)$ is a solution if $N-x^{2}$ is a square\n",
    "3. Define a helper function called `is_square` to test if an integer is square\n"
   ]
  },
  {
   "cell_type": "code",
   "execution_count": null,
   "metadata": {},
   "outputs": [],
   "source": [
    "def is_square(N):\n",
    "    return round(n**0.5)**2 == n\n",
    "\n",
    "def reps_sum_squares()    \n"
   ]
  }
 ],
 "metadata": {
  "kernelspec": {
   "display_name": "Python 3.9.13 ('base': conda)",
   "language": "python",
   "name": "python3"
  },
  "language_info": {
   "codemirror_mode": {
    "name": "ipython",
    "version": 3
   },
   "file_extension": ".py",
   "mimetype": "text/x-python",
   "name": "python",
   "nbconvert_exporter": "python",
   "pygments_lexer": "ipython3",
   "version": "3.9.13"
  },
  "orig_nbformat": 4,
  "vscode": {
   "interpreter": {
    "hash": "c8f13bd19e721180b848493884ccad17ca677e668322242d5ef98f9d74a4d055"
   }
  }
 },
 "nbformat": 4,
 "nbformat_minor": 2
}
